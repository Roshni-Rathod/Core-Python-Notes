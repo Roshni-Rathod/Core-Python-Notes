{
 "cells": [
  {
   "cell_type": "markdown",
   "id": "8aef7a8b",
   "metadata": {},
   "source": [
    "# Variables and Data types Practice questions"
   ]
  },
  {
   "cell_type": "markdown",
   "id": "a9bd411d",
   "metadata": {},
   "source": [
    "### Assign the value 10 to a variable x and print it ,"
   ]
  },
  {
   "cell_type": "code",
   "execution_count": 1,
   "id": "40551e14",
   "metadata": {},
   "outputs": [
    {
     "name": "stdout",
     "output_type": "stream",
     "text": [
      "10\n"
     ]
    }
   ],
   "source": [
    "x = 10 \n",
    "print (x)"
   ]
  },
  {
   "cell_type": "markdown",
   "id": "e810e7fb",
   "metadata": {},
   "source": [
    "### Assign value 5 ans 15 to variables a and b resp, and print them  "
   ]
  },
  {
   "cell_type": "code",
   "execution_count": 2,
   "id": "e6122824",
   "metadata": {},
   "outputs": [
    {
     "name": "stdout",
     "output_type": "stream",
     "text": [
      "5 15\n"
     ]
    }
   ],
   "source": [
    "a = 5\n",
    "b = 15 \n",
    "print(a, b)"
   ]
  },
  {
   "cell_type": "markdown",
   "id": "5d6d71c8",
   "metadata": {},
   "source": [
    "### assign the value of a to b , where a= 15 , and print both variables."
   ]
  },
  {
   "cell_type": "code",
   "execution_count": 3,
   "id": "f9dbff12",
   "metadata": {},
   "outputs": [
    {
     "name": "stdout",
     "output_type": "stream",
     "text": [
      "15 15\n"
     ]
    }
   ],
   "source": [
    "a = 15 \n",
    "b = a \n",
    "print (a, b)"
   ]
  },
  {
   "cell_type": "markdown",
   "id": "a0dc0aad",
   "metadata": {},
   "source": [
    "### Swap the value of variables p and q where p = 8 and q = 12 , then print them "
   ]
  },
  {
   "cell_type": "code",
   "execution_count": 4,
   "id": "d695f916",
   "metadata": {},
   "outputs": [
    {
     "name": "stdout",
     "output_type": "stream",
     "text": [
      "12\n",
      "8\n"
     ]
    }
   ],
   "source": [
    "p = 8\n",
    "q = 12 \n",
    "p,q= q,p\n",
    "print (p)\n",
    "print (q)"
   ]
  },
  {
   "cell_type": "markdown",
   "id": "9a34bfc7",
   "metadata": {},
   "source": [
    "### Assign values 5, 10 & 15 to variable a, b, and c resp , and print them "
   ]
  },
  {
   "cell_type": "code",
   "execution_count": 5,
   "id": "f1273594",
   "metadata": {},
   "outputs": [
    {
     "name": "stdout",
     "output_type": "stream",
     "text": [
      "5 10 15\n"
     ]
    }
   ],
   "source": [
    "a = 5\n",
    "b = 10 \n",
    "c = 15 \n",
    "print(a , b, c)"
   ]
  },
  {
   "cell_type": "markdown",
   "id": "a088fde7",
   "metadata": {},
   "source": [
    "### Assign the same value 20 to a , b and c and print them "
   ]
  },
  {
   "cell_type": "code",
   "execution_count": 6,
   "id": "7b8f7e08",
   "metadata": {},
   "outputs": [
    {
     "name": "stdout",
     "output_type": "stream",
     "text": [
      "20 20 20\n"
     ]
    }
   ],
   "source": [
    "a = 20 \n",
    "b = 20 \n",
    "c = 20 \n",
    "print (a, b, c)"
   ]
  },
  {
   "cell_type": "markdown",
   "id": "61a36f94",
   "metadata": {},
   "source": [
    "### Assign the value 20 to varible y and print its value and address."
   ]
  },
  {
   "cell_type": "code",
   "execution_count": 7,
   "id": "60f06d50",
   "metadata": {},
   "outputs": [
    {
     "name": "stdout",
     "output_type": "stream",
     "text": [
      "20\n",
      "2182622806864\n"
     ]
    }
   ],
   "source": [
    "y = 20 \n",
    "print(y)\n",
    "print(id(y))"
   ]
  },
  {
   "cell_type": "markdown",
   "id": "924a49c4",
   "metadata": {},
   "source": [
    "### Assign the value 30 to varible z , print it ans then delet the varible."
   ]
  },
  {
   "cell_type": "code",
   "execution_count": 8,
   "id": "30f2b6cf",
   "metadata": {},
   "outputs": [
    {
     "name": "stdout",
     "output_type": "stream",
     "text": [
      "30\n"
     ]
    },
    {
     "ename": "NameError",
     "evalue": "name 'z' is not defined",
     "output_type": "error",
     "traceback": [
      "\u001b[1;31m---------------------------------------------------------------------------\u001b[0m",
      "\u001b[1;31mNameError\u001b[0m                                 Traceback (most recent call last)",
      "Cell \u001b[1;32mIn[8], line 4\u001b[0m\n\u001b[0;32m      2\u001b[0m \u001b[38;5;28mprint\u001b[39m(z)\n\u001b[0;32m      3\u001b[0m \u001b[38;5;28;01mdel\u001b[39;00m(z) \n\u001b[1;32m----> 4\u001b[0m \u001b[38;5;28mprint\u001b[39m(\u001b[43mz\u001b[49m)\n",
      "\u001b[1;31mNameError\u001b[0m: name 'z' is not defined"
     ]
    }
   ],
   "source": [
    "z = 30 \n",
    "print(z)\n",
    "del(z) \n",
    "print(z)"
   ]
  },
  {
   "cell_type": "markdown",
   "id": "7b38b812",
   "metadata": {},
   "source": [
    "### Assign  7 and 14 to m and n , print them and then delet both the varibles "
   ]
  },
  {
   "cell_type": "code",
   "execution_count": 9,
   "id": "100bded8",
   "metadata": {},
   "outputs": [
    {
     "name": "stdout",
     "output_type": "stream",
     "text": [
      "7 14\n"
     ]
    },
    {
     "ename": "NameError",
     "evalue": "name 'm' is not defined",
     "output_type": "error",
     "traceback": [
      "\u001b[1;31m---------------------------------------------------------------------------\u001b[0m",
      "\u001b[1;31mNameError\u001b[0m                                 Traceback (most recent call last)",
      "Cell \u001b[1;32mIn[9], line 5\u001b[0m\n\u001b[0;32m      3\u001b[0m \u001b[38;5;28mprint\u001b[39m(m,n)\n\u001b[0;32m      4\u001b[0m \u001b[38;5;28;01mdel\u001b[39;00m(m,n)\n\u001b[1;32m----> 5\u001b[0m \u001b[38;5;28mprint\u001b[39m(\u001b[43mm\u001b[49m, n)\n",
      "\u001b[1;31mNameError\u001b[0m: name 'm' is not defined"
     ]
    }
   ],
   "source": [
    "m = 7 \n",
    "n = 14 \n",
    "print(m,n)\n",
    "del(m,n)\n",
    "print(m, n)"
   ]
  },
  {
   "cell_type": "markdown",
   "id": "7fadce36",
   "metadata": {},
   "source": [
    "### Assign values 1, 2, 3 to z, y, z resp, then delet y and print x and z."
   ]
  },
  {
   "cell_type": "code",
   "execution_count": 11,
   "id": "15c3fb20",
   "metadata": {},
   "outputs": [
    {
     "name": "stdout",
     "output_type": "stream",
     "text": [
      "1 2 3\n",
      "1\n"
     ]
    },
    {
     "ename": "NameError",
     "evalue": "name 'y' is not defined",
     "output_type": "error",
     "traceback": [
      "\u001b[1;31m---------------------------------------------------------------------------\u001b[0m",
      "\u001b[1;31mNameError\u001b[0m                                 Traceback (most recent call last)",
      "Cell \u001b[1;32mIn[11], line 7\u001b[0m\n\u001b[0;32m      5\u001b[0m \u001b[38;5;28;01mdel\u001b[39;00m(y)\n\u001b[0;32m      6\u001b[0m \u001b[38;5;28mprint\u001b[39m(x)\n\u001b[1;32m----> 7\u001b[0m \u001b[38;5;28mprint\u001b[39m(\u001b[43my\u001b[49m)\n\u001b[0;32m      8\u001b[0m \u001b[38;5;28mprint\u001b[39m(z)\n",
      "\u001b[1;31mNameError\u001b[0m: name 'y' is not defined"
     ]
    }
   ],
   "source": [
    "x = 1\n",
    "y = 2\n",
    "z = 3 \n",
    "print(x, y, z)\n",
    "del(y)\n",
    "print(x)\n",
    "print(y)\n",
    "print(z)"
   ]
  },
  {
   "cell_type": "markdown",
   "id": "edee1ac1",
   "metadata": {},
   "source": [
    "### Assign 50 to a and print its memory address"
   ]
  },
  {
   "cell_type": "code",
   "execution_count": 12,
   "id": "2b166b9f",
   "metadata": {},
   "outputs": [
    {
     "data": {
      "text/plain": [
       "2182622807824"
      ]
     },
     "execution_count": 12,
     "metadata": {},
     "output_type": "execute_result"
    }
   ],
   "source": [
    "a = 50 \n",
    "id(a)"
   ]
  },
  {
   "cell_type": "markdown",
   "id": "414f6ed8",
   "metadata": {},
   "source": [
    "### Assign the value of 50 to two varibles p and q , then print their values and address"
   ]
  },
  {
   "cell_type": "code",
   "execution_count": 16,
   "id": "4cca8602",
   "metadata": {},
   "outputs": [
    {
     "name": "stdout",
     "output_type": "stream",
     "text": [
      "50\n",
      "50\n",
      "2182622807824\n",
      "2182622807824\n"
     ]
    }
   ],
   "source": [
    "p = 50 \n",
    "q = 50 \n",
    "print(p)\n",
    "print(q)\n",
    "print(id(p))\n",
    "print(id(q))"
   ]
  },
  {
   "cell_type": "markdown",
   "id": "831b0df5",
   "metadata": {},
   "source": [
    "### Assign 'Hello' to the variable greeting and print it "
   ]
  },
  {
   "cell_type": "code",
   "execution_count": 17,
   "id": "ca3cc561",
   "metadata": {},
   "outputs": [
    {
     "name": "stdout",
     "output_type": "stream",
     "text": [
      "Hello\n"
     ]
    }
   ],
   "source": [
    "Greeting = 'Hello'\n",
    "print(Greeting)"
   ]
  },
  {
   "cell_type": "markdown",
   "id": "5fc35eef",
   "metadata": {},
   "source": [
    "### Assign the string Hello tp Greeting and print its ,memory address"
   ]
  },
  {
   "cell_type": "code",
   "execution_count": 18,
   "id": "a3e1920c",
   "metadata": {},
   "outputs": [
    {
     "name": "stdout",
     "output_type": "stream",
     "text": [
      "2182732387248\n"
     ]
    }
   ],
   "source": [
    "Greeting = 'Hello'\n",
    "print(id(Greeting))"
   ]
  },
  {
   "cell_type": "markdown",
   "id": "9426655d",
   "metadata": {},
   "source": [
    "### Assign complex (1, 2) to c ans print its memory address."
   ]
  },
  {
   "cell_type": "code",
   "execution_count": 20,
   "id": "df2cdc65",
   "metadata": {},
   "outputs": [
    {
     "name": "stdout",
     "output_type": "stream",
     "text": [
      "2182732252160\n"
     ]
    }
   ],
   "source": [
    "c = (1,2)\n",
    "print(id(c))"
   ]
  },
  {
   "cell_type": "markdown",
   "id": "0a35ec5e",
   "metadata": {},
   "source": [
    "### Assign the value 100 to variable a , print its address then change the value to 200 and prints its new address"
   ]
  },
  {
   "cell_type": "code",
   "execution_count": 22,
   "id": "7464f057",
   "metadata": {},
   "outputs": [
    {
     "name": "stdout",
     "output_type": "stream",
     "text": [
      "2182622809424\n",
      "2182622812624\n"
     ]
    }
   ],
   "source": [
    "a = 100\n",
    "print(id(a))\n",
    "a = 200\n",
    "print(id(a))"
   ]
  },
  {
   "cell_type": "markdown",
   "id": "4062c240",
   "metadata": {},
   "source": [
    "### Assign the value True to variable flag and print it "
   ]
  },
  {
   "cell_type": "code",
   "execution_count": 23,
   "id": "3e7c3736",
   "metadata": {},
   "outputs": [
    {
     "name": "stdout",
     "output_type": "stream",
     "text": [
      "True\n"
     ]
    }
   ],
   "source": [
    "flag = True\n",
    "print(flag)"
   ]
  },
  {
   "cell_type": "markdown",
   "id": "9178a326",
   "metadata": {},
   "source": [
    "### Assignt the value 300 to a variable k, delet the varible , then ressign it with the value 600 and print it "
   ]
  },
  {
   "cell_type": "code",
   "execution_count": 25,
   "id": "4263b18a",
   "metadata": {},
   "outputs": [
    {
     "name": "stdout",
     "output_type": "stream",
     "text": [
      "300\n",
      "600\n"
     ]
    }
   ],
   "source": [
    "k = 300\n",
    "print(k)\n",
    "del(k)\n",
    "k = 600 \n",
    "print(k)"
   ]
  },
  {
   "cell_type": "markdown",
   "id": "1d3bb2d0",
   "metadata": {},
   "source": [
    "### Assign the strings to varibles and print themm"
   ]
  },
  {
   "cell_type": "code",
   "execution_count": 27,
   "id": "f5db174d",
   "metadata": {},
   "outputs": [
    {
     "name": "stdout",
     "output_type": "stream",
     "text": [
      "apple\n",
      "banana\n",
      "cheery\n"
     ]
    }
   ],
   "source": [
    "fruit1 = 'apple'\n",
    "fruit2 = 'banana'\n",
    "fruit3 = 'cheery'\n",
    "print(fruit1)\n",
    "print(fruit2)\n",
    "print(fruit3)"
   ]
  },
  {
   "cell_type": "markdown",
   "id": "8df188d2",
   "metadata": {},
   "source": [
    "### Assign the float value 9.99 ro variable price and print it "
   ]
  },
  {
   "cell_type": "code",
   "execution_count": 28,
   "id": "8085f470",
   "metadata": {},
   "outputs": [
    {
     "name": "stdout",
     "output_type": "stream",
     "text": [
      "9.99\n"
     ]
    }
   ],
   "source": [
    "price = 9.99\n",
    "print(price)"
   ]
  },
  {
   "cell_type": "markdown",
   "id": "7c4aeec8",
   "metadata": {},
   "source": [
    "### Assign 7.5 to b and print its memory address."
   ]
  },
  {
   "cell_type": "code",
   "execution_count": 29,
   "id": "3799edde",
   "metadata": {},
   "outputs": [
    {
     "name": "stdout",
     "output_type": "stream",
     "text": [
      "2182705049584\n"
     ]
    }
   ],
   "source": [
    "b = 7.5 \n",
    "print(id(b))"
   ]
  },
  {
   "cell_type": "markdown",
   "id": "2277260b",
   "metadata": {},
   "source": [
    "### Assign the value 3.14 to pi and 2.718 to e and print it "
   ]
  },
  {
   "cell_type": "code",
   "execution_count": 31,
   "id": "0cbf91f4",
   "metadata": {},
   "outputs": [
    {
     "name": "stdout",
     "output_type": "stream",
     "text": [
      "3.14\n",
      "2.718\n"
     ]
    }
   ],
   "source": [
    "pi = 3.14\n",
    "e = 2.718 \n",
    "print(pi)\n",
    "print(e)"
   ]
  },
  {
   "cell_type": "markdown",
   "id": "03e8c65c",
   "metadata": {},
   "source": [
    "### Assign the values 1, 2, 3 to variable a, b,c and print their address"
   ]
  },
  {
   "cell_type": "code",
   "execution_count": 32,
   "id": "09e385c1",
   "metadata": {},
   "outputs": [
    {
     "name": "stdout",
     "output_type": "stream",
     "text": [
      "2182622806256\n",
      "2182622806288\n",
      "2182622806320\n"
     ]
    }
   ],
   "source": [
    "a = 1\n",
    "b = 2\n",
    "c = 3\n",
    "print(id(a))\n",
    "print(id(b))\n",
    "print(id(c))"
   ]
  },
  {
   "cell_type": "markdown",
   "id": "867ba4ab",
   "metadata": {},
   "source": [
    "###  Assign a string 'John', an integer 25 , and a boolean False to variables name, age, and status, and print them "
   ]
  },
  {
   "cell_type": "code",
   "execution_count": 33,
   "id": "e1f7ce4a",
   "metadata": {},
   "outputs": [
    {
     "name": "stdout",
     "output_type": "stream",
     "text": [
      "John 25 False\n"
     ]
    }
   ],
   "source": [
    "name = 'John'\n",
    "age = 25 \n",
    "status = False \n",
    "print(name, age ,status)"
   ]
  },
  {
   "cell_type": "markdown",
   "id": "d9140e07",
   "metadata": {},
   "source": [
    "### Assign value True to both the variables X and y and print them "
   ]
  },
  {
   "cell_type": "code",
   "execution_count": 34,
   "id": "c30bc3ef",
   "metadata": {},
   "outputs": [
    {
     "name": "stdout",
     "output_type": "stream",
     "text": [
      "True True\n"
     ]
    }
   ],
   "source": [
    "x = True\n",
    "y = True\n",
    "print(x, y)"
   ]
  },
  {
   "cell_type": "markdown",
   "id": "f0390dd1",
   "metadata": {},
   "source": [
    "### Assign som values to given variable and then reassign diff value and print them "
   ]
  },
  {
   "cell_type": "code",
   "execution_count": 37,
   "id": "db345b43",
   "metadata": {},
   "outputs": [
    {
     "name": "stdout",
     "output_type": "stream",
     "text": [
      "10 20.5 test\n",
      "changed True 50\n"
     ]
    }
   ],
   "source": [
    "x = 10 \n",
    "y = 20.5\n",
    "z = 'test'\n",
    "print(x, y, z)\n",
    "x = 'changed'\n",
    "y = True\n",
    "z = 50 \n",
    "print(x, y, z)"
   ]
  },
  {
   "cell_type": "markdown",
   "id": "73701f03",
   "metadata": {},
   "source": [
    "### Assign 500 to m and 500 to n and print their value add"
   ]
  },
  {
   "cell_type": "code",
   "execution_count": 41,
   "id": "bbbf9e41",
   "metadata": {},
   "outputs": [
    {
     "name": "stdout",
     "output_type": "stream",
     "text": [
      "2182732644432\n",
      "2182732644496\n"
     ]
    }
   ],
   "source": [
    "n = 500\n",
    "m = 500\n",
    "print(id(n))\n",
    "print(id(m))"
   ]
  },
  {
   "cell_type": "markdown",
   "id": "47d2a643",
   "metadata": {},
   "source": [
    "### Assign 10 t0 x and change ti to 20 ,30 and finally 40 then print thenfinal value "
   ]
  },
  {
   "cell_type": "code",
   "execution_count": 42,
   "id": "28df9d70",
   "metadata": {},
   "outputs": [
    {
     "name": "stdout",
     "output_type": "stream",
     "text": [
      "10\n",
      "40\n"
     ]
    }
   ],
   "source": [
    "x = 10 \n",
    "print(x)\n",
    "x = 20 \n",
    "x = 30 \n",
    "x = 40 \n",
    "print(x)"
   ]
  },
  {
   "cell_type": "markdown",
   "id": "664bdf83",
   "metadata": {},
   "source": [
    "### Assign 1000 to x , printits address then delet x "
   ]
  },
  {
   "cell_type": "code",
   "execution_count": 43,
   "id": "a3b0bcb4",
   "metadata": {},
   "outputs": [
    {
     "name": "stdout",
     "output_type": "stream",
     "text": [
      "2182732644912\n"
     ]
    },
    {
     "ename": "NameError",
     "evalue": "name 'x' is not defined",
     "output_type": "error",
     "traceback": [
      "\u001b[1;31m---------------------------------------------------------------------------\u001b[0m",
      "\u001b[1;31mNameError\u001b[0m                                 Traceback (most recent call last)",
      "Cell \u001b[1;32mIn[43], line 4\u001b[0m\n\u001b[0;32m      2\u001b[0m \u001b[38;5;28mprint\u001b[39m(\u001b[38;5;28mid\u001b[39m(x))\n\u001b[0;32m      3\u001b[0m \u001b[38;5;28;01mdel\u001b[39;00m (x)\n\u001b[1;32m----> 4\u001b[0m \u001b[38;5;28mprint\u001b[39m(\u001b[43mx\u001b[49m)\n",
      "\u001b[1;31mNameError\u001b[0m: name 'x' is not defined"
     ]
    }
   ],
   "source": [
    "x = 1000\n",
    "print(id(x))\n",
    "del (x)\n",
    "print(x)"
   ]
  },
  {
   "cell_type": "markdown",
   "id": "6ccc434a",
   "metadata": {},
   "source": [
    "### Assign the values 42,'answer' and True to variable num and boolean , print them ans then three vareiable "
   ]
  },
  {
   "cell_type": "code",
   "execution_count": 44,
   "id": "b6235e23",
   "metadata": {},
   "outputs": [
    {
     "name": "stdout",
     "output_type": "stream",
     "text": [
      "42\n",
      "answer\n",
      "True\n"
     ]
    },
    {
     "ename": "NameError",
     "evalue": "name 'num' is not defined",
     "output_type": "error",
     "traceback": [
      "\u001b[1;31m---------------------------------------------------------------------------\u001b[0m",
      "\u001b[1;31mNameError\u001b[0m                                 Traceback (most recent call last)",
      "Cell \u001b[1;32mIn[44], line 8\u001b[0m\n\u001b[0;32m      6\u001b[0m \u001b[38;5;28mprint\u001b[39m(boolean)\n\u001b[0;32m      7\u001b[0m \u001b[38;5;28;01mdel\u001b[39;00m(num, word, boolean)\n\u001b[1;32m----> 8\u001b[0m \u001b[38;5;28mprint\u001b[39m(\u001b[43mnum\u001b[49m, word, boolean)\n",
      "\u001b[1;31mNameError\u001b[0m: name 'num' is not defined"
     ]
    }
   ],
   "source": [
    "num = 42\n",
    "word ='answer'\n",
    "boolean = True\n",
    "print(num)\n",
    "print(word)\n",
    "print(boolean)\n",
    "del(num, word, boolean)\n",
    "print(num, word, boolean)"
   ]
  },
  {
   "cell_type": "markdown",
   "id": "27674ddf",
   "metadata": {},
   "source": [
    "### How do you create and integer variable with value 25 "
   ]
  },
  {
   "cell_type": "code",
   "execution_count": 45,
   "id": "62a99c1e",
   "metadata": {},
   "outputs": [
    {
     "name": "stdout",
     "output_type": "stream",
     "text": [
      "25\n"
     ]
    }
   ],
   "source": [
    "# here a will be the variable having integer value 25 \n",
    "a = 25 \n",
    "print(a)"
   ]
  },
  {
   "cell_type": "markdown",
   "id": "e5235b20",
   "metadata": {},
   "source": [
    "### add two integers 14 and 26 and print the result\n"
   ]
  },
  {
   "cell_type": "code",
   "execution_count": 46,
   "id": "d6080d01",
   "metadata": {},
   "outputs": [
    {
     "data": {
      "text/plain": [
       "40"
      ]
     },
     "execution_count": 46,
     "metadata": {},
     "output_type": "execute_result"
    }
   ],
   "source": [
    "14 + 26 "
   ]
  },
  {
   "cell_type": "markdown",
   "id": "644d6f67",
   "metadata": {},
   "source": [
    "### How do you create float varabvle with the value 7.5 ? "
   ]
  },
  {
   "cell_type": "code",
   "execution_count": 47,
   "id": "67003cab",
   "metadata": {},
   "outputs": [
    {
     "name": "stdout",
     "output_type": "stream",
     "text": [
      "<class 'float'>\n"
     ]
    }
   ],
   "source": [
    "# here  x will be the varible having float values of 7.5\n",
    "x = 7.5 \n",
    "print(type(x))"
   ]
  },
  {
   "cell_type": "markdown",
   "id": "ad21e420",
   "metadata": {},
   "source": [
    "### How do you create a complex number with a real part of 4 and an imapginary part 3 ? "
   ]
  },
  {
   "cell_type": "code",
   "execution_count": 52,
   "id": "4c8f6928",
   "metadata": {},
   "outputs": [
    {
     "data": {
      "text/plain": [
       "(4+3j)"
      ]
     },
     "execution_count": 52,
     "metadata": {},
     "output_type": "execute_result"
    }
   ],
   "source": [
    "complex (4, 3)"
   ]
  },
  {
   "cell_type": "markdown",
   "id": "c6aa8526",
   "metadata": {},
   "source": [
    "### Assign a complex number 3 +4j to a variable z and print its type "
   ]
  },
  {
   "cell_type": "code",
   "execution_count": 49,
   "id": "47e9405e",
   "metadata": {},
   "outputs": [
    {
     "name": "stdout",
     "output_type": "stream",
     "text": [
      "(3+4j)\n"
     ]
    },
    {
     "data": {
      "text/plain": [
       "complex"
      ]
     },
     "execution_count": 49,
     "metadata": {},
     "output_type": "execute_result"
    }
   ],
   "source": [
    "z = 3 + 4j\n",
    "print(z)\n",
    "type (z)"
   ]
  },
  {
   "cell_type": "markdown",
   "id": "dbf8e07e",
   "metadata": {},
   "source": [
    "### Sub (1 + 1j) from (5 + 6j) and print the result"
   ]
  },
  {
   "cell_type": "code",
   "execution_count": 53,
   "id": "d57e4249",
   "metadata": {},
   "outputs": [
    {
     "name": "stdout",
     "output_type": "stream",
     "text": [
      "(-4-5j)\n"
     ]
    }
   ],
   "source": [
    "a = ( 1 + 1j) \n",
    "b = (5 + 6j)\n",
    "print(a - b)"
   ]
  },
  {
   "cell_type": "code",
   "execution_count": 54,
   "id": "724dbb0f",
   "metadata": {},
   "outputs": [
    {
     "data": {
      "text/plain": [
       "(-4-5j)"
      ]
     },
     "execution_count": 54,
     "metadata": {},
     "output_type": "execute_result"
    }
   ],
   "source": [
    "(1 + 1j) - (5 + 6j)"
   ]
  },
  {
   "cell_type": "markdown",
   "id": "dd9a35da",
   "metadata": {},
   "source": [
    "### how do you create the boolean verable that is set to value False ?"
   ]
  },
  {
   "cell_type": "code",
   "execution_count": 55,
   "id": "7ba7a444",
   "metadata": {},
   "outputs": [
    {
     "data": {
      "text/plain": [
       "bool"
      ]
     },
     "execution_count": 55,
     "metadata": {},
     "output_type": "execute_result"
    }
   ],
   "source": [
    "# here is a variable which contain boolean datatype \n",
    "a = False\n",
    "type(a)"
   ]
  },
  {
   "cell_type": "markdown",
   "id": "8d6dcde6",
   "metadata": {},
   "source": [
    "### How do you create a string variable with the value \"Python\"?\n"
   ]
  },
  {
   "cell_type": "code",
   "execution_count": 57,
   "id": "f46046e5",
   "metadata": {},
   "outputs": [
    {
     "name": "stdout",
     "output_type": "stream",
     "text": [
      "Python\n"
     ]
    },
    {
     "data": {
      "text/plain": [
       "str"
      ]
     },
     "execution_count": 57,
     "metadata": {},
     "output_type": "execute_result"
    }
   ],
   "source": [
    "# here we will assign string 'python' to varable p haaving data type as string \n",
    "p = 'Python'\n",
    "print(p)\n",
    "type(p)"
   ]
  },
  {
   "cell_type": "markdown",
   "id": "74bd62ef",
   "metadata": {},
   "source": [
    "### How do you check data type x ?"
   ]
  },
  {
   "cell_type": "code",
   "execution_count": 58,
   "id": "46e7b982",
   "metadata": {},
   "outputs": [
    {
     "name": "stdout",
     "output_type": "stream",
     "text": [
      "7.5\n"
     ]
    }
   ],
   "source": [
    "# here we are takingx as last assign value to check and print it \n",
    "print(x)"
   ]
  },
  {
   "cell_type": "code",
   "execution_count": 59,
   "id": "0b72cf67",
   "metadata": {},
   "outputs": [
    {
     "data": {
      "text/plain": [
       "float"
      ]
     },
     "execution_count": 59,
     "metadata": {},
     "output_type": "execute_result"
    }
   ],
   "source": [
    "# now we are checking its data type as follows\n",
    "type(x)"
   ]
  },
  {
   "cell_type": "markdown",
   "id": "13d9edc9",
   "metadata": {},
   "source": [
    "### How do you conver integer 10 to a float ?"
   ]
  },
  {
   "cell_type": "code",
   "execution_count": 60,
   "id": "3e6ac019",
   "metadata": {},
   "outputs": [
    {
     "data": {
      "text/plain": [
       "int"
      ]
     },
     "execution_count": 60,
     "metadata": {},
     "output_type": "execute_result"
    }
   ],
   "source": [
    "x = 10 \n",
    "type(x)"
   ]
  },
  {
   "cell_type": "code",
   "execution_count": 63,
   "id": "eb55ec13",
   "metadata": {},
   "outputs": [
    {
     "name": "stdout",
     "output_type": "stream",
     "text": [
      "10.0\n"
     ]
    }
   ],
   "source": [
    "print(float(x))"
   ]
  },
  {
   "cell_type": "markdown",
   "id": "b3e71725",
   "metadata": {},
   "source": [
    "### How do you convert the float 12.34 to an integer ?"
   ]
  },
  {
   "cell_type": "code",
   "execution_count": 65,
   "id": "9f28206c",
   "metadata": {},
   "outputs": [
    {
     "data": {
      "text/plain": [
       "float"
      ]
     },
     "execution_count": 65,
     "metadata": {},
     "output_type": "execute_result"
    }
   ],
   "source": [
    "m = 12.34\n",
    "type(m)"
   ]
  },
  {
   "cell_type": "code",
   "execution_count": 66,
   "id": "440e777b",
   "metadata": {},
   "outputs": [
    {
     "name": "stdout",
     "output_type": "stream",
     "text": [
      "12\n"
     ]
    }
   ],
   "source": [
    "print(int(m))"
   ]
  },
  {
   "cell_type": "markdown",
   "id": "2239393f",
   "metadata": {},
   "source": [
    "### How to convert str '100' to int "
   ]
  },
  {
   "cell_type": "code",
   "execution_count": 67,
   "id": "adaee90a",
   "metadata": {},
   "outputs": [
    {
     "data": {
      "text/plain": [
       "str"
      ]
     },
     "execution_count": 67,
     "metadata": {},
     "output_type": "execute_result"
    }
   ],
   "source": [
    "i = '100'\n",
    "type(i)"
   ]
  },
  {
   "cell_type": "code",
   "execution_count": 68,
   "id": "b6d528cf",
   "metadata": {},
   "outputs": [
    {
     "name": "stdout",
     "output_type": "stream",
     "text": [
      "100\n"
     ]
    }
   ],
   "source": [
    "print(str(i))"
   ]
  },
  {
   "cell_type": "markdown",
   "id": "4ce7e762",
   "metadata": {},
   "source": [
    "### convert int 50 to str "
   ]
  },
  {
   "cell_type": "code",
   "execution_count": 69,
   "id": "526ed0de",
   "metadata": {},
   "outputs": [
    {
     "data": {
      "text/plain": [
       "int"
      ]
     },
     "execution_count": 69,
     "metadata": {},
     "output_type": "execute_result"
    }
   ],
   "source": [
    "a = 50\n",
    "type(a)"
   ]
  },
  {
   "cell_type": "code",
   "execution_count": 72,
   "id": "20cd572f",
   "metadata": {},
   "outputs": [
    {
     "name": "stdout",
     "output_type": "stream",
     "text": [
      "50\n"
     ]
    },
    {
     "data": {
      "text/plain": [
       "str"
      ]
     },
     "execution_count": 72,
     "metadata": {},
     "output_type": "execute_result"
    }
   ],
   "source": [
    "v = str(a)\n",
    "print(v)\n",
    "type(v)"
   ]
  },
  {
   "cell_type": "markdown",
   "id": "f6a16646",
   "metadata": {},
   "source": [
    "### find len of str 'python'"
   ]
  },
  {
   "cell_type": "code",
   "execution_count": 73,
   "id": "54385113",
   "metadata": {},
   "outputs": [
    {
     "data": {
      "text/plain": [
       "6"
      ]
     },
     "execution_count": 73,
     "metadata": {},
     "output_type": "execute_result"
    }
   ],
   "source": [
    "language = 'pyhton'\n",
    "len(language)"
   ]
  },
  {
   "cell_type": "markdown",
   "id": "e042c5a3",
   "metadata": {},
   "source": [
    "### multi. str 'Hi' by 3"
   ]
  },
  {
   "cell_type": "code",
   "execution_count": 76,
   "id": "bcb197bf",
   "metadata": {},
   "outputs": [
    {
     "name": "stdout",
     "output_type": "stream",
     "text": [
      "HiHiHi\n"
     ]
    }
   ],
   "source": [
    "A ='Hi'*3\n",
    "print (A)"
   ]
  },
  {
   "cell_type": "markdown",
   "id": "fc99d0a0",
   "metadata": {},
   "source": [
    "### convert string '3.14' to float"
   ]
  },
  {
   "cell_type": "code",
   "execution_count": 77,
   "id": "fb8a7b3b",
   "metadata": {},
   "outputs": [
    {
     "data": {
      "text/plain": [
       "str"
      ]
     },
     "execution_count": 77,
     "metadata": {},
     "output_type": "execute_result"
    }
   ],
   "source": [
    "m = '3.14'\n",
    "type(m)"
   ]
  },
  {
   "cell_type": "code",
   "execution_count": 78,
   "id": "c3affa66",
   "metadata": {},
   "outputs": [
    {
     "name": "stdout",
     "output_type": "stream",
     "text": [
      "3.14\n"
     ]
    }
   ],
   "source": [
    "print(float(m))"
   ]
  },
  {
   "cell_type": "markdown",
   "id": "8d7885db",
   "metadata": {},
   "source": [
    "### Get real part of complex no "
   ]
  },
  {
   "cell_type": "code",
   "execution_count": 79,
   "id": "4ba8160c",
   "metadata": {},
   "outputs": [
    {
     "name": "stdout",
     "output_type": "stream",
     "text": [
      "5.0\n"
     ]
    }
   ],
   "source": [
    "z = 5 + 6j \n",
    "print(z.real)\n"
   ]
  },
  {
   "cell_type": "markdown",
   "id": "fb3a1e9d",
   "metadata": {},
   "source": [
    "### Get imaginary part of the complex no "
   ]
  },
  {
   "cell_type": "code",
   "execution_count": 80,
   "id": "1101f93f",
   "metadata": {},
   "outputs": [
    {
     "name": "stdout",
     "output_type": "stream",
     "text": [
      "6.0\n"
     ]
    }
   ],
   "source": [
    "z = 5 + 6j \n",
    "print(z.imag)"
   ]
  },
  {
   "cell_type": "code",
   "execution_count": 81,
   "id": "70ce4d75",
   "metadata": {},
   "outputs": [
    {
     "data": {
      "text/plain": [
       "bool"
      ]
     },
     "execution_count": 81,
     "metadata": {},
     "output_type": "execute_result"
    }
   ],
   "source": [
    "z = True \n",
    "type(z)"
   ]
  },
  {
   "cell_type": "code",
   "execution_count": 82,
   "id": "249db5b3",
   "metadata": {},
   "outputs": [
    {
     "name": "stdout",
     "output_type": "stream",
     "text": [
      "1\n"
     ]
    }
   ],
   "source": [
    "print(int(z))"
   ]
  },
  {
   "cell_type": "markdown",
   "id": "0fb844ec",
   "metadata": {},
   "source": [
    "### convert integer 1 to boolean "
   ]
  },
  {
   "cell_type": "code",
   "execution_count": 83,
   "id": "d8ba5379",
   "metadata": {},
   "outputs": [
    {
     "data": {
      "text/plain": [
       "int"
      ]
     },
     "execution_count": 83,
     "metadata": {},
     "output_type": "execute_result"
    }
   ],
   "source": [
    "a = 1 \n",
    "type(a)"
   ]
  },
  {
   "cell_type": "code",
   "execution_count": 84,
   "id": "2ed69eaa",
   "metadata": {},
   "outputs": [
    {
     "name": "stdout",
     "output_type": "stream",
     "text": [
      "True\n"
     ]
    }
   ],
   "source": [
    "print(bool(a))"
   ]
  },
  {
   "cell_type": "markdown",
   "id": "faa550ec",
   "metadata": {},
   "source": [
    "### Ask the user to input their name and assign it to the variable name . Print the value of name "
   ]
  },
  {
   "cell_type": "code",
   "execution_count": 85,
   "id": "76f54856",
   "metadata": {},
   "outputs": [
    {
     "name": "stdout",
     "output_type": "stream",
     "text": [
      "Please enter your name : Roshni Rathod\n",
      "Roshni Rathod\n"
     ]
    }
   ],
   "source": [
    "name = input('Please enter your name : ')\n",
    "print(name)"
   ]
  },
  {
   "cell_type": "markdown",
   "id": "bc0fc0de",
   "metadata": {},
   "source": [
    "### Ask the user to input floating pont no and assign to variable price . Print the value price "
   ]
  },
  {
   "cell_type": "code",
   "execution_count": 86,
   "id": "7b57355e",
   "metadata": {},
   "outputs": [
    {
     "name": "stdout",
     "output_type": "stream",
     "text": [
      "Please enter price: 35\n",
      "35.0\n"
     ]
    }
   ],
   "source": [
    "price = float(input('Please enter price: '))\n",
    "print (price)"
   ]
  },
  {
   "cell_type": "markdown",
   "id": "93a66865",
   "metadata": {},
   "source": [
    "### Ask the user to input a number as a string, convert it to aninteger, and assign it to the variable age . Print the value of age  "
   ]
  },
  {
   "cell_type": "code",
   "execution_count": 87,
   "id": "13333209",
   "metadata": {},
   "outputs": [
    {
     "name": "stdout",
     "output_type": "stream",
     "text": [
      "Please enter age : 34\n",
      "34\n"
     ]
    }
   ],
   "source": [
    "age = int (input('Please enter age : '))\n",
    "print(age)"
   ]
  },
  {
   "cell_type": "markdown",
   "id": "82840ab6",
   "metadata": {},
   "source": [
    "### Ask the user to input a number  and a word , then assign the number to num ( as an integer), and the word t text . print both num and text ."
   ]
  },
  {
   "cell_type": "code",
   "execution_count": 88,
   "id": "1b40ce26",
   "metadata": {},
   "outputs": [
    {
     "name": "stdout",
     "output_type": "stream",
     "text": [
      "Enter number: 23\n",
      "Enter word: Ram\n",
      "23\n",
      "Ram\n"
     ]
    }
   ],
   "source": [
    "num = int(input('Enter number: '))\n",
    "word = input('Enter word: ')\n",
    "print(num)\n",
    "print(word)"
   ]
  },
  {
   "cell_type": "markdown",
   "id": "a4eba9c3",
   "metadata": {},
   "source": [
    "### Ask the user to input number , typecast it to a float and assign it to the variale score. Print the value of score ans its type  "
   ]
  },
  {
   "cell_type": "code",
   "execution_count": 89,
   "id": "7e278f09",
   "metadata": {},
   "outputs": [
    {
     "name": "stdout",
     "output_type": "stream",
     "text": [
      "Enter score: 458\n",
      "458.0\n"
     ]
    },
    {
     "data": {
      "text/plain": [
       "float"
      ]
     },
     "execution_count": 89,
     "metadata": {},
     "output_type": "execute_result"
    }
   ],
   "source": [
    "score = float(input('Enter score: '))\n",
    "print(score)\n",
    "type(score)"
   ]
  },
  {
   "cell_type": "markdown",
   "id": "8cace41c",
   "metadata": {},
   "source": [
    "### Ask user to input a number , convert it into str ans assign it ot the variable no _str. Print numbeer and its type "
   ]
  },
  {
   "cell_type": "code",
   "execution_count": 91,
   "id": "535bf4bd",
   "metadata": {},
   "outputs": [
    {
     "name": "stdout",
     "output_type": "stream",
     "text": [
      "Enter string: 32\n",
      "32\n"
     ]
    },
    {
     "data": {
      "text/plain": [
       "str"
      ]
     },
     "execution_count": 91,
     "metadata": {},
     "output_type": "execute_result"
    }
   ],
   "source": [
    "_str = str(input('Enter string: '))\n",
    "print(_str)\n",
    "type(_str)"
   ]
  },
  {
   "cell_type": "markdown",
   "id": "c694ef8c",
   "metadata": {},
   "source": [
    "### Take user input for two num and print their sum "
   ]
  },
  {
   "cell_type": "code",
   "execution_count": 92,
   "id": "965b1631",
   "metadata": {},
   "outputs": [
    {
     "name": "stdout",
     "output_type": "stream",
     "text": [
      "Enter a : 12\n",
      "Enter b : 20\n",
      "32\n"
     ]
    }
   ],
   "source": [
    "a = int(input('Enter a : '))\n",
    "b = int(input('Enter b : '))\n",
    "print(a + b)"
   ]
  },
  {
   "cell_type": "markdown",
   "id": "df3bb701",
   "metadata": {},
   "source": [
    "### ask the user for floating point number and print its square "
   ]
  },
  {
   "cell_type": "code",
   "execution_count": 94,
   "id": "706a1ac8",
   "metadata": {},
   "outputs": [
    {
     "name": "stdout",
     "output_type": "stream",
     "text": [
      "Enter num: 4\n",
      "16.0\n"
     ]
    }
   ],
   "source": [
    "num = float(input('Enter num: '))\n",
    "print(num**2)"
   ]
  },
  {
   "cell_type": "markdown",
   "id": "ebc2ca8e",
   "metadata": {},
   "source": [
    "### take input from user for complex no and print its real and imaginary part "
   ]
  },
  {
   "cell_type": "code",
   "execution_count": 97,
   "id": "b11ede02",
   "metadata": {},
   "outputs": [
    {
     "name": "stdout",
     "output_type": "stream",
     "text": [
      "Enter complex no : 2+3j\n",
      "(2+3j)\n",
      "2.0\n",
      "3.0\n"
     ]
    }
   ],
   "source": [
    "user = complex(input ('Enter complex no : '))\n",
    "print(user)\n",
    "print(user.real)\n",
    "print(user.imag)"
   ]
  },
  {
   "cell_type": "markdown",
   "id": "338abe1c",
   "metadata": {},
   "source": [
    "### How do you create str variable with value 'Python'"
   ]
  },
  {
   "cell_type": "code",
   "execution_count": 98,
   "id": "91e44cba",
   "metadata": {},
   "outputs": [
    {
     "name": "stdout",
     "output_type": "stream",
     "text": [
      "Python\n"
     ]
    }
   ],
   "source": [
    "variable = 'Python'\n",
    "print(variable)"
   ]
  },
  {
   "cell_type": "code",
   "execution_count": 99,
   "id": "db4b7744",
   "metadata": {},
   "outputs": [
    {
     "data": {
      "text/plain": [
       "str"
      ]
     },
     "execution_count": 99,
     "metadata": {},
     "output_type": "execute_result"
    }
   ],
   "source": [
    "type(variable)"
   ]
  },
  {
   "cell_type": "markdown",
   "id": "b3dde8ca",
   "metadata": {},
   "source": [
    "### Assign the str 'Pythoin' to a variable language and print its length "
   ]
  },
  {
   "cell_type": "code",
   "execution_count": 100,
   "id": "a5b4f891",
   "metadata": {},
   "outputs": [
    {
     "data": {
      "text/plain": [
       "6"
      ]
     },
     "execution_count": 100,
     "metadata": {},
     "output_type": "execute_result"
    }
   ],
   "source": [
    "language = 'Python'\n",
    "len(language)"
   ]
  },
  {
   "cell_type": "markdown",
   "id": "cdae9bd1",
   "metadata": {},
   "source": [
    "### access the 3rd char of str 'Pyhton'"
   ]
  },
  {
   "cell_type": "code",
   "execution_count": 101,
   "id": "3d58de92",
   "metadata": {},
   "outputs": [
    {
     "data": {
      "text/plain": [
       "'t'"
      ]
     },
     "execution_count": 101,
     "metadata": {},
     "output_type": "execute_result"
    }
   ],
   "source": [
    "language[2]"
   ]
  },
  {
   "cell_type": "markdown",
   "id": "201b7949",
   "metadata": {},
   "source": [
    "### access last char "
   ]
  },
  {
   "cell_type": "code",
   "execution_count": 102,
   "id": "7dd1a831",
   "metadata": {},
   "outputs": [
    {
     "data": {
      "text/plain": [
       "'n'"
      ]
     },
     "execution_count": 102,
     "metadata": {},
     "output_type": "execute_result"
    }
   ],
   "source": [
    "language[-1]"
   ]
  },
  {
   "cell_type": "markdown",
   "id": "31cae4f4",
   "metadata": {},
   "source": [
    "### slice to get 'pyt'"
   ]
  },
  {
   "cell_type": "code",
   "execution_count": 107,
   "id": "bb9dee74",
   "metadata": {},
   "outputs": [
    {
     "data": {
      "text/plain": [
       "'Pyt'"
      ]
     },
     "execution_count": 107,
     "metadata": {},
     "output_type": "execute_result"
    }
   ],
   "source": [
    "language[0:3]"
   ]
  },
  {
   "cell_type": "markdown",
   "id": "cd86d044",
   "metadata": {},
   "source": [
    "### Assign string 'Substring ' to the word and print the last four character"
   ]
  },
  {
   "cell_type": "code",
   "execution_count": 112,
   "id": "5a275739",
   "metadata": {},
   "outputs": [
    {
     "name": "stdout",
     "output_type": "stream",
     "text": [
      "thon\n"
     ]
    }
   ],
   "source": [
    "Substring = language [-4:]\n",
    "print(Substring)"
   ]
  },
  {
   "cell_type": "markdown",
   "id": "3e601a71",
   "metadata": {},
   "source": [
    "### slice to get 'tho'"
   ]
  },
  {
   "cell_type": "code",
   "execution_count": 114,
   "id": "ae83f988",
   "metadata": {},
   "outputs": [
    {
     "data": {
      "text/plain": [
       "'tho'"
      ]
     },
     "execution_count": 114,
     "metadata": {},
     "output_type": "execute_result"
    }
   ],
   "source": [
    "language[2:5]"
   ]
  },
  {
   "cell_type": "markdown",
   "id": "37206a10",
   "metadata": {},
   "source": [
    "### Assign the str 'data science' to text and slice string to print'Data"
   ]
  },
  {
   "cell_type": "code",
   "execution_count": 116,
   "id": "6606bf7f",
   "metadata": {},
   "outputs": [
    {
     "data": {
      "text/plain": [
       "'Data '"
      ]
     },
     "execution_count": 116,
     "metadata": {},
     "output_type": "execute_result"
    }
   ],
   "source": [
    "text = 'Data Science'\n",
    "text [0:5]"
   ]
  },
  {
   "cell_type": "markdown",
   "id": "68e28284",
   "metadata": {},
   "source": [
    "### Assign the str to ai and print igven "
   ]
  },
  {
   "cell_type": "code",
   "execution_count": 117,
   "id": "3a4b0acc",
   "metadata": {},
   "outputs": [
    {
     "data": {
      "text/plain": [
       "'Artificial '"
      ]
     },
     "execution_count": 117,
     "metadata": {},
     "output_type": "execute_result"
    }
   ],
   "source": [
    "ai = 'Artificial intelligence'\n",
    "ai[0:11]"
   ]
  },
  {
   "cell_type": "markdown",
   "id": "83e4266b",
   "metadata": {},
   "source": [
    "### Assign str to variable and print 'gram'"
   ]
  },
  {
   "cell_type": "code",
   "execution_count": 118,
   "id": "67c882df",
   "metadata": {},
   "outputs": [
    {
     "data": {
      "text/plain": [
       "'gram'"
      ]
     },
     "execution_count": 118,
     "metadata": {},
     "output_type": "execute_result"
    }
   ],
   "source": [
    "term = 'Programming'\n",
    "term[3:7]"
   ]
  },
  {
   "cell_type": "markdown",
   "id": "0a58f780",
   "metadata": {},
   "source": [
    "### Reverse str language python "
   ]
  },
  {
   "cell_type": "code",
   "execution_count": 124,
   "id": "e0e1ec88",
   "metadata": {},
   "outputs": [
    {
     "data": {
      "text/plain": [
       "'nohtyP'"
      ]
     },
     "execution_count": 124,
     "metadata": {},
     "output_type": "execute_result"
    }
   ],
   "source": [
    "language[::-1]"
   ]
  },
  {
   "cell_type": "markdown",
   "id": "bb53477f",
   "metadata": {},
   "source": [
    "### Assign string to varible and delet the variable "
   ]
  },
  {
   "cell_type": "code",
   "execution_count": 125,
   "id": "f00095a7",
   "metadata": {},
   "outputs": [
    {
     "name": "stdout",
     "output_type": "stream",
     "text": [
      "Python Programming\n"
     ]
    },
    {
     "ename": "NameError",
     "evalue": "name 'course' is not defined",
     "output_type": "error",
     "traceback": [
      "\u001b[1;31m---------------------------------------------------------------------------\u001b[0m",
      "\u001b[1;31mNameError\u001b[0m                                 Traceback (most recent call last)",
      "Cell \u001b[1;32mIn[125], line 4\u001b[0m\n\u001b[0;32m      2\u001b[0m \u001b[38;5;28mprint\u001b[39m(course)\n\u001b[0;32m      3\u001b[0m \u001b[38;5;28;01mdel\u001b[39;00m(course)\n\u001b[1;32m----> 4\u001b[0m \u001b[38;5;28mprint\u001b[39m(\u001b[43mcourse\u001b[49m)\n",
      "\u001b[1;31mNameError\u001b[0m: name 'course' is not defined"
     ]
    }
   ],
   "source": [
    "course = 'Python Programming'\n",
    "print(course)\n",
    "del(course)\n",
    "print(course)"
   ]
  },
  {
   "cell_type": "markdown",
   "id": "d9263802",
   "metadata": {},
   "source": [
    "### assign the str \" openAI \" to company and convert it to lowercase ,then print it "
   ]
  },
  {
   "cell_type": "code",
   "execution_count": 126,
   "id": "a757c84a",
   "metadata": {},
   "outputs": [
    {
     "data": {
      "text/plain": [
       "'openai'"
      ]
     },
     "execution_count": 126,
     "metadata": {},
     "output_type": "execute_result"
    }
   ],
   "source": [
    "company = 'OpenAI'\n",
    "company.lower()"
   ]
  },
  {
   "cell_type": "markdown",
   "id": "a79efabc",
   "metadata": {},
   "source": [
    "### assign the str 'learning' to activity and conv it into uppercase,hten print it "
   ]
  },
  {
   "cell_type": "code",
   "execution_count": 127,
   "id": "f5701a9a",
   "metadata": {},
   "outputs": [
    {
     "data": {
      "text/plain": [
       "'LEARNING'"
      ]
     },
     "execution_count": 127,
     "metadata": {},
     "output_type": "execute_result"
    }
   ],
   "source": [
    "activity = 'learning'\n",
    "activity.upper()"
   ]
  },
  {
   "cell_type": "markdown",
   "id": "ff82c90b",
   "metadata": {},
   "source": [
    "### Assign the str 'OpenAI' to company and remove any leading spaces, then print the result "
   ]
  },
  {
   "cell_type": "code",
   "execution_count": 128,
   "id": "c027a85f",
   "metadata": {},
   "outputs": [
    {
     "data": {
      "text/plain": [
       "'OpenAI'"
      ]
     },
     "execution_count": 128,
     "metadata": {},
     "output_type": "execute_result"
    }
   ],
   "source": [
    "company.lstrip()"
   ]
  },
  {
   "cell_type": "markdown",
   "id": "31407927",
   "metadata": {},
   "source": [
    "### Assign the string \"Data Science\" to the field and remove any trailling spaces, then print the result. "
   ]
  },
  {
   "cell_type": "code",
   "execution_count": 1,
   "id": "c9615d78",
   "metadata": {},
   "outputs": [
    {
     "data": {
      "text/plain": [
       "'Data science'"
      ]
     },
     "execution_count": 1,
     "metadata": {},
     "output_type": "execute_result"
    }
   ],
   "source": [
    "field = 'Data science'\n",
    "\n",
    "field.rstrip()"
   ]
  },
  {
   "cell_type": "markdown",
   "id": "bac8518c",
   "metadata": {},
   "source": [
    "### Assign the string 'Python' to text ans remove the leading and trailling spaces , then print the result "
   ]
  },
  {
   "cell_type": "code",
   "execution_count": 2,
   "id": "2d965d7d",
   "metadata": {},
   "outputs": [
    {
     "data": {
      "text/plain": [
       "'Python'"
      ]
     },
     "execution_count": 2,
     "metadata": {},
     "output_type": "execute_result"
    }
   ],
   "source": [
    "text = \"Python\"\n",
    "text.strip()"
   ]
  },
  {
   "cell_type": "markdown",
   "id": "722fb932",
   "metadata": {},
   "source": [
    "## Assign the string 'Hello'  to greeting and capatalize the first letter, then print the result "
   ]
  },
  {
   "cell_type": "code",
   "execution_count": 4,
   "id": "a7ebcb3d",
   "metadata": {},
   "outputs": [
    {
     "data": {
      "text/plain": [
       "'Hello'"
      ]
     },
     "execution_count": 4,
     "metadata": {},
     "output_type": "execute_result"
    }
   ],
   "source": [
    "greeting ='hello'\n",
    "greeting.capitalize()\n"
   ]
  },
  {
   "cell_type": "markdown",
   "id": "9cf6226a",
   "metadata": {},
   "source": [
    "### Asisign the string 'Hello, World!' to text and convert it into title case, then print the result "
   ]
  },
  {
   "cell_type": "code",
   "execution_count": 131,
   "id": "0f70f977",
   "metadata": {},
   "outputs": [
    {
     "data": {
      "text/plain": [
       "'Hello,World!'"
      ]
     },
     "execution_count": 131,
     "metadata": {},
     "output_type": "execute_result"
    }
   ],
   "source": [
    "text = 'Hello,World!'\n",
    "text.title()"
   ]
  },
  {
   "cell_type": "markdown",
   "id": "f2539172",
   "metadata": {},
   "source": [
    "### Assign the stirng 'banana' to fruit and count thr occurance of 'a' then print the result "
   ]
  },
  {
   "cell_type": "code",
   "execution_count": 134,
   "id": "f8e0ae85",
   "metadata": {},
   "outputs": [
    {
     "data": {
      "text/plain": [
       "3"
      ]
     },
     "execution_count": 134,
     "metadata": {},
     "output_type": "execute_result"
    }
   ],
   "source": [
    "fruit = 'banana'\n",
    "fruit.count('a')"
   ]
  },
  {
   "cell_type": "markdown",
   "id": "3230b8af",
   "metadata": {},
   "source": [
    "### Assign the string 'Python is fun' to sentence and find the index of fun then print result."
   ]
  },
  {
   "cell_type": "code",
   "execution_count": 5,
   "id": "e05918f7",
   "metadata": {},
   "outputs": [
    {
     "data": {
      "text/plain": [
       "10"
      ]
     },
     "execution_count": 5,
     "metadata": {},
     "output_type": "execute_result"
    }
   ],
   "source": [
    "sentence = \"Pyhton is fun\"\n",
    "sentence.find(\"fun\")"
   ]
  },
  {
   "cell_type": "markdown",
   "id": "0bb2f3e2",
   "metadata": {},
   "source": [
    "### Assign the string \"Alphabet\" to text and find the first occurance of \"a\" (Case-sensitivr), then print the result "
   ]
  },
  {
   "cell_type": "code",
   "execution_count": 6,
   "id": "296c33f0",
   "metadata": {},
   "outputs": [
    {
     "data": {
      "text/plain": [
       "4"
      ]
     },
     "execution_count": 6,
     "metadata": {},
     "output_type": "execute_result"
    }
   ],
   "source": [
    "text = \"Alphabet\"\n",
    "text.find(\"a\")"
   ]
  },
  {
   "cell_type": "markdown",
   "id": "5ed2e067",
   "metadata": {},
   "source": [
    "### Assign the string \"This is test\" to sentence ans split it into a list of words, then print the results"
   ]
  },
  {
   "cell_type": "code",
   "execution_count": 10,
   "id": "2ebb6562",
   "metadata": {},
   "outputs": [
    {
     "data": {
      "text/plain": [
       "['This', 'is', 'test']"
      ]
     },
     "execution_count": 10,
     "metadata": {},
     "output_type": "execute_result"
    }
   ],
   "source": [
    "sentence = \"This is test\" \n",
    "sentence.split()"
   ]
  },
  {
   "cell_type": "markdown",
   "id": "b6500d88",
   "metadata": {},
   "source": [
    "### Assign the string \"John\" to word and join it with a hypen \"-\" between each letter , then "
   ]
  },
  {
   "cell_type": "code",
   "execution_count": 11,
   "id": "7eb20b2e",
   "metadata": {},
   "outputs": [
    {
     "data": {
      "text/plain": [
       "'J-o-h-n'"
      ]
     },
     "execution_count": 11,
     "metadata": {},
     "output_type": "execute_result"
    }
   ],
   "source": [
    "word = \"John\"\n",
    "\"-\".join(word)"
   ]
  },
  {
   "cell_type": "markdown",
   "id": "4448d5b7",
   "metadata": {},
   "source": [
    "### How do you check if the string \"1234\" contains only digits?"
   ]
  },
  {
   "cell_type": "code",
   "execution_count": 12,
   "id": "aeb9687d",
   "metadata": {},
   "outputs": [
    {
     "data": {
      "text/plain": [
       "True"
      ]
     },
     "execution_count": 12,
     "metadata": {},
     "output_type": "execute_result"
    }
   ],
   "source": [
    "text = \"1234\"\n",
    "text.isdigit()"
   ]
  },
  {
   "cell_type": "markdown",
   "id": "c002016e",
   "metadata": {},
   "source": [
    "### Assign the string \"Python3\" to language and check if it is alphanumeric, then print the result "
   ]
  },
  {
   "cell_type": "code",
   "execution_count": 14,
   "id": "417f119e",
   "metadata": {},
   "outputs": [
    {
     "data": {
      "text/plain": [
       "True"
      ]
     },
     "execution_count": 14,
     "metadata": {},
     "output_type": "execute_result"
    }
   ],
   "source": [
    "language = \"Python3\"\n",
    "language.isalnum()"
   ]
  },
  {
   "cell_type": "markdown",
   "id": "48d2916b",
   "metadata": {},
   "source": [
    "### How do you replace the substring \"thon\" in tht string language = \"Python\" with \"ck\""
   ]
  },
  {
   "cell_type": "code",
   "execution_count": 15,
   "id": "733bc31c",
   "metadata": {},
   "outputs": [
    {
     "data": {
      "text/plain": [
       "'Pyck3'"
      ]
     },
     "execution_count": 15,
     "metadata": {},
     "output_type": "execute_result"
    }
   ],
   "source": [
    "language.replace('thon','ck')"
   ]
  },
  {
   "cell_type": "markdown",
   "id": "be460dfa",
   "metadata": {},
   "source": [
    "### Assign the string \"Hello, World!\" to greeting and replace \"World\" with \"Python\", then print the result"
   ]
  },
  {
   "cell_type": "code",
   "execution_count": 16,
   "id": "ab9a0989",
   "metadata": {},
   "outputs": [
    {
     "data": {
      "text/plain": [
       "'Hello, Python!'"
      ]
     },
     "execution_count": 16,
     "metadata": {},
     "output_type": "execute_result"
    }
   ],
   "source": [
    "greeting = \"Hello, World!\"\n",
    "greeting.replace(\"World\", \"Python\")"
   ]
  },
  {
   "cell_type": "markdown",
   "id": "626c31fc",
   "metadata": {},
   "source": [
    "### how do you check sting \"python\" starts with letter \"p\""
   ]
  },
  {
   "cell_type": "code",
   "execution_count": 18,
   "id": "6cd6af8a",
   "metadata": {},
   "outputs": [
    {
     "data": {
      "text/plain": [
       "True"
      ]
     },
     "execution_count": 18,
     "metadata": {},
     "output_type": "execute_result"
    }
   ],
   "source": [
    "language.startswith(\"P\")"
   ]
  },
  {
   "cell_type": "markdown",
   "id": "1187ae36",
   "metadata": {},
   "source": [
    "### how do you check string ends with on"
   ]
  },
  {
   "cell_type": "code",
   "execution_count": 19,
   "id": "c139fb32",
   "metadata": {},
   "outputs": [
    {
     "data": {
      "text/plain": [
       "False"
      ]
     },
     "execution_count": 19,
     "metadata": {},
     "output_type": "execute_result"
    }
   ],
   "source": [
    "language.endswith(\"on\")"
   ]
  },
  {
   "cell_type": "code",
   "execution_count": 20,
   "id": "c7c7f316",
   "metadata": {},
   "outputs": [
    {
     "data": {
      "text/plain": [
       "True"
      ]
     },
     "execution_count": 20,
     "metadata": {},
     "output_type": "execute_result"
    }
   ],
   "source": [
    "language.endswith(\"n3\")"
   ]
  },
  {
   "cell_type": "code",
   "execution_count": null,
   "id": "06ef592c",
   "metadata": {},
   "outputs": [],
   "source": []
  }
 ],
 "metadata": {
  "kernelspec": {
   "display_name": "Python 3 (ipykernel)",
   "language": "python",
   "name": "python3"
  },
  "language_info": {
   "codemirror_mode": {
    "name": "ipython",
    "version": 3
   },
   "file_extension": ".py",
   "mimetype": "text/x-python",
   "name": "python",
   "nbconvert_exporter": "python",
   "pygments_lexer": "ipython3",
   "version": "3.10.9"
  }
 },
 "nbformat": 4,
 "nbformat_minor": 5
}
