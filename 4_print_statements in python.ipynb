{
 "cells": [
  {
   "cell_type": "markdown",
   "id": "3543444a-8a33-43f6-b082-fbd90b6d5895",
   "metadata": {},
   "source": [
    "# Print Statement"
   ]
  },
  {
   "cell_type": "markdown",
   "id": "741640c3-535c-450a-a4ce-cee4eedbc1ec",
   "metadata": {},
   "source": [
    "- print is a inbuilt function, to see the answers\n",
    "- in jupyter notebook we can see all the value without using print\n",
    "- you want to see all the value we can use print option\n",
    "- in vs code,pycharm there is no markdown option\n",
    "- if you want to see any answers, we need to use print statement only"
   ]
  },
  {
   "cell_type": "code",
   "execution_count": 1,
   "id": "93e7fe42",
   "metadata": {},
   "outputs": [
    {
     "data": {
      "text/plain": [
       "40"
      ]
     },
     "execution_count": 1,
     "metadata": {},
     "output_type": "execute_result"
    }
   ],
   "source": [
    "a = 30 \n",
    "b = 40 \n",
    "a \n",
    "b \n",
    "# this will give only last asked varible "
   ]
  },
  {
   "cell_type": "code",
   "execution_count": 2,
   "id": "c66c7ae7",
   "metadata": {},
   "outputs": [
    {
     "name": "stdout",
     "output_type": "stream",
     "text": [
      "30\n",
      "40\n"
     ]
    }
   ],
   "source": [
    "a = 30 \n",
    "b = 40 \n",
    "print(a) \n",
    "print(b) \n",
    "# this will give both the output because print is there"
   ]
  },
  {
   "cell_type": "code",
   "execution_count": 3,
   "id": "6722bbe7-e342-424d-9371-e83ba2041366",
   "metadata": {},
   "outputs": [
    {
     "name": "stdout",
     "output_type": "stream",
     "text": [
      "100 200\n"
     ]
    }
   ],
   "source": [
    "num1=100\n",
    "num2=200\n",
    "print(num1)\n",
    "print(num2)"
   ]
  },
  {
   "cell_type": "code",
   "execution_count": 3,
   "id": "e6010fb5-d03e-41c1-ae5a-ff4731ef436d",
   "metadata": {},
   "outputs": [
    {
     "name": "stdout",
     "output_type": "stream",
     "text": [
      "100 200\n",
      "Roshni Shubh\n",
      "Roshni Shubh 100 200\n"
     ]
    }
   ],
   "source": [
    "num1=100\n",
    "num2=200\n",
    "print(num1,num2)\n",
    "print('Roshni','Shubh')\n",
    "print('Roshni','Shubh',num1,num2)"
   ]
  },
  {
   "cell_type": "markdown",
   "id": "949783a3",
   "metadata": {},
   "source": [
    "**PRint result with string**"
   ]
  },
  {
   "cell_type": "code",
   "execution_count": 16,
   "id": "3c6c3372-bdf7-42fc-bb48-062e28423996",
   "metadata": {},
   "outputs": [
    {
     "name": "stdout",
     "output_type": "stream",
     "text": [
      "the addition of 10 and 20 is 30\n",
      "the addition of a and b is c\n",
      "the addition of 10 and 20 is 30\n"
     ]
    }
   ],
   "source": [
    "a=10\n",
    "b=20\n",
    "c=a+b\n",
    "print(\"the addition of 10 and 20 is 30\")\n",
    "print(\"the addition of a and b is c\")\n",
    "print('the addition of' ,a, 'and' ,b, 'is' ,c,)\n",
    "\n"
   ]
  },
  {
   "cell_type": "code",
   "execution_count": 4,
   "id": "bcf25d66-3ce1-4b5d-9b95-eeb38be5d760",
   "metadata": {},
   "outputs": [
    {
     "name": "stdout",
     "output_type": "stream",
     "text": [
      "Rosh 23 Washim\n",
      "my name is Rosh I am from Washim my age 23\n"
     ]
    }
   ],
   "source": [
    "name='Rosh'\n",
    "age='23'\n",
    "city='Washim'\n",
    "print(name,age,city)\n",
    "print(\"my name is\" ,name, \"I am from\" ,city, \"my age\" ,age,)\n"
   ]
  },
  {
   "cell_type": "markdown",
   "id": "20da3487-afa8-4640-ae2f-3453e7f5a04f",
   "metadata": {},
   "source": [
    "**format method**\n",
    "\n",
    "- first decide how the print statement should be \n",
    "- ex :- the addition of 20 and 30 is 50 \n",
    "- then replac the varible with curly bratacesm{}\n",
    "- then apply `.format(val1,val2,...valn)` method"
   ]
  },
  {
   "cell_type": "code",
   "execution_count": 26,
   "id": "fc5e4adf-81ad-446f-b040-9b890e982feb",
   "metadata": {},
   "outputs": [
    {
     "name": "stdout",
     "output_type": "stream",
     "text": [
      "the addition of 10,20is 30\n"
     ]
    }
   ],
   "source": [
    "a=10\n",
    "b=20\n",
    "c=a+b\n",
    "print(\"the addition of {},{}is {}\".format(a,b,c))"
   ]
  },
  {
   "cell_type": "code",
   "execution_count": 5,
   "id": "e8022e49-4f45-4b68-b13b-00620adb9c99",
   "metadata": {},
   "outputs": [
    {
     "name": "stdout",
     "output_type": "stream",
     "text": [
      "my name is Roshni Rathod,age 23 and city Maharashtra\n"
     ]
    }
   ],
   "source": [
    "name='Roshni Rathod'\n",
    "age=23\n",
    "city='Maharashtra'\n",
    "print(\"my name is {},age {} and city {}\".format(name,age,city))"
   ]
  },
  {
   "cell_type": "code",
   "execution_count": 31,
   "id": "c2a0ff5d-4be2-44a6-9d90-160ffef0f605",
   "metadata": {},
   "outputs": [
    {
     "name": "stdout",
     "output_type": "stream",
     "text": [
      "the addition of 100,200 is300\n"
     ]
    }
   ],
   "source": [
    "a=100\n",
    "b=200\n",
    "c=a+b\n",
    "print('the addition of {},{} is{}'.format(a,b,c))"
   ]
  },
  {
   "cell_type": "code",
   "execution_count": 32,
   "id": "61180b12-77c6-443a-b4fe-0af15c9cb070",
   "metadata": {},
   "outputs": [
    {
     "name": "stdout",
     "output_type": "stream",
     "text": [
      "the addition of 100,200 is100\n"
     ]
    }
   ],
   "source": [
    "a=100\n",
    "b=200\n",
    "c=b-a\n",
    "print('the substraction of {},{} is{}'.format(a,b,c))"
   ]
  },
  {
   "cell_type": "code",
   "execution_count": 33,
   "id": "6bf43e34-22ec-4c0a-bb64-aafb9eafb904",
   "metadata": {},
   "outputs": [
    {
     "name": "stdout",
     "output_type": "stream",
     "text": [
      "the multiplication of 100,200 is20000\n"
     ]
    }
   ],
   "source": [
    "a=100\n",
    "b=200\n",
    "c=a*b\n",
    "print('the multiplication of {},{} is{}'.format(a,b,c))"
   ]
  },
  {
   "cell_type": "code",
   "execution_count": 35,
   "id": "c0a81b29-9bde-49c6-b463-9dc96bae70aa",
   "metadata": {},
   "outputs": [
    {
     "name": "stdout",
     "output_type": "stream",
     "text": [
      "the division of 100,200 is2.0\n"
     ]
    }
   ],
   "source": [
    "a=100\n",
    "b=200\n",
    "c=b/a\n",
    "print('the division of {},{} is{}'.format(a,b,c))"
   ]
  },
  {
   "cell_type": "code",
   "execution_count": 37,
   "id": "f27bed8b-e0d3-4d9c-8217-a682569699a3",
   "metadata": {},
   "outputs": [
    {
     "name": "stdout",
     "output_type": "stream",
     "text": [
      "the addition of 100,200is 300\n",
      "the substraction of 100,200 is100\n",
      "the multiplication of 100,200 is20000\n",
      "the division of 100,200 is2.0\n"
     ]
    }
   ],
   "source": [
    "a=100\n",
    "b=200\n",
    "add=a+b\n",
    "sub=b-a\n",
    "mul=a*b\n",
    "div=b/a\n",
    "print(\"the addition of {},{}is {}\".format(a,b,add))\n",
    "print('the substraction of {},{} is{}'.format(a,b,sub))\n",
    "print('the multiplication of {},{} is{}'.format(a,b,mul))\n",
    "print('the division of {},{} is{}'.format(a,b,div))"
   ]
  },
  {
   "cell_type": "markdown",
   "id": "18ea725e-ccb1-495d-9776-6f753a79f8b9",
   "metadata": {},
   "source": [
    "**F String Method**\n",
    "- more short code\n",
    "- varible should be in cury braces\n",
    "- write everything inside quote `''`.\n",
    "- at starting of string put `f`"
   ]
  },
  {
   "cell_type": "code",
   "execution_count": 41,
   "id": "8aba21d0-df7f-410b-a02c-29d2c7b4bbf7",
   "metadata": {},
   "outputs": [
    {
     "name": "stdout",
     "output_type": "stream",
     "text": [
      "the addition of 100,200is 300\n",
      "the addition of 100,200 is300\n",
      "the addition of 100,200 is300\n"
     ]
    }
   ],
   "source": [
    "a=100\n",
    "b=200\n",
    "c=a+b\n",
    "print('the addition of 100,200is 300')\n",
    "print('the addition of {},{} is{}'.format(a,b,c))\n",
    "print(f\"the addition of {a},{b} is{c}\")"
   ]
  },
  {
   "cell_type": "code",
   "execution_count": 45,
   "id": "23a2d944-81b6-4031-ae54-2490ed5e5155",
   "metadata": {},
   "outputs": [
    {
     "name": "stdout",
     "output_type": "stream",
     "text": [
      "the addition of 100,200is 300\n",
      "the substraction of 200,100is 100\n",
      "the multiplication of 100,200is 20000\n",
      "the division of 200,100is 2.0 \n"
     ]
    }
   ],
   "source": [
    "a=100\n",
    "b=200\n",
    "c=a+b\n",
    "d=b-a\n",
    "e=a*b\n",
    "f=b/a\n",
    "print(f\"the addition of {a},{b}is {c}\")\n",
    "print(f\"the substraction of {b},{a}is {d}\")\n",
    "print(f\"the multiplication of {a},{b}is {e}\")\n",
    "print(f\"the division of {b},{a}is {f} \")"
   ]
  },
  {
   "cell_type": "markdown",
   "id": "5a45802d-3503-4722-8efd-1885b5b5e61d",
   "metadata": {},
   "source": [
    "**End Operator**"
   ]
  },
  {
   "cell_type": "code",
   "execution_count": 6,
   "id": "353274e3",
   "metadata": {},
   "outputs": [
    {
     "name": "stdout",
     "output_type": "stream",
     "text": [
      "hello\n",
      "good morning\n"
     ]
    }
   ],
   "source": [
    "print('hello')\n",
    "print('good morning')\n"
   ]
  },
  {
   "cell_type": "code",
   "execution_count": 7,
   "id": "30227142",
   "metadata": {},
   "outputs": [
    {
     "name": "stdout",
     "output_type": "stream",
     "text": [
      "hello good morning\n"
     ]
    }
   ],
   "source": [
    "# to get ans like 'hello good morning' \n",
    "print('hello', end = ' ')\n",
    "print('good morning')"
   ]
  },
  {
   "cell_type": "code",
   "execution_count": null,
   "id": "b3e3b047",
   "metadata": {},
   "outputs": [],
   "source": []
  },
  {
   "cell_type": "code",
   "execution_count": 46,
   "id": "1348af44-126a-4c60-a3f4-e06cfe17da1d",
   "metadata": {},
   "outputs": [
    {
     "name": "stdout",
     "output_type": "stream",
     "text": [
      "10\n",
      "20\n"
     ]
    }
   ],
   "source": [
    "print(10)\n",
    "print(20)"
   ]
  },
  {
   "cell_type": "code",
   "execution_count": 47,
   "id": "6b67e583-b5bd-4fc6-ada0-a4e284a2b667",
   "metadata": {},
   "outputs": [
    {
     "name": "stdout",
     "output_type": "stream",
     "text": [
      "1020\n"
     ]
    }
   ],
   "source": [
    "print(10,end='')\n",
    "print(20)"
   ]
  },
  {
   "cell_type": "code",
   "execution_count": 48,
   "id": "84ac1cca-84d5-43d0-9da3-c5831dd8861d",
   "metadata": {},
   "outputs": [
    {
     "name": "stdout",
     "output_type": "stream",
     "text": [
      "10------>20\n"
     ]
    }
   ],
   "source": [
    "print(10,end='------>')\n",
    "print(20)"
   ]
  },
  {
   "cell_type": "code",
   "execution_count": 51,
   "id": "04036d0c-4e2c-43ec-878c-d31a6df91dd3",
   "metadata": {},
   "outputs": [
    {
     "name": "stdout",
     "output_type": "stream",
     "text": [
      "10--> 20--> 30\n"
     ]
    }
   ],
   "source": [
    "print(10,end='--> ')\n",
    "print(20,end='--> ')\n",
    "print(30)\n",
    "\n"
   ]
  },
  {
   "cell_type": "markdown",
   "id": "67de5635-2c0d-4cbb-88a3-bacd86d61005",
   "metadata": {},
   "source": [
    "**seperater method**\n",
    "- using one print statement\n",
    "- inside one print statement we have multiple values \n",
    "- print10-->20-->30"
   ]
  },
  {
   "cell_type": "code",
   "execution_count": 10,
   "id": "82d4f999",
   "metadata": {},
   "outputs": [
    {
     "name": "stdout",
     "output_type": "stream",
     "text": [
      "hello hi how are you\n"
     ]
    }
   ],
   "source": [
    "print('hello','hi','how','are','you',sep = ' ')"
   ]
  },
  {
   "cell_type": "code",
   "execution_count": 11,
   "id": "11acf3d6",
   "metadata": {},
   "outputs": [
    {
     "name": "stdout",
     "output_type": "stream",
     "text": [
      "hello%%hi%%how%%are%%you\n"
     ]
    }
   ],
   "source": [
    "print('hello','hi','how','are','you', sep = '%%')"
   ]
  },
  {
   "cell_type": "code",
   "execution_count": 12,
   "id": "b20710d7",
   "metadata": {},
   "outputs": [
    {
     "name": "stdout",
     "output_type": "stream",
     "text": [
      "3 .\n"
     ]
    }
   ],
   "source": [
    "print(3,'.')"
   ]
  },
  {
   "cell_type": "code",
   "execution_count": 13,
   "id": "a605f66a",
   "metadata": {},
   "outputs": [
    {
     "name": "stdout",
     "output_type": "stream",
     "text": [
      "3.\n"
     ]
    }
   ],
   "source": [
    "print(3,'.',sep='')"
   ]
  },
  {
   "cell_type": "code",
   "execution_count": 54,
   "id": "fae075d4-c4a4-4e29-9983-cc1848e3839d",
   "metadata": {},
   "outputs": [
    {
     "name": "stdout",
     "output_type": "stream",
     "text": [
      "10----->20----->30----->40----->50----->60----->70\n"
     ]
    }
   ],
   "source": [
    "print(10,20,30,40,50,60,70,sep='----->')"
   ]
  },
  {
   "cell_type": "code",
   "execution_count": 56,
   "id": "809ff9be-2350-402c-86b4-5074fa401153",
   "metadata": {},
   "outputs": [
    {
     "name": "stdout",
     "output_type": "stream",
     "text": [
      "10+++++20+++++30+++++40+++++50+++++60+++++70\n"
     ]
    }
   ],
   "source": [
    "print(10,20,30,40,50,60,70,sep='+++++')"
   ]
  },
  {
   "cell_type": "code",
   "execution_count": 57,
   "id": "7be0d3e5-4815-4a35-b5a1-73441069d477",
   "metadata": {},
   "outputs": [
    {
     "name": "stdout",
     "output_type": "stream",
     "text": [
      "10+20=30.\n"
     ]
    }
   ],
   "source": [
    "# 10+20=30\n",
    "print(10,end='+')\n",
    "print(20,end='=')\n",
    "print(30,'.',sep='')"
   ]
  },
  {
   "cell_type": "markdown",
   "id": "e40d16f0-e1ad-4ba7-b0b8-84405861c4fb",
   "metadata": {},
   "source": [
    "- seperating the all valuesinside print statement\n",
    "- end will join the multiple "
   ]
  },
  {
   "cell_type": "code",
   "execution_count": 109,
   "id": "d2b7eb62-33fc-4982-9a99-a016cb572046",
   "metadata": {},
   "outputs": [
    {
     "name": "stdout",
     "output_type": "stream",
     "text": [
      "the average of 123.635, 225.657 and 300.1556 is 216.48253333333332\n",
      "the average of 123.635, 225.657 and 300.1556 is 216.48\n"
     ]
    }
   ],
   "source": [
    "#wap ask the user take 3 numbers find the average\n",
    "#the average of num1, num2, num3 is avg using f string and format method\n",
    "\n",
    "n1=123.635\n",
    "n2=225.657\n",
    "n3=300.1556\n",
    "avg=(n1+n2+n3)/3\n",
    "round(avg,4)\n",
    "print(\"the average of {}, {} and {} is {}\".format(n1,n2,n3,avg))\n",
    "print(f\"the average of {n1}, {n2} and {n3} is {avg:.2f}\")"
   ]
  },
  {
   "cell_type": "markdown",
   "id": "32fa208e-40b7-400a-a156-35e75a16a5e6",
   "metadata": {},
   "source": [
    "**Round Method**"
   ]
  },
  {
   "cell_type": "code",
   "execution_count": 66,
   "id": "e6f069dd-a5ae-4717-9b17-8f157bfc8ceb",
   "metadata": {},
   "outputs": [
    {
     "data": {
      "text/plain": [
       "41"
      ]
     },
     "execution_count": 66,
     "metadata": {},
     "output_type": "execute_result"
    }
   ],
   "source": [
    "round(40.5678)\n",
    "# you did not provided any decimal"
   ]
  },
  {
   "cell_type": "code",
   "execution_count": 67,
   "id": "9288c050-d89e-40e8-ad69-7a8955f59858",
   "metadata": {},
   "outputs": [
    {
     "data": {
      "text/plain": [
       "40.6"
      ]
     },
     "execution_count": 67,
     "metadata": {},
     "output_type": "execute_result"
    }
   ],
   "source": [
    "round(40.5678,1)\n",
    "#after point provide only one value"
   ]
  },
  {
   "cell_type": "code",
   "execution_count": 68,
   "id": "08b6d98b-a5ba-4be2-8418-ce774e931339",
   "metadata": {},
   "outputs": [
    {
     "data": {
      "text/plain": [
       "40.57"
      ]
     },
     "execution_count": 68,
     "metadata": {},
     "output_type": "execute_result"
    }
   ],
   "source": [
    "round(40.5678,2)"
   ]
  },
  {
   "cell_type": "code",
   "execution_count": 69,
   "id": "3789153b-ed7a-4245-a740-610a92fc320d",
   "metadata": {},
   "outputs": [
    {
     "data": {
      "text/plain": [
       "40.568"
      ]
     },
     "execution_count": 69,
     "metadata": {},
     "output_type": "execute_result"
    }
   ],
   "source": [
    "round(40.5678,3)"
   ]
  },
  {
   "cell_type": "code",
   "execution_count": 70,
   "id": "a18f2e73-b5f4-48e4-8c96-9b4823584b06",
   "metadata": {},
   "outputs": [
    {
     "data": {
      "text/plain": [
       "40.5678"
      ]
     },
     "execution_count": 70,
     "metadata": {},
     "output_type": "execute_result"
    }
   ],
   "source": [
    "round(40.5678,4)"
   ]
  },
  {
   "cell_type": "code",
   "execution_count": 71,
   "id": "b87f7ffc-d919-44ce-8aeb-23fa839d9b44",
   "metadata": {},
   "outputs": [
    {
     "data": {
      "text/plain": [
       "41.57"
      ]
     },
     "execution_count": 71,
     "metadata": {},
     "output_type": "execute_result"
    }
   ],
   "source": [
    "round(41.56789,2)"
   ]
  },
  {
   "cell_type": "code",
   "execution_count": 72,
   "id": "9d0f40ba-3fb0-40f2-bf99-b0b075860c16",
   "metadata": {},
   "outputs": [
    {
     "data": {
      "text/plain": [
       "41.568"
      ]
     },
     "execution_count": 72,
     "metadata": {},
     "output_type": "execute_result"
    }
   ],
   "source": [
    "round(41.56789,3)"
   ]
  },
  {
   "cell_type": "code",
   "execution_count": 73,
   "id": "a6c693e0-5d39-4474-8e19-a15dc04a17fd",
   "metadata": {},
   "outputs": [
    {
     "data": {
      "text/plain": [
       "41.5679"
      ]
     },
     "execution_count": 73,
     "metadata": {},
     "output_type": "execute_result"
    }
   ],
   "source": [
    "round(41.56789,4)"
   ]
  }
 ],
 "metadata": {
  "kernelspec": {
   "display_name": "Python 3 (ipykernel)",
   "language": "python",
   "name": "python3"
  },
  "language_info": {
   "codemirror_mode": {
    "name": "ipython",
    "version": 3
   },
   "file_extension": ".py",
   "mimetype": "text/x-python",
   "name": "python",
   "nbconvert_exporter": "python",
   "pygments_lexer": "ipython3",
   "version": "3.10.9"
  }
 },
 "nbformat": 4,
 "nbformat_minor": 5
}
