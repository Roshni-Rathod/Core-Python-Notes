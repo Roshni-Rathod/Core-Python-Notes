{
 "cells": [
  {
   "cell_type": "markdown",
   "id": "34b1d028",
   "metadata": {},
   "source": [
    "# Methods\n",
    "- Methods are functions that belong to an object or a class. They perform specific actions or operations on that object.\n",
    "\n",
    "- Methods are called on an instance of a class"
   ]
  },
  {
   "cell_type": "markdown",
   "id": "c3ecf4c0",
   "metadata": {},
   "source": [
    "> Syntax:\n",
    "\n",
    "- To call a method, use object.method_name().\n",
    "- Example: my_list.append(4) adds 4 to my_list."
   ]
  },
  {
   "cell_type": "markdown",
   "id": "8be10332",
   "metadata": {},
   "source": [
    "**Diff Funtion nd Method** \n",
    "- Functions are standalone and don’t belong to an object.\n",
    "- Methods require an instance"
   ]
  },
  {
   "cell_type": "markdown",
   "id": "fead229d",
   "metadata": {},
   "source": [
    "### NOTE\n",
    "> Not all data types in Python have methods. Only certain data types—primarily objects that belong to classes—support methods.\n",
    "\n",
    "- **Data Types with Methods**\n",
    "    - Stirng \n",
    "    - List\n",
    "    - Dict\n",
    "    - Tuple\n",
    "    - Set\n",
    "     \n",
    "    \n",
    ">Primitive types (like integers, floats, and booleans) generally don’t have methods in the same sense but work with operators and built-in functions.\n"
   ]
  },
  {
   "cell_type": "markdown",
   "id": "54138e8e",
   "metadata": {},
   "source": [
    "# Methods on string "
   ]
  },
  {
   "cell_type": "markdown",
   "id": "3f4eb193",
   "metadata": {},
   "source": [
    "`find method ` : Used to find index of first occurance of substring from th entire string  "
   ]
  },
  {
   "cell_type": "code",
   "execution_count": 3,
   "id": "2feaa500",
   "metadata": {},
   "outputs": [],
   "source": [
    "# syntax = str.find(substring)"
   ]
  },
  {
   "cell_type": "code",
   "execution_count": 5,
   "id": "3c9944fa",
   "metadata": {},
   "outputs": [
    {
     "data": {
      "text/plain": [
       "4"
      ]
     },
     "execution_count": 5,
     "metadata": {},
     "output_type": "execute_result"
    }
   ],
   "source": [
    "l = \"Beautiful girl\"\n",
    "l.find('ti')"
   ]
  },
  {
   "cell_type": "code",
   "execution_count": 7,
   "id": "6918b211",
   "metadata": {},
   "outputs": [
    {
     "data": {
      "text/plain": [
       "6"
      ]
     },
     "execution_count": 7,
     "metadata": {},
     "output_type": "execute_result"
    }
   ],
   "source": [
    "l.find('f')"
   ]
  },
  {
   "cell_type": "markdown",
   "id": "6f737196",
   "metadata": {},
   "source": [
    "`Count Method`: use t count number of substring/s in the given string"
   ]
  },
  {
   "cell_type": "code",
   "execution_count": 8,
   "id": "3e87540d",
   "metadata": {},
   "outputs": [],
   "source": [
    "# syntax = str.count(substring)"
   ]
  },
  {
   "cell_type": "code",
   "execution_count": 9,
   "id": "a6351f65",
   "metadata": {},
   "outputs": [
    {
     "data": {
      "text/plain": [
       "2"
      ]
     },
     "execution_count": 9,
     "metadata": {},
     "output_type": "execute_result"
    }
   ],
   "source": [
    "d = 'I like pink color'\n",
    "d.count('i')"
   ]
  },
  {
   "cell_type": "code",
   "execution_count": 10,
   "id": "84f64621",
   "metadata": {},
   "outputs": [
    {
     "data": {
      "text/plain": [
       "2"
      ]
     },
     "execution_count": 10,
     "metadata": {},
     "output_type": "execute_result"
    }
   ],
   "source": [
    "d.count('l')"
   ]
  },
  {
   "cell_type": "markdown",
   "id": "091bf029",
   "metadata": {},
   "source": [
    "`split method` : use to split the string based on some seperator"
   ]
  },
  {
   "cell_type": "code",
   "execution_count": 12,
   "id": "6810e0b2",
   "metadata": {},
   "outputs": [],
   "source": [
    "# syntax = str.split(seperator)"
   ]
  },
  {
   "cell_type": "code",
   "execution_count": 13,
   "id": "cbe8f00f",
   "metadata": {},
   "outputs": [],
   "source": [
    "e = 'Have a nice day '"
   ]
  },
  {
   "cell_type": "code",
   "execution_count": 14,
   "id": "0db36b33",
   "metadata": {},
   "outputs": [
    {
     "data": {
      "text/plain": [
       "['Have', 'a', 'nice', 'day', '']"
      ]
     },
     "execution_count": 14,
     "metadata": {},
     "output_type": "execute_result"
    }
   ],
   "source": [
    "e.split(' ')"
   ]
  },
  {
   "cell_type": "code",
   "execution_count": 16,
   "id": "7ef98231",
   "metadata": {},
   "outputs": [
    {
     "data": {
      "text/plain": [
       "['Have a nice day ']"
      ]
     },
     "execution_count": 16,
     "metadata": {},
     "output_type": "execute_result"
    }
   ],
   "source": [
    "e.split(' _ ')"
   ]
  },
  {
   "cell_type": "code",
   "execution_count": 20,
   "id": "a88dcbb1",
   "metadata": {},
   "outputs": [
    {
     "data": {
      "text/plain": [
       "['Have a nice day ']"
      ]
     },
     "execution_count": 20,
     "metadata": {},
     "output_type": "execute_result"
    }
   ],
   "source": [
    "e.split(' / ')"
   ]
  },
  {
   "cell_type": "code",
   "execution_count": 22,
   "id": "507e6b43",
   "metadata": {},
   "outputs": [
    {
     "data": {
      "text/plain": [
       "['16', '08', '2001']"
      ]
     },
     "execution_count": 22,
     "metadata": {},
     "output_type": "execute_result"
    }
   ],
   "source": [
    "dob = '16/08/2001'\n",
    "s = dob.split('/')\n",
    "s"
   ]
  },
  {
   "cell_type": "code",
   "execution_count": 24,
   "id": "00d03545",
   "metadata": {},
   "outputs": [
    {
     "data": {
      "text/plain": [
       "['16', '08/2001']"
      ]
     },
     "execution_count": 24,
     "metadata": {},
     "output_type": "execute_result"
    }
   ],
   "source": [
    "dob = '16/08/2001'\n",
    "s = dob.split('/', 1)\n",
    "s\n",
    "\n",
    "#single split"
   ]
  },
  {
   "cell_type": "markdown",
   "id": "355e3b9a",
   "metadata": {},
   "source": [
    "`replace metod` : create new string with replaced value"
   ]
  },
  {
   "cell_type": "code",
   "execution_count": 27,
   "id": "b3eef343",
   "metadata": {},
   "outputs": [
    {
     "data": {
      "text/plain": [
       "'wnife'"
      ]
     },
     "execution_count": 27,
     "metadata": {},
     "output_type": "execute_result"
    }
   ],
   "source": [
    "a = \"knife\"\n",
    "b = a.replace('k', 'w')\n",
    "b"
   ]
  },
  {
   "cell_type": "code",
   "execution_count": 26,
   "id": "f06d7477",
   "metadata": {},
   "outputs": [
    {
     "data": {
      "text/plain": [
       "'knife'"
      ]
     },
     "execution_count": 26,
     "metadata": {},
     "output_type": "execute_result"
    }
   ],
   "source": [
    "a"
   ]
  },
  {
   "cell_type": "code",
   "execution_count": 28,
   "id": "1aad23bc",
   "metadata": {},
   "outputs": [
    {
     "data": {
      "text/plain": [
       "'wnife'"
      ]
     },
     "execution_count": 28,
     "metadata": {},
     "output_type": "execute_result"
    }
   ],
   "source": [
    "b"
   ]
  },
  {
   "cell_type": "code",
   "execution_count": 34,
   "id": "44aadabc",
   "metadata": {},
   "outputs": [
    {
     "data": {
      "text/plain": [
       "'BEAUTIFUL DAY'"
      ]
     },
     "execution_count": 34,
     "metadata": {},
     "output_type": "execute_result"
    }
   ],
   "source": [
    "e = \"beautiful day\"\n",
    "e.upper()"
   ]
  },
  {
   "cell_type": "code",
   "execution_count": 35,
   "id": "4268921e",
   "metadata": {},
   "outputs": [
    {
     "data": {
      "text/plain": [
       "'beautiful day'"
      ]
     },
     "execution_count": 35,
     "metadata": {},
     "output_type": "execute_result"
    }
   ],
   "source": [
    "e.lower()"
   ]
  },
  {
   "cell_type": "code",
   "execution_count": 36,
   "id": "b79937e5",
   "metadata": {},
   "outputs": [
    {
     "data": {
      "text/plain": [
       "'Beautiful Day'"
      ]
     },
     "execution_count": 36,
     "metadata": {},
     "output_type": "execute_result"
    }
   ],
   "source": [
    "e.title()"
   ]
  },
  {
   "cell_type": "code",
   "execution_count": 38,
   "id": "160575c1",
   "metadata": {},
   "outputs": [
    {
     "data": {
      "text/plain": [
       "'Beautiful day'"
      ]
     },
     "execution_count": 38,
     "metadata": {},
     "output_type": "execute_result"
    }
   ],
   "source": [
    "e.capitalize()"
   ]
  },
  {
   "cell_type": "code",
   "execution_count": null,
   "id": "7d606c3f",
   "metadata": {},
   "outputs": [],
   "source": []
  },
  {
   "cell_type": "markdown",
   "id": "43190523",
   "metadata": {},
   "source": [
    "isupper\n",
    "islower\n",
    "iscaptilize"
   ]
  },
  {
   "cell_type": "code",
   "execution_count": 39,
   "id": "e5b92857",
   "metadata": {},
   "outputs": [
    {
     "data": {
      "text/plain": [
       "True"
      ]
     },
     "execution_count": 39,
     "metadata": {},
     "output_type": "execute_result"
    }
   ],
   "source": [
    "e.islower()"
   ]
  },
  {
   "cell_type": "code",
   "execution_count": 41,
   "id": "99a3b47d",
   "metadata": {},
   "outputs": [
    {
     "data": {
      "text/plain": [
       "False"
      ]
     },
     "execution_count": 41,
     "metadata": {},
     "output_type": "execute_result"
    }
   ],
   "source": [
    "e.isupper()"
   ]
  },
  {
   "cell_type": "code",
   "execution_count": 42,
   "id": "a3452e0a",
   "metadata": {},
   "outputs": [
    {
     "data": {
      "text/plain": [
       "False"
      ]
     },
     "execution_count": 42,
     "metadata": {},
     "output_type": "execute_result"
    }
   ],
   "source": [
    "e.istitle()"
   ]
  },
  {
   "cell_type": "markdown",
   "id": "66430d3f",
   "metadata": {},
   "source": [
    "Alphabet & number"
   ]
  },
  {
   "cell_type": "code",
   "execution_count": 44,
   "id": "13d118a7",
   "metadata": {},
   "outputs": [
    {
     "data": {
      "text/plain": [
       "False"
      ]
     },
     "execution_count": 44,
     "metadata": {},
     "output_type": "execute_result"
    }
   ],
   "source": [
    "e.isalpha()  #space is there in string "
   ]
  },
  {
   "cell_type": "code",
   "execution_count": 45,
   "id": "09a8edea",
   "metadata": {},
   "outputs": [
    {
     "data": {
      "text/plain": [
       "False"
      ]
     },
     "execution_count": 45,
     "metadata": {},
     "output_type": "execute_result"
    }
   ],
   "source": [
    "e.isdigit()  #there is no number in string"
   ]
  },
  {
   "cell_type": "code",
   "execution_count": 46,
   "id": "b0759cc2",
   "metadata": {},
   "outputs": [
    {
     "data": {
      "text/plain": [
       "False"
      ]
     },
     "execution_count": 46,
     "metadata": {},
     "output_type": "execute_result"
    }
   ],
   "source": [
    "l = '78kj'\n",
    "l.isalpha()"
   ]
  },
  {
   "cell_type": "code",
   "execution_count": 48,
   "id": "f6af7c0b",
   "metadata": {},
   "outputs": [
    {
     "data": {
      "text/plain": [
       "False"
      ]
     },
     "execution_count": 48,
     "metadata": {},
     "output_type": "execute_result"
    }
   ],
   "source": [
    "l.isdigit()"
   ]
  },
  {
   "cell_type": "code",
   "execution_count": 49,
   "id": "a0cd752d",
   "metadata": {},
   "outputs": [
    {
     "data": {
      "text/plain": [
       "True"
      ]
     },
     "execution_count": 49,
     "metadata": {},
     "output_type": "execute_result"
    }
   ],
   "source": [
    "l.isalnum()  #combination of alphabet and number"
   ]
  },
  {
   "cell_type": "code",
   "execution_count": 52,
   "id": "d4b6ce80",
   "metadata": {},
   "outputs": [
    {
     "data": {
      "text/plain": [
       "True"
      ]
     },
     "execution_count": 52,
     "metadata": {},
     "output_type": "execute_result"
    }
   ],
   "source": [
    "s = 'kijl'\n",
    "s.isalnum() # either alphabets , or number or combination"
   ]
  },
  {
   "cell_type": "markdown",
   "id": "a9e315d7",
   "metadata": {},
   "source": [
    "` If you put 's. and tab press' it will show you all the functions avalible for particular string `"
   ]
  },
  {
   "cell_type": "code",
   "execution_count": null,
   "id": "09508dee",
   "metadata": {},
   "outputs": [],
   "source": [
    "e."
   ]
  },
  {
   "cell_type": "code",
   "execution_count": 54,
   "id": "13a8fee6",
   "metadata": {},
   "outputs": [
    {
     "data": {
      "text/plain": [
       "['5', 'hii', 'ty']"
      ]
     },
     "execution_count": 54,
     "metadata": {},
     "output_type": "execute_result"
    }
   ],
   "source": [
    "l = ['5', 'hii', 'ty']\n",
    "l"
   ]
  },
  {
   "cell_type": "code",
   "execution_count": 55,
   "id": "c0a47b46",
   "metadata": {},
   "outputs": [
    {
     "data": {
      "text/plain": [
       "\"['5', 'hii', 'ty']\""
      ]
     },
     "execution_count": 55,
     "metadata": {},
     "output_type": "execute_result"
    }
   ],
   "source": [
    "str(l)"
   ]
  },
  {
   "cell_type": "markdown",
   "id": "2146f468",
   "metadata": {},
   "source": [
    "` join method `is use to join elemts of lists"
   ]
  },
  {
   "cell_type": "code",
   "execution_count": 57,
   "id": "899ddfa8",
   "metadata": {},
   "outputs": [
    {
     "data": {
      "text/plain": [
       "'5;hii;ty'"
      ]
     },
     "execution_count": 57,
     "metadata": {},
     "output_type": "execute_result"
    }
   ],
   "source": [
    "y = \";\".join(l)\n",
    "y"
   ]
  },
  {
   "cell_type": "markdown",
   "id": "0f7afc72",
   "metadata": {},
   "source": [
    "#  Methods on Lists"
   ]
  },
  {
   "cell_type": "markdown",
   "id": "9e5ad0ae",
   "metadata": {},
   "source": [
    "`append method`: append means to add new element at the end of the list "
   ]
  },
  {
   "cell_type": "code",
   "execution_count": 8,
   "id": "901e32c2",
   "metadata": {},
   "outputs": [],
   "source": [
    "veglist = ['tomato','okra','brinjal','potato','kundru']"
   ]
  },
  {
   "cell_type": "code",
   "execution_count": 9,
   "id": "a87dd6f8",
   "metadata": {},
   "outputs": [],
   "source": [
    "veglist.append('flower')"
   ]
  },
  {
   "cell_type": "code",
   "execution_count": 10,
   "id": "c0225333",
   "metadata": {},
   "outputs": [
    {
     "data": {
      "text/plain": [
       "['tomato', 'okra', 'brinjal', 'potato', 'kundru', 'flower']"
      ]
     },
     "execution_count": 10,
     "metadata": {},
     "output_type": "execute_result"
    }
   ],
   "source": [
    "veglist"
   ]
  },
  {
   "cell_type": "code",
   "execution_count": 11,
   "id": "6478047c",
   "metadata": {},
   "outputs": [
    {
     "ename": "NameError",
     "evalue": "name 'jk' is not defined",
     "output_type": "error",
     "traceback": [
      "\u001b[1;31m---------------------------------------------------------------------------\u001b[0m",
      "\u001b[1;31mNameError\u001b[0m                                 Traceback (most recent call last)",
      "Cell \u001b[1;32mIn[11], line 1\u001b[0m\n\u001b[1;32m----> 1\u001b[0m veglist\u001b[38;5;241m.\u001b[39mappend(\u001b[38;5;241m56\u001b[39m,\u001b[43mjk\u001b[49m)\n",
      "\u001b[1;31mNameError\u001b[0m: name 'jk' is not defined"
     ]
    }
   ],
   "source": [
    "veglist.append(56,jk)   # we cannot append two element at a tie in end , it eill show error"
   ]
  },
  {
   "cell_type": "code",
   "execution_count": 15,
   "id": "3b9fdce5",
   "metadata": {},
   "outputs": [
    {
     "data": {
      "text/plain": [
       "['tomato', 'okra', 'brinjal', 'potato', 'kundru', 'flower', [45, 9], [45, 9]]"
      ]
     },
     "execution_count": 15,
     "metadata": {},
     "output_type": "execute_result"
    }
   ],
   "source": [
    "veglist.append([45,9])\n",
    "veglist\n",
    "# we can add in collection "
   ]
  },
  {
   "cell_type": "markdown",
   "id": "871b7f0c",
   "metadata": {},
   "source": [
    "`extend method`: adding collection into the list as element"
   ]
  },
  {
   "cell_type": "code",
   "execution_count": 18,
   "id": "5ef82c77",
   "metadata": {},
   "outputs": [
    {
     "data": {
      "text/plain": [
       "['tomato',\n",
       " 'okra',\n",
       " 'brinjal',\n",
       " 'potato',\n",
       " 'kundru',\n",
       " 'flower',\n",
       " [45, 9],\n",
       " [45, 9],\n",
       " 23,\n",
       " 98,\n",
       " 23,\n",
       " 98]"
      ]
     },
     "execution_count": 18,
     "metadata": {},
     "output_type": "execute_result"
    }
   ],
   "source": [
    "veglist.extend([23,98])\n",
    "veglist"
   ]
  },
  {
   "cell_type": "code",
   "execution_count": 20,
   "id": "a7d5e0ae",
   "metadata": {},
   "outputs": [
    {
     "data": {
      "text/plain": [
       "['34', '45', '90', '33', 23]"
      ]
     },
     "execution_count": 20,
     "metadata": {},
     "output_type": "execute_result"
    }
   ],
   "source": [
    "marks =['34','45','90','33']\n",
    "marks.append(23)\n",
    "marks"
   ]
  },
  {
   "cell_type": "code",
   "execution_count": 21,
   "id": "b32db573",
   "metadata": {},
   "outputs": [
    {
     "data": {
      "text/plain": [
       "['34', '45', '90', '33', 23, 89, 76]"
      ]
     },
     "execution_count": 21,
     "metadata": {},
     "output_type": "execute_result"
    }
   ],
   "source": [
    "marks =['34','45','90','33']\n",
    "marks.extend([23,89,76])\n",
    "marks"
   ]
  },
  {
   "cell_type": "code",
   "execution_count": 22,
   "id": "6c26f028",
   "metadata": {},
   "outputs": [
    {
     "data": {
      "text/plain": [
       "['34', '45', '90', '33', '23,89,76']"
      ]
     },
     "execution_count": 22,
     "metadata": {},
     "output_type": "execute_result"
    }
   ],
   "source": [
    "marks =['34','45','90','33']\n",
    "marks.extend(['23,89,76'])\n",
    "marks"
   ]
  },
  {
   "cell_type": "code",
   "execution_count": 23,
   "id": "cb7587a0",
   "metadata": {},
   "outputs": [
    {
     "data": {
      "text/plain": [
       "['34', '45', '90', '33', [23, 89, 76]]"
      ]
     },
     "execution_count": 23,
     "metadata": {},
     "output_type": "execute_result"
    }
   ],
   "source": [
    "marks =['34','45','90','33']\n",
    "marks.append([23,89,76])\n",
    "marks"
   ]
  },
  {
   "cell_type": "code",
   "execution_count": 24,
   "id": "ab65da1c",
   "metadata": {},
   "outputs": [
    {
     "ename": "TypeError",
     "evalue": "list.append() takes exactly one argument (3 given)",
     "output_type": "error",
     "traceback": [
      "\u001b[1;31m---------------------------------------------------------------------------\u001b[0m",
      "\u001b[1;31mTypeError\u001b[0m                                 Traceback (most recent call last)",
      "Cell \u001b[1;32mIn[24], line 2\u001b[0m\n\u001b[0;32m      1\u001b[0m marks \u001b[38;5;241m=\u001b[39m[\u001b[38;5;124m'\u001b[39m\u001b[38;5;124m34\u001b[39m\u001b[38;5;124m'\u001b[39m,\u001b[38;5;124m'\u001b[39m\u001b[38;5;124m45\u001b[39m\u001b[38;5;124m'\u001b[39m,\u001b[38;5;124m'\u001b[39m\u001b[38;5;124m90\u001b[39m\u001b[38;5;124m'\u001b[39m,\u001b[38;5;124m'\u001b[39m\u001b[38;5;124m33\u001b[39m\u001b[38;5;124m'\u001b[39m]\n\u001b[1;32m----> 2\u001b[0m \u001b[43mmarks\u001b[49m\u001b[38;5;241;43m.\u001b[39;49m\u001b[43mappend\u001b[49m\u001b[43m(\u001b[49m\u001b[38;5;241;43m23\u001b[39;49m\u001b[43m,\u001b[49m\u001b[38;5;241;43m89\u001b[39;49m\u001b[43m,\u001b[49m\u001b[38;5;241;43m76\u001b[39;49m\u001b[43m)\u001b[49m\n\u001b[0;32m      3\u001b[0m marks\n",
      "\u001b[1;31mTypeError\u001b[0m: list.append() takes exactly one argument (3 given)"
     ]
    }
   ],
   "source": [
    "marks =['34','45','90','33']\n",
    "marks.append(23,89,76)\n",
    "marks"
   ]
  },
  {
   "cell_type": "markdown",
   "id": "0a5c45f7",
   "metadata": {},
   "source": [
    "`Insert method `: used to add data in between the given list "
   ]
  },
  {
   "cell_type": "code",
   "execution_count": 25,
   "id": "ffe7943a",
   "metadata": {},
   "outputs": [
    {
     "data": {
      "text/plain": [
       "['tomato',\n",
       " 'okra',\n",
       " 'brinjal',\n",
       " 'potato',\n",
       " 'kundru',\n",
       " 'flower',\n",
       " [45, 9],\n",
       " [45, 9],\n",
       " 23,\n",
       " 98,\n",
       " 23,\n",
       " 98]"
      ]
     },
     "execution_count": 25,
     "metadata": {},
     "output_type": "execute_result"
    }
   ],
   "source": [
    "veglist"
   ]
  },
  {
   "cell_type": "code",
   "execution_count": 26,
   "id": "1e38b19c",
   "metadata": {},
   "outputs": [],
   "source": [
    "veglist.insert(3,'califlower')"
   ]
  },
  {
   "cell_type": "code",
   "execution_count": 27,
   "id": "21bf3a89",
   "metadata": {},
   "outputs": [
    {
     "data": {
      "text/plain": [
       "['tomato',\n",
       " 'okra',\n",
       " 'brinjal',\n",
       " 'califlower',\n",
       " 'potato',\n",
       " 'kundru',\n",
       " 'flower',\n",
       " [45, 9],\n",
       " [45, 9],\n",
       " 23,\n",
       " 98,\n",
       " 23,\n",
       " 98]"
      ]
     },
     "execution_count": 27,
     "metadata": {},
     "output_type": "execute_result"
    }
   ],
   "source": [
    "veglist"
   ]
  },
  {
   "cell_type": "code",
   "execution_count": 28,
   "id": "63496f81",
   "metadata": {},
   "outputs": [
    {
     "data": {
      "text/plain": [
       "['34', '45', '90', '33']"
      ]
     },
     "execution_count": 28,
     "metadata": {},
     "output_type": "execute_result"
    }
   ],
   "source": [
    "marks"
   ]
  },
  {
   "cell_type": "code",
   "execution_count": 29,
   "id": "efbde0ea",
   "metadata": {},
   "outputs": [],
   "source": [
    "marks.insert(2, '50')"
   ]
  },
  {
   "cell_type": "code",
   "execution_count": 30,
   "id": "2c31867f",
   "metadata": {},
   "outputs": [
    {
     "data": {
      "text/plain": [
       "['34', '45', '50', '90', '33']"
      ]
     },
     "execution_count": 30,
     "metadata": {},
     "output_type": "execute_result"
    }
   ],
   "source": [
    "marks"
   ]
  },
  {
   "cell_type": "markdown",
   "id": "2ae76c56",
   "metadata": {},
   "source": [
    "### CRUD operation"
   ]
  },
  {
   "cell_type": "markdown",
   "id": "3334ab0d",
   "metadata": {},
   "source": [
    "create, read, update , delet"
   ]
  },
  {
   "cell_type": "markdown",
   "id": "6405ef9d",
   "metadata": {},
   "source": [
    "create :\n",
    "    - apeend\n",
    "    \n",
    "     - extend"
   ]
  },
  {
   "cell_type": "markdown",
   "id": "739a583d",
   "metadata": {},
   "source": [
    "update \n"
   ]
  },
  {
   "cell_type": "code",
   "execution_count": 32,
   "id": "a61cff18",
   "metadata": {},
   "outputs": [
    {
     "data": {
      "text/plain": [
       "['tomato',\n",
       " 'okra',\n",
       " 'brinjal',\n",
       " 'califlower',\n",
       " 'potato',\n",
       " 'kundru',\n",
       " 'flower',\n",
       " [45, 9],\n",
       " [45, 9],\n",
       " 23,\n",
       " 98,\n",
       " 23,\n",
       " 98]"
      ]
     },
     "execution_count": 32,
     "metadata": {},
     "output_type": "execute_result"
    }
   ],
   "source": [
    "veglist"
   ]
  },
  {
   "cell_type": "code",
   "execution_count": 33,
   "id": "b92b7e96",
   "metadata": {},
   "outputs": [],
   "source": [
    "veglist[2] = 'onion'"
   ]
  },
  {
   "cell_type": "code",
   "execution_count": 34,
   "id": "21bc00af",
   "metadata": {},
   "outputs": [
    {
     "data": {
      "text/plain": [
       "['tomato',\n",
       " 'okra',\n",
       " 'onion',\n",
       " 'califlower',\n",
       " 'potato',\n",
       " 'kundru',\n",
       " 'flower',\n",
       " [45, 9],\n",
       " [45, 9],\n",
       " 23,\n",
       " 98,\n",
       " 23,\n",
       " 98]"
      ]
     },
     "execution_count": 34,
     "metadata": {},
     "output_type": "execute_result"
    }
   ],
   "source": [
    "veglist    #list get updated"
   ]
  },
  {
   "cell_type": "markdown",
   "id": "ae513f95",
   "metadata": {},
   "source": [
    "read "
   ]
  },
  {
   "cell_type": "code",
   "execution_count": 35,
   "id": "220c11d9",
   "metadata": {},
   "outputs": [
    {
     "data": {
      "text/plain": [
       "'califlower'"
      ]
     },
     "execution_count": 35,
     "metadata": {},
     "output_type": "execute_result"
    }
   ],
   "source": [
    "veglist[3]"
   ]
  },
  {
   "cell_type": "markdown",
   "id": "9b2ff899",
   "metadata": {},
   "source": [
    "delet"
   ]
  },
  {
   "cell_type": "code",
   "execution_count": 44,
   "id": "14566251",
   "metadata": {},
   "outputs": [],
   "source": [
    "# .pop() = it takes index value of the element which we have to pop\n",
    "# otherwise by default it will take index as (-1)\n",
    "# Only single element can pop at  time \n",
    "# exception : we can use for loop or while loop to pop multiple varible"
   ]
  },
  {
   "cell_type": "code",
   "execution_count": 36,
   "id": "02d62507",
   "metadata": {},
   "outputs": [
    {
     "data": {
      "text/plain": [
       "98"
      ]
     },
     "execution_count": 36,
     "metadata": {},
     "output_type": "execute_result"
    }
   ],
   "source": [
    "veglist.pop()  #poping last element from the list "
   ]
  },
  {
   "cell_type": "code",
   "execution_count": 38,
   "id": "aba5aada",
   "metadata": {},
   "outputs": [
    {
     "data": {
      "text/plain": [
       "['tomato',\n",
       " 'okra',\n",
       " 'onion',\n",
       " 'califlower',\n",
       " 'potato',\n",
       " 'kundru',\n",
       " 'flower',\n",
       " [45, 9],\n",
       " [45, 9],\n",
       " 23,\n",
       " 98,\n",
       " 23]"
      ]
     },
     "execution_count": 38,
     "metadata": {},
     "output_type": "execute_result"
    }
   ],
   "source": [
    "veglist # after poping last element its get removed from the list "
   ]
  },
  {
   "cell_type": "code",
   "execution_count": 40,
   "id": "ffabab1a",
   "metadata": {},
   "outputs": [
    {
     "ename": "TypeError",
     "evalue": "'str' object cannot be interpreted as an integer",
     "output_type": "error",
     "traceback": [
      "\u001b[1;31m---------------------------------------------------------------------------\u001b[0m",
      "\u001b[1;31mTypeError\u001b[0m                                 Traceback (most recent call last)",
      "Cell \u001b[1;32mIn[40], line 1\u001b[0m\n\u001b[1;32m----> 1\u001b[0m \u001b[43mveglist\u001b[49m\u001b[38;5;241;43m.\u001b[39;49m\u001b[43mpop\u001b[49m\u001b[43m(\u001b[49m\u001b[38;5;124;43m'\u001b[39;49m\u001b[38;5;124;43mokra\u001b[39;49m\u001b[38;5;124;43m'\u001b[39;49m\u001b[43m)\u001b[49m\n\u001b[0;32m      2\u001b[0m veglist\n",
      "\u001b[1;31mTypeError\u001b[0m: 'str' object cannot be interpreted as an integer"
     ]
    }
   ],
   "source": [
    "veglist.pop('okra')\n",
    "veglist"
   ]
  },
  {
   "cell_type": "code",
   "execution_count": 41,
   "id": "bae6fb50",
   "metadata": {},
   "outputs": [],
   "source": [
    "x = veglist.pop()   #poped element is getting remoed from the list and getting stored into x varible"
   ]
  },
  {
   "cell_type": "code",
   "execution_count": 42,
   "id": "3e41e168",
   "metadata": {},
   "outputs": [
    {
     "data": {
      "text/plain": [
       "23"
      ]
     },
     "execution_count": 42,
     "metadata": {},
     "output_type": "execute_result"
    }
   ],
   "source": [
    "x"
   ]
  },
  {
   "cell_type": "code",
   "execution_count": 45,
   "id": "94c0e5f2",
   "metadata": {},
   "outputs": [
    {
     "data": {
      "text/plain": [
       "'onion'"
      ]
     },
     "execution_count": 45,
     "metadata": {},
     "output_type": "execute_result"
    }
   ],
   "source": [
    "veglist.pop(2)"
   ]
  },
  {
   "cell_type": "code",
   "execution_count": 46,
   "id": "6fcc2931",
   "metadata": {},
   "outputs": [
    {
     "data": {
      "text/plain": [
       "['tomato',\n",
       " 'okra',\n",
       " 'califlower',\n",
       " 'potato',\n",
       " 'kundru',\n",
       " 'flower',\n",
       " [45, 9],\n",
       " [45, 9],\n",
       " 23,\n",
       " 98]"
      ]
     },
     "execution_count": 46,
     "metadata": {},
     "output_type": "execute_result"
    }
   ],
   "source": [
    "veglist"
   ]
  },
  {
   "cell_type": "code",
   "execution_count": 47,
   "id": "ccdbd840",
   "metadata": {},
   "outputs": [],
   "source": [
    "veglist.insert(1, 'banana')"
   ]
  },
  {
   "cell_type": "code",
   "execution_count": 48,
   "id": "9726f654",
   "metadata": {},
   "outputs": [
    {
     "data": {
      "text/plain": [
       "['tomato',\n",
       " 'banana',\n",
       " 'okra',\n",
       " 'califlower',\n",
       " 'potato',\n",
       " 'kundru',\n",
       " 'flower',\n",
       " [45, 9],\n",
       " [45, 9],\n",
       " 23,\n",
       " 98]"
      ]
     },
     "execution_count": 48,
     "metadata": {},
     "output_type": "execute_result"
    }
   ],
   "source": [
    "veglist\n"
   ]
  },
  {
   "cell_type": "code",
   "execution_count": 49,
   "id": "903f2960",
   "metadata": {},
   "outputs": [],
   "source": [
    "marks.insert(3, 'fail')"
   ]
  },
  {
   "cell_type": "code",
   "execution_count": 56,
   "id": "28f5c4a2",
   "metadata": {},
   "outputs": [],
   "source": [
    "marks = [23,24,25,26]"
   ]
  },
  {
   "cell_type": "code",
   "execution_count": 57,
   "id": "979dd726",
   "metadata": {},
   "outputs": [
    {
     "name": "stdout",
     "output_type": "stream",
     "text": [
      "[23, 24, 40, 30, 20, 10, 25, 26]\n"
     ]
    }
   ],
   "source": [
    "p = [10,20,30,40]            # it is adding each element on fixed position  2 , hence it is shifting by 1 \n",
    "for i in p :\n",
    "    marks.insert(2, i)\n",
    "print(marks)"
   ]
  },
  {
   "cell_type": "code",
   "execution_count": 58,
   "id": "300a8800",
   "metadata": {},
   "outputs": [
    {
     "name": "stdout",
     "output_type": "stream",
     "text": [
      "[23, 24, 10, 20, 30, 40, 40, 30, 20, 10, 25, 26]\n"
     ]
    }
   ],
   "source": [
    "a = 0\n",
    "p = [10,20,30,40]\n",
    "for i in p :\n",
    "    marks.insert (2 + a, i)\n",
    "    a += 1\n",
    "print(marks)"
   ]
  },
  {
   "cell_type": "markdown",
   "id": "a7a2f82a",
   "metadata": {},
   "source": [
    "`remove method`: is used to remove the first occurance oof hte element from the list \n",
    "- .remove()\n",
    "\n",
    "- del ()\n",
    "\n",
    "- clear ()"
   ]
  },
  {
   "cell_type": "code",
   "execution_count": 60,
   "id": "469c6d5c",
   "metadata": {},
   "outputs": [
    {
     "data": {
      "text/plain": [
       "[23, 24, 25, 26, 27, 22, 22]"
      ]
     },
     "execution_count": 60,
     "metadata": {},
     "output_type": "execute_result"
    }
   ],
   "source": [
    "marks = [23, 24, 25, 26, 22, 27, 22, 22]\n",
    "marks.remove(22)\n",
    "marks"
   ]
  },
  {
   "cell_type": "code",
   "execution_count": 61,
   "id": "e42c4b71",
   "metadata": {},
   "outputs": [],
   "source": [
    "# removes the element 1st repeted occured element from the list\n",
    "# difference between pop and removve is : pop depends on index value of the data which we havw to remove \n",
    "# remove method is depend on which elemen twe have to remove \n",
    "# it will show error if we tried to remove the element which is not present into the list "
   ]
  },
  {
   "cell_type": "code",
   "execution_count": 62,
   "id": "1abca5af",
   "metadata": {},
   "outputs": [
    {
     "ename": "TypeError",
     "evalue": "list.remove() takes exactly one argument (2 given)",
     "output_type": "error",
     "traceback": [
      "\u001b[1;31m---------------------------------------------------------------------------\u001b[0m",
      "\u001b[1;31mTypeError\u001b[0m                                 Traceback (most recent call last)",
      "Cell \u001b[1;32mIn[62], line 2\u001b[0m\n\u001b[0;32m      1\u001b[0m marks \u001b[38;5;241m=\u001b[39m [\u001b[38;5;241m23\u001b[39m, \u001b[38;5;241m24\u001b[39m, \u001b[38;5;241m25\u001b[39m, \u001b[38;5;241m25\u001b[39m, \u001b[38;5;241m26\u001b[39m, \u001b[38;5;241m22\u001b[39m, \u001b[38;5;241m27\u001b[39m, \u001b[38;5;241m22\u001b[39m, \u001b[38;5;241m22\u001b[39m]\n\u001b[1;32m----> 2\u001b[0m \u001b[43mmarks\u001b[49m\u001b[38;5;241;43m.\u001b[39;49m\u001b[43mremove\u001b[49m\u001b[43m(\u001b[49m\u001b[38;5;241;43m25\u001b[39;49m\u001b[43m,\u001b[49m\u001b[43m \u001b[49m\u001b[38;5;241;43m22\u001b[39;49m\u001b[43m)\u001b[49m\n\u001b[0;32m      3\u001b[0m marks\n",
      "\u001b[1;31mTypeError\u001b[0m: list.remove() takes exactly one argument (2 given)"
     ]
    }
   ],
   "source": [
    "marks = [23, 24, 25, 25, 26, 22, 27, 22, 22]\n",
    "marks.remove(25, 22)\n",
    "marks\n",
    "# Only one reeocccured element can be removed at a time "
   ]
  },
  {
   "cell_type": "code",
   "execution_count": 70,
   "id": "0cb885f9",
   "metadata": {},
   "outputs": [],
   "source": [
    "marks = [23, 24, 25, 25, 26, 22, 27, 22, 22]\n",
    "b = 22\n",
    "if b in marks:\n",
    "    marks.remove(b)"
   ]
  },
  {
   "cell_type": "code",
   "execution_count": 71,
   "id": "64e7517d",
   "metadata": {},
   "outputs": [
    {
     "data": {
      "text/plain": [
       "[23, 24, 25, 25, 26, 27, 22, 22]"
      ]
     },
     "execution_count": 71,
     "metadata": {},
     "output_type": "execute_result"
    }
   ],
   "source": [
    "marks"
   ]
  },
  {
   "cell_type": "code",
   "execution_count": 2,
   "id": "a4336ff7",
   "metadata": {},
   "outputs": [
    {
     "name": "stdout",
     "output_type": "stream",
     "text": [
      "Enter number: 90\n",
      "element is not present\n"
     ]
    }
   ],
   "source": [
    "marks = [23, 24, 25, 25, 26, 22, 27, 22, 22]\n",
    "b =int(input('Enter number: '))\n",
    "if b in marks:\n",
    "    marks.remove(b)\n",
    "    print('b')\n",
    "else         :\n",
    "    print('element is not present')"
   ]
  },
  {
   "cell_type": "code",
   "execution_count": 8,
   "id": "0b6f34da",
   "metadata": {},
   "outputs": [
    {
     "name": "stdout",
     "output_type": "stream",
     "text": [
      "34\n",
      "element is not present\n"
     ]
    }
   ],
   "source": [
    "marks = [23, 24, 25, 25, 26, 22, 27,  22, 22]\n",
    "b =input()\n",
    "if b.isdigit : b= int(b)    \n",
    "if b in marks:\n",
    "    marks.remove(b)   \n",
    "else         :\n",
    "    print('element is not present')"
   ]
  },
  {
   "cell_type": "code",
   "execution_count": 7,
   "id": "7ec98c45",
   "metadata": {},
   "outputs": [
    {
     "ename": "NameError",
     "evalue": "name 'w' is not defined",
     "output_type": "error",
     "traceback": [
      "\u001b[1;31m---------------------------------------------------------------------------\u001b[0m",
      "\u001b[1;31mNameError\u001b[0m                                 Traceback (most recent call last)",
      "Cell \u001b[1;32mIn[7], line 3\u001b[0m\n\u001b[0;32m      1\u001b[0m w \u001b[38;5;241m=\u001b[39m \u001b[38;5;241m90\u001b[39m\n\u001b[0;32m      2\u001b[0m \u001b[38;5;28;01mdel\u001b[39;00m(w)\n\u001b[1;32m----> 3\u001b[0m \u001b[43mw\u001b[49m\n",
      "\u001b[1;31mNameError\u001b[0m: name 'w' is not defined"
     ]
    }
   ],
   "source": [
    "w = 90\n",
    "del(w)\n",
    "w\n",
    "# It shows not defined because it is deleted"
   ]
  },
  {
   "cell_type": "code",
   "execution_count": 14,
   "id": "77940398",
   "metadata": {},
   "outputs": [
    {
     "data": {
      "text/plain": [
       "[23, 24, 25, 25, 22, 27, 22, 22]"
      ]
     },
     "execution_count": 14,
     "metadata": {},
     "output_type": "execute_result"
    }
   ],
   "source": [
    "marks = [23, 24, 25, 25, 26, 22, 27,  22, 22]\n",
    "del marks[4]\n",
    "marks\n",
    "# taking inex value and remove the element from the list"
   ]
  },
  {
   "cell_type": "code",
   "execution_count": 16,
   "id": "eb368eff",
   "metadata": {},
   "outputs": [
    {
     "data": {
      "text/plain": [
       "[]"
      ]
     },
     "execution_count": 16,
     "metadata": {},
     "output_type": "execute_result"
    }
   ],
   "source": [
    "marks = [23, 24, 25, 25, 26, 22, 27,  22, 22]\n",
    "marks.clear()\n",
    "marks\n",
    "# It will give empty list "
   ]
  },
  {
   "cell_type": "markdown",
   "id": "bd4ac38b",
   "metadata": {},
   "source": [
    "## Pop = only taking element `outside` from the list\n",
    "## Remove = removing the `only first occurance` of the repeated element from the list\n",
    "## Delet = `deleting` the element from the list\n",
    "## Clear = removes `all the elements` from the list "
   ]
  },
  {
   "cell_type": "markdown",
   "id": "90638e60",
   "metadata": {},
   "source": [
    "`Index method` is similar as find method ,just the difference is find is use for string and index is use for list \n",
    "\n",
    "It will give the index value of the first occurance of the element"
   ]
  },
  {
   "cell_type": "code",
   "execution_count": 19,
   "id": "48c5381c",
   "metadata": {},
   "outputs": [
    {
     "data": {
      "text/plain": [
       "3"
      ]
     },
     "execution_count": 19,
     "metadata": {},
     "output_type": "execute_result"
    }
   ],
   "source": [
    "a = 'I love India'\n",
    "a.find('o')\n",
    "#In find function : we have to put the element which have to find into the brackets insted of index no "
   ]
  },
  {
   "cell_type": "code",
   "execution_count": 26,
   "id": "a8df54e2",
   "metadata": {},
   "outputs": [
    {
     "data": {
      "text/plain": [
       "[23, 24, 25, 25, 26, 22, 27, 22, 22]"
      ]
     },
     "execution_count": 26,
     "metadata": {},
     "output_type": "execute_result"
    }
   ],
   "source": [
    "marks = [23, 24, 25, 25, 26, 22, 27,  22, 22]\n",
    "marks"
   ]
  },
  {
   "cell_type": "code",
   "execution_count": 29,
   "id": "652bc5df",
   "metadata": {},
   "outputs": [
    {
     "ename": "ValueError",
     "evalue": "'24' is not in list",
     "output_type": "error",
     "traceback": [
      "\u001b[1;31m---------------------------------------------------------------------------\u001b[0m",
      "\u001b[1;31mValueError\u001b[0m                                Traceback (most recent call last)",
      "Cell \u001b[1;32mIn[29], line 1\u001b[0m\n\u001b[1;32m----> 1\u001b[0m \u001b[43mmarks\u001b[49m\u001b[38;5;241;43m.\u001b[39;49m\u001b[43mindex\u001b[49m\u001b[43m(\u001b[49m\u001b[38;5;124;43m'\u001b[39;49m\u001b[38;5;124;43m24\u001b[39;49m\u001b[38;5;124;43m'\u001b[39;49m\u001b[43m)\u001b[49m\n",
      "\u001b[1;31mValueError\u001b[0m: '24' is not in list"
     ]
    }
   ],
   "source": [
    "marks.index('24')"
   ]
  },
  {
   "cell_type": "markdown",
   "id": "b0d5aebf",
   "metadata": {},
   "source": [
    "`count method ` : is use to count the element in the list "
   ]
  },
  {
   "cell_type": "code",
   "execution_count": 31,
   "id": "5e3e07d0",
   "metadata": {},
   "outputs": [
    {
     "data": {
      "text/plain": [
       "3"
      ]
     },
     "execution_count": 31,
     "metadata": {},
     "output_type": "execute_result"
    }
   ],
   "source": [
    "marks = [23, 24, 25, 25, 26, 22, 27,  22, 22]\n",
    "marks.count(22)"
   ]
  },
  {
   "cell_type": "code",
   "execution_count": 32,
   "id": "a40128f6",
   "metadata": {},
   "outputs": [
    {
     "data": {
      "text/plain": [
       "1"
      ]
     },
     "execution_count": 32,
     "metadata": {},
     "output_type": "execute_result"
    }
   ],
   "source": [
    "marks.count(23)"
   ]
  },
  {
   "cell_type": "code",
   "execution_count": 34,
   "id": "201b88df",
   "metadata": {},
   "outputs": [
    {
     "name": "stdout",
     "output_type": "stream",
     "text": [
      "[34, 67, 90]\n",
      "[67, 90]\n"
     ]
    }
   ],
   "source": [
    "# WAP to remove the all repeated number from the list \n",
    "m = [34,34,67,90]\n",
    "for i in range(m.count(34)):\n",
    "    m.remove(34)\n",
    "    print (m)"
   ]
  },
  {
   "cell_type": "markdown",
   "id": "2db1bbf2",
   "metadata": {},
   "source": [
    "`reverse method` : it will give the whole list in reverse form "
   ]
  },
  {
   "cell_type": "code",
   "execution_count": 36,
   "id": "7661c134",
   "metadata": {},
   "outputs": [],
   "source": [
    "marks = [23, 24, 25, 25, 26, 22, 27,  22, 22]\n",
    "marks.reverse()"
   ]
  },
  {
   "cell_type": "code",
   "execution_count": 37,
   "id": "ae4d69f7",
   "metadata": {},
   "outputs": [
    {
     "data": {
      "text/plain": [
       "[22, 22, 27, 22, 26, 25, 25, 24, 23]"
      ]
     },
     "execution_count": 37,
     "metadata": {},
     "output_type": "execute_result"
    }
   ],
   "source": [
    "marks"
   ]
  },
  {
   "cell_type": "code",
   "execution_count": 38,
   "id": "45d9f738",
   "metadata": {},
   "outputs": [
    {
     "ename": "AttributeError",
     "evalue": "'str' object has no attribute 'reverse'",
     "output_type": "error",
     "traceback": [
      "\u001b[1;31m---------------------------------------------------------------------------\u001b[0m",
      "\u001b[1;31mAttributeError\u001b[0m                            Traceback (most recent call last)",
      "Cell \u001b[1;32mIn[38], line 2\u001b[0m\n\u001b[0;32m      1\u001b[0m m \u001b[38;5;241m=\u001b[39m \u001b[38;5;124m'\u001b[39m\u001b[38;5;124mI love my India\u001b[39m\u001b[38;5;124m'\u001b[39m\n\u001b[1;32m----> 2\u001b[0m \u001b[43mm\u001b[49m\u001b[38;5;241;43m.\u001b[39;49m\u001b[43mreverse\u001b[49m()\n",
      "\u001b[1;31mAttributeError\u001b[0m: 'str' object has no attribute 'reverse'"
     ]
    }
   ],
   "source": [
    "m = 'I love my India'\n",
    "m.reverse()"
   ]
  },
  {
   "cell_type": "markdown",
   "id": "87d9a116",
   "metadata": {},
   "source": [
    "`Sort method` : it will sort the element in list in assending value by default (reverse = false)"
   ]
  },
  {
   "cell_type": "code",
   "execution_count": 39,
   "id": "f6bd18d1",
   "metadata": {},
   "outputs": [
    {
     "data": {
      "text/plain": [
       "[32, 54, 90]"
      ]
     },
     "execution_count": 39,
     "metadata": {},
     "output_type": "execute_result"
    }
   ],
   "source": [
    "n = [54, 90, 32]\n",
    "n.sort()\n",
    "n"
   ]
  },
  {
   "cell_type": "code",
   "execution_count": 42,
   "id": "b08a20ab",
   "metadata": {},
   "outputs": [
    {
     "data": {
      "text/plain": [
       "[90, 54, 32]"
      ]
     },
     "execution_count": 42,
     "metadata": {},
     "output_type": "execute_result"
    }
   ],
   "source": [
    "n.sort(reverse = True)\n",
    "n\n",
    "# descending manner output"
   ]
  },
  {
   "cell_type": "markdown",
   "id": "ce2ebb82",
   "metadata": {},
   "source": [
    "`copy method `"
   ]
  },
  {
   "cell_type": "code",
   "execution_count": 44,
   "id": "1be308d0",
   "metadata": {},
   "outputs": [
    {
     "name": "stdout",
     "output_type": "stream",
     "text": [
      "8\n",
      "8\n"
     ]
    }
   ],
   "source": [
    "x = 8 \n",
    "y = x \n",
    "print (x)\n",
    "print(y)"
   ]
  },
  {
   "cell_type": "code",
   "execution_count": 49,
   "id": "abcbf35a",
   "metadata": {},
   "outputs": [
    {
     "name": "stdout",
     "output_type": "stream",
     "text": [
      "8\n",
      "8\n",
      "8\n"
     ]
    }
   ],
   "source": [
    "x = 8 \n",
    "y = x \n",
    "print (x)\n",
    "print(y)\n",
    "x = 2\n",
    "print(y)\n",
    "# we didnt give command to y hence there is no change \n",
    "# integer is immutable "
   ]
  },
  {
   "cell_type": "code",
   "execution_count": 46,
   "id": "c7821f16",
   "metadata": {},
   "outputs": [
    {
     "name": "stdout",
     "output_type": "stream",
     "text": [
      "[2, 7, 9, 4]\n",
      "[2, 7, 9, 4]\n"
     ]
    }
   ],
   "source": [
    "p =[ 2,7,9,4]\n",
    "q = p \n",
    "print(p)\n",
    "print(q)"
   ]
  },
  {
   "cell_type": "code",
   "execution_count": 50,
   "id": "72abbe09",
   "metadata": {},
   "outputs": [
    {
     "name": "stdout",
     "output_type": "stream",
     "text": [
      "[2, 7, 9, 4]\n",
      "[2, 7, 9, 4]\n",
      "[2, 7, 9, 4, 3]\n"
     ]
    }
   ],
   "source": [
    "p =[ 2,7,9,4]\n",
    "q = p \n",
    "print(p)\n",
    "print(q)\n",
    "p.append(3)\n",
    "print(q)\n",
    "# List is mutable"
   ]
  },
  {
   "cell_type": "code",
   "execution_count": 51,
   "id": "2a9cd31d",
   "metadata": {},
   "outputs": [
    {
     "name": "stdout",
     "output_type": "stream",
     "text": [
      "[2, 7, 9, 4]\n",
      "[2, 7, 9, 4]\n",
      "[2, 7, 9, 4]\n"
     ]
    }
   ],
   "source": [
    "p =[ 2,7,9,4]\n",
    "q = p.copy()\n",
    "print(p)\n",
    "print(q)\n",
    "p.append(3)\n",
    "print(q)\n",
    "#it will remain same"
   ]
  },
  {
   "cell_type": "code",
   "execution_count": 53,
   "id": "99f349ab",
   "metadata": {},
   "outputs": [
    {
     "name": "stdout",
     "output_type": "stream",
     "text": [
      "[2, 7, 9, 4]\n",
      "[2, 7, 9, 4]\n",
      "[2, 7, 9, 4, 3]\n",
      "[2, 7, 9, 4]\n"
     ]
    }
   ],
   "source": [
    "p =[ 2,7,9,4]\n",
    "q = p.copy()\n",
    "print(p)\n",
    "print(q)\n",
    "p.append(3)\n",
    "print(p)\n",
    "print(q)\n",
    "# it will only change p value but q value is same as it is previously unchanged p value"
   ]
  },
  {
   "cell_type": "markdown",
   "id": "5d415cd3",
   "metadata": {},
   "source": [
    "Copy merhod is used in mutable deatypes \n",
    "list, dict, set "
   ]
  },
  {
   "cell_type": "code",
   "execution_count": 54,
   "id": "579dd8f7",
   "metadata": {},
   "outputs": [
    {
     "data": {
      "text/plain": [
       "9"
      ]
     },
     "execution_count": 54,
     "metadata": {},
     "output_type": "execute_result"
    }
   ],
   "source": [
    "max(q)"
   ]
  },
  {
   "cell_type": "code",
   "execution_count": 55,
   "id": "0e3d87b3",
   "metadata": {},
   "outputs": [
    {
     "data": {
      "text/plain": [
       "2"
      ]
     },
     "execution_count": 55,
     "metadata": {},
     "output_type": "execute_result"
    }
   ],
   "source": [
    "min(q)"
   ]
  },
  {
   "cell_type": "code",
   "execution_count": 56,
   "id": "447c772d",
   "metadata": {},
   "outputs": [
    {
     "data": {
      "text/plain": [
       "22"
      ]
     },
     "execution_count": 56,
     "metadata": {},
     "output_type": "execute_result"
    }
   ],
   "source": [
    "sum(q)"
   ]
  },
  {
   "cell_type": "markdown",
   "id": "80dfa9a0",
   "metadata": {},
   "source": [
    "# Methods on Tuple"
   ]
  },
  {
   "cell_type": "code",
   "execution_count": 57,
   "id": "32b76b26",
   "metadata": {},
   "outputs": [],
   "source": [
    "# tuples are immutable hence we cant modify it .\n",
    "# only 2 operation in tuple method ( index and count)"
   ]
  },
  {
   "cell_type": "code",
   "execution_count": 60,
   "id": "a4c32866",
   "metadata": {},
   "outputs": [
    {
     "data": {
      "text/plain": [
       "1"
      ]
     },
     "execution_count": 60,
     "metadata": {},
     "output_type": "execute_result"
    }
   ],
   "source": [
    "t = (34, 89, 76)\n",
    "t.index(89)\n"
   ]
  },
  {
   "cell_type": "code",
   "execution_count": 59,
   "id": "f9842702",
   "metadata": {},
   "outputs": [
    {
     "data": {
      "text/plain": [
       "0"
      ]
     },
     "execution_count": 59,
     "metadata": {},
     "output_type": "execute_result"
    }
   ],
   "source": [
    "t.index(34)"
   ]
  },
  {
   "cell_type": "code",
   "execution_count": 62,
   "id": "50cb0e83",
   "metadata": {},
   "outputs": [
    {
     "data": {
      "text/plain": [
       "1"
      ]
     },
     "execution_count": 62,
     "metadata": {},
     "output_type": "execute_result"
    }
   ],
   "source": [
    "t.count(89)"
   ]
  },
  {
   "cell_type": "code",
   "execution_count": null,
   "id": "ba570019",
   "metadata": {},
   "outputs": [],
   "source": [
    "# if we want to sort tuple we have to typecast the tuple into list"
   ]
  },
  {
   "cell_type": "code",
   "execution_count": 65,
   "id": "bc762007",
   "metadata": {},
   "outputs": [
    {
     "data": {
      "text/plain": [
       "(34, 76, 89)"
      ]
     },
     "execution_count": 65,
     "metadata": {},
     "output_type": "execute_result"
    }
   ],
   "source": [
    "q = list(t)\n",
    "q.sort()\n",
    "p = tuple(q)\n",
    "p"
   ]
  },
  {
   "cell_type": "markdown",
   "id": "1bc69717",
   "metadata": {},
   "source": [
    "# Methods on Dictionary"
   ]
  },
  {
   "cell_type": "code",
   "execution_count": 1,
   "id": "b56b44a0",
   "metadata": {},
   "outputs": [],
   "source": [
    "## CRUD\n",
    "# Concatenation\n",
    "# Indexing\n",
    "# Repetation\n",
    "# Slicing"
   ]
  },
  {
   "cell_type": "markdown",
   "id": "52389c65",
   "metadata": {},
   "source": [
    "* for indexing in dictionary you have to give key to fetch its valuee "
   ]
  },
  {
   "cell_type": "code",
   "execution_count": 2,
   "id": "5b57ee7e",
   "metadata": {},
   "outputs": [
    {
     "data": {
      "text/plain": [
       "{2: 4, 7: 2, 4: 8, 3: 2, 5: 2}"
      ]
     },
     "execution_count": 2,
     "metadata": {},
     "output_type": "execute_result"
    }
   ],
   "source": [
    "d ={2:4, 7:2, 4:8, 3:2, 5:2}\n",
    "d"
   ]
  },
  {
   "cell_type": "code",
   "execution_count": 8,
   "id": "a750389c",
   "metadata": {},
   "outputs": [
    {
     "ename": "KeyError",
     "evalue": "1",
     "output_type": "error",
     "traceback": [
      "\u001b[1;31m---------------------------------------------------------------------------\u001b[0m",
      "\u001b[1;31mKeyError\u001b[0m                                  Traceback (most recent call last)",
      "Cell \u001b[1;32mIn[8], line 1\u001b[0m\n\u001b[1;32m----> 1\u001b[0m \u001b[43md\u001b[49m\u001b[43m[\u001b[49m\u001b[38;5;241;43m1\u001b[39;49m\u001b[43m]\u001b[49m\n",
      "\u001b[1;31mKeyError\u001b[0m: 1"
     ]
    }
   ],
   "source": [
    "d[1] # no key "
   ]
  },
  {
   "cell_type": "code",
   "execution_count": 5,
   "id": "cce15f1e",
   "metadata": {},
   "outputs": [
    {
     "name": "stdout",
     "output_type": "stream",
     "text": [
      "None\n"
     ]
    }
   ],
   "source": [
    "d.get(1)     # because theere is no key as '1'"
   ]
  },
  {
   "cell_type": "code",
   "execution_count": 6,
   "id": "7c1e2d94",
   "metadata": {},
   "outputs": [
    {
     "data": {
      "text/plain": [
       "8"
      ]
     },
     "execution_count": 6,
     "metadata": {},
     "output_type": "execute_result"
    }
   ],
   "source": [
    "d.get(4)    #key 4"
   ]
  },
  {
   "cell_type": "code",
   "execution_count": 9,
   "id": "d9d727be",
   "metadata": {},
   "outputs": [
    {
     "data": {
      "text/plain": [
       "{2: 4, 7: 2, 4: 43, 3: 2, 5: 2}"
      ]
     },
     "execution_count": 9,
     "metadata": {},
     "output_type": "execute_result"
    }
   ],
   "source": [
    "d[4]= 43\n",
    "d   # chnging value of 4 key"
   ]
  },
  {
   "cell_type": "code",
   "execution_count": 13,
   "id": "3b5a0518",
   "metadata": {},
   "outputs": [
    {
     "data": {
      "text/plain": [
       "{2: 4, 7: 2, 4: 43, 3: 2, 5: 34, 8: 45, 9: 12}"
      ]
     },
     "execution_count": 13,
     "metadata": {},
     "output_type": "execute_result"
    }
   ],
   "source": [
    "# It will upde the ditionary by updating the give n value and\n",
    "# by modifying the value which is not present in it by appendint in the end.\n",
    "d.update({5:34,9:12})\n",
    "d\n",
    "\n",
    "\n",
    "# Here is the 6 hence the value of 5 will be updated and value of 9 is not there hence its value get appended at the last of the dictionary"
   ]
  },
  {
   "cell_type": "code",
   "execution_count": 14,
   "id": "a69fd435",
   "metadata": {},
   "outputs": [
    {
     "data": {
      "text/plain": [
       "dict_keys([2, 7, 4, 3, 5, 8, 9])"
      ]
     },
     "execution_count": 14,
     "metadata": {},
     "output_type": "execute_result"
    }
   ],
   "source": [
    "d.keys()    # to get all the keys in dect , non indexible value"
   ]
  },
  {
   "cell_type": "code",
   "execution_count": 15,
   "id": "8ad0d9f1",
   "metadata": {},
   "outputs": [
    {
     "ename": "TypeError",
     "evalue": "'dict_keys' object is not subscriptable",
     "output_type": "error",
     "traceback": [
      "\u001b[1;31m---------------------------------------------------------------------------\u001b[0m",
      "\u001b[1;31mTypeError\u001b[0m                                 Traceback (most recent call last)",
      "Cell \u001b[1;32mIn[15], line 1\u001b[0m\n\u001b[1;32m----> 1\u001b[0m \u001b[43md\u001b[49m\u001b[38;5;241;43m.\u001b[39;49m\u001b[43mkeys\u001b[49m\u001b[43m(\u001b[49m\u001b[43m)\u001b[49m\u001b[43m[\u001b[49m\u001b[38;5;241;43m0\u001b[39;49m\u001b[43m]\u001b[49m\n",
      "\u001b[1;31mTypeError\u001b[0m: 'dict_keys' object is not subscriptable"
     ]
    }
   ],
   "source": [
    "d.keys()[0] # it is non indexible value hence it wont give indeing value"
   ]
  },
  {
   "cell_type": "code",
   "execution_count": 16,
   "id": "5623b707",
   "metadata": {},
   "outputs": [
    {
     "data": {
      "text/plain": [
       "[2, 7, 4, 3, 5, 8, 9]"
      ]
     },
     "execution_count": 16,
     "metadata": {},
     "output_type": "execute_result"
    }
   ],
   "source": [
    "# we haave to typecast the dictionaary into list \n",
    "list(d.keys())"
   ]
  },
  {
   "cell_type": "code",
   "execution_count": 17,
   "id": "e49576aa",
   "metadata": {},
   "outputs": [
    {
     "data": {
      "text/plain": [
       "2"
      ]
     },
     "execution_count": 17,
     "metadata": {},
     "output_type": "execute_result"
    }
   ],
   "source": [
    "list(d.keys())[0]"
   ]
  },
  {
   "cell_type": "code",
   "execution_count": 20,
   "id": "42a32ff1",
   "metadata": {},
   "outputs": [
    {
     "data": {
      "text/plain": [
       "dict_values([4, 2, 43, 2, 34, 45, 12])"
      ]
     },
     "execution_count": 20,
     "metadata": {},
     "output_type": "execute_result"
    }
   ],
   "source": [
    "d.values()     # fetch all the values "
   ]
  },
  {
   "cell_type": "code",
   "execution_count": 21,
   "id": "288a5a17",
   "metadata": {},
   "outputs": [
    {
     "data": {
      "text/plain": [
       "4"
      ]
     },
     "execution_count": 21,
     "metadata": {},
     "output_type": "execute_result"
    }
   ],
   "source": [
    "list(d.values())[0]"
   ]
  },
  {
   "cell_type": "code",
   "execution_count": 22,
   "id": "ef926936",
   "metadata": {},
   "outputs": [
    {
     "data": {
      "text/plain": [
       "dict_items([(2, 4), (7, 2), (4, 43), (3, 2), (5, 34), (8, 45), (9, 12)])"
      ]
     },
     "execution_count": 22,
     "metadata": {},
     "output_type": "execute_result"
    }
   ],
   "source": [
    "d.items()  #fech items of the dictionary "
   ]
  },
  {
   "cell_type": "code",
   "execution_count": 23,
   "id": "bbfc5b95",
   "metadata": {},
   "outputs": [
    {
     "data": {
      "text/plain": [
       "(2, 4)"
      ]
     },
     "execution_count": 23,
     "metadata": {},
     "output_type": "execute_result"
    }
   ],
   "source": [
    "list(d.items())[0]"
   ]
  },
  {
   "cell_type": "code",
   "execution_count": 24,
   "id": "d55abe05",
   "metadata": {},
   "outputs": [],
   "source": [
    "d1 = d.copy() # make copy of dict "
   ]
  },
  {
   "cell_type": "code",
   "execution_count": 25,
   "id": "5d30957a",
   "metadata": {},
   "outputs": [],
   "source": [
    "d2 = d"
   ]
  },
  {
   "cell_type": "code",
   "execution_count": 26,
   "id": "44fc6077",
   "metadata": {},
   "outputs": [],
   "source": [
    "d.clear()  # clear all the element form dict"
   ]
  },
  {
   "cell_type": "code",
   "execution_count": 27,
   "id": "dc3ea8d4",
   "metadata": {},
   "outputs": [
    {
     "data": {
      "text/plain": [
       "{}"
      ]
     },
     "execution_count": 27,
     "metadata": {},
     "output_type": "execute_result"
    }
   ],
   "source": [
    "d  # elements are cleared "
   ]
  },
  {
   "cell_type": "code",
   "execution_count": 28,
   "id": "2b6d500b",
   "metadata": {},
   "outputs": [
    {
     "data": {
      "text/plain": [
       "{2: 4, 7: 2, 4: 43, 3: 2, 5: 34, 8: 45, 9: 12}"
      ]
     },
     "execution_count": 28,
     "metadata": {},
     "output_type": "execute_result"
    }
   ],
   "source": [
    "d1   # previously copied dict"
   ]
  },
  {
   "cell_type": "code",
   "execution_count": 29,
   "id": "33674fe7",
   "metadata": {},
   "outputs": [
    {
     "data": {
      "text/plain": [
       "{}"
      ]
     },
     "execution_count": 29,
     "metadata": {},
     "output_type": "execute_result"
    }
   ],
   "source": [
    "d2   # d2 = d"
   ]
  },
  {
   "cell_type": "code",
   "execution_count": 30,
   "id": "4c82c398",
   "metadata": {},
   "outputs": [
    {
     "ename": "TypeError",
     "evalue": "pop expected at least 1 argument, got 0",
     "output_type": "error",
     "traceback": [
      "\u001b[1;31m---------------------------------------------------------------------------\u001b[0m",
      "\u001b[1;31mTypeError\u001b[0m                                 Traceback (most recent call last)",
      "Cell \u001b[1;32mIn[30], line 1\u001b[0m\n\u001b[1;32m----> 1\u001b[0m \u001b[43md1\u001b[49m\u001b[38;5;241;43m.\u001b[39;49m\u001b[43mpop\u001b[49m\u001b[43m(\u001b[49m\u001b[43m)\u001b[49m\n",
      "\u001b[1;31mTypeError\u001b[0m: pop expected at least 1 argument, got 0"
     ]
    }
   ],
   "source": [
    "d1.pop()   \n",
    "# in dict we cant pot last element\n",
    "# we have to give key which we want to get popped "
   ]
  },
  {
   "cell_type": "code",
   "execution_count": 31,
   "id": "db5ce5d0",
   "metadata": {},
   "outputs": [
    {
     "data": {
      "text/plain": [
       "2"
      ]
     },
     "execution_count": 31,
     "metadata": {},
     "output_type": "execute_result"
    }
   ],
   "source": [
    "d1.pop(7)"
   ]
  },
  {
   "cell_type": "code",
   "execution_count": 32,
   "id": "6623e247",
   "metadata": {},
   "outputs": [
    {
     "data": {
      "text/plain": [
       "{2: 4, 4: 43, 3: 2, 5: 34, 8: 45, 9: 12}"
      ]
     },
     "execution_count": 32,
     "metadata": {},
     "output_type": "execute_result"
    }
   ],
   "source": [
    "d1  # popped 7"
   ]
  },
  {
   "cell_type": "code",
   "execution_count": 33,
   "id": "734d65fc",
   "metadata": {},
   "outputs": [],
   "source": [
    "del d1"
   ]
  },
  {
   "cell_type": "code",
   "execution_count": 34,
   "id": "6b767c85",
   "metadata": {},
   "outputs": [
    {
     "ename": "NameError",
     "evalue": "name 'dl' is not defined",
     "output_type": "error",
     "traceback": [
      "\u001b[1;31m---------------------------------------------------------------------------\u001b[0m",
      "\u001b[1;31mNameError\u001b[0m                                 Traceback (most recent call last)",
      "Cell \u001b[1;32mIn[34], line 1\u001b[0m\n\u001b[1;32m----> 1\u001b[0m \u001b[43mdl\u001b[49m\n",
      "\u001b[1;31mNameError\u001b[0m: name 'dl' is not defined"
     ]
    }
   ],
   "source": [
    "dl  # deleting whole dict"
   ]
  },
  {
   "cell_type": "markdown",
   "id": "3784f49d",
   "metadata": {},
   "source": [
    "# Methods on Sets"
   ]
  },
  {
   "cell_type": "markdown",
   "id": "d16f100a",
   "metadata": {},
   "source": [
    "- mutable  but elemts are immutable \n",
    "- unordered\n",
    "- non indexible "
   ]
  },
  {
   "cell_type": "code",
   "execution_count": 35,
   "id": "69dea3fb",
   "metadata": {},
   "outputs": [
    {
     "data": {
      "text/plain": [
       "{2, 3, 4, 5, 7}"
      ]
     },
     "execution_count": 35,
     "metadata": {},
     "output_type": "execute_result"
    }
   ],
   "source": [
    "se = {5,7,4,3,2,2}\n",
    "se"
   ]
  },
  {
   "cell_type": "markdown",
   "id": "e9c73366",
   "metadata": {},
   "source": [
    "can add new elemnt into set and can delet existing element friom the set\n",
    "\n",
    "we cant read the elemt in set \n",
    "\n",
    "we can read the entire set"
   ]
  },
  {
   "cell_type": "code",
   "execution_count": 36,
   "id": "57277cfa",
   "metadata": {},
   "outputs": [
    {
     "data": {
      "text/plain": [
       "{2, 3, 4, 5, 7}"
      ]
     },
     "execution_count": 36,
     "metadata": {},
     "output_type": "execute_result"
    }
   ],
   "source": [
    "se.add(3)\n",
    "se"
   ]
  },
  {
   "cell_type": "code",
   "execution_count": 37,
   "id": "2661ea67",
   "metadata": {},
   "outputs": [],
   "source": [
    "se.remove(2)"
   ]
  },
  {
   "cell_type": "code",
   "execution_count": null,
   "id": "daf4d2c6",
   "metadata": {},
   "outputs": [],
   "source": []
  }
 ],
 "metadata": {
  "kernelspec": {
   "display_name": "Python 3 (ipykernel)",
   "language": "python",
   "name": "python3"
  },
  "language_info": {
   "codemirror_mode": {
    "name": "ipython",
    "version": 3
   },
   "file_extension": ".py",
   "mimetype": "text/x-python",
   "name": "python",
   "nbconvert_exporter": "python",
   "pygments_lexer": "ipython3",
   "version": "3.10.9"
  }
 },
 "nbformat": 4,
 "nbformat_minor": 5
}
