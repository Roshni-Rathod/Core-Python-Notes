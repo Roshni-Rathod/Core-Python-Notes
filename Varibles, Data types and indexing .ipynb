{
 "cells": [
  {
   "cell_type": "markdown",
   "id": "eb471723",
   "metadata": {},
   "source": [
    "\n",
    "# Variables**\n",
    "\n",
    "- variables are used to store the values\n",
    "- variables can change their values as last assign to it \n",
    "- variables are the name given to the memory location where the data is being stored.\n",
    "- varyyy: varying\n",
    "\n",
    "# comments \n",
    "- they are writeen instide the code \n",
    "- But theyu are not the part of code , i.e they are not executed\n",
    "- because python will ignore them \n",
    "- ite is use as notes in python \n",
    "- they are reperesented as \"#\" symbol\n",
    "\n",
    "\n",
    "# Identifires\n",
    "\n",
    "- Variables : Used to identify data locaation \n",
    "- Functions: Used to identify block of code location \n",
    "- Classes: Use to identify blueprint/ design location"
   ]
  },
  {
   "cell_type": "markdown",
   "id": "541a50a1",
   "metadata": {},
   "source": [
    "\n",
    "### If you want list of shortcuts , Press \"esc + H\" "
   ]
  },
  {
   "cell_type": "code",
   "execution_count": 1,
   "id": "246e9b06",
   "metadata": {},
   "outputs": [
    {
     "name": "stdout",
     "output_type": "stream",
     "text": [
      "100\n"
     ]
    }
   ],
   "source": [
    "number=100       # here number is a variable name given to value 100\n",
    "print(number)    # here we are givving command to fetch the value of given variable from the memory  "
   ]
  },
  {
   "cell_type": "code",
   "execution_count": null,
   "id": "f75c92e4",
   "metadata": {},
   "outputs": [],
   "source": [
    "\n",
    "n = 23\n",
    "n "
   ]
  },
  {
   "cell_type": "code",
   "execution_count": null,
   "id": "8aad217d",
   "metadata": {},
   "outputs": [],
   "source": [
    "\n",
    "n = 34\n",
    "n"
   ]
  },
  {
   "cell_type": "code",
   "execution_count": 2,
   "id": "6b87cb82",
   "metadata": {},
   "outputs": [
    {
     "ename": "NameError",
     "evalue": "name 'n' is not defined",
     "output_type": "error",
     "traceback": [
      "\u001b[1;31m---------------------------------------------------------------------------\u001b[0m",
      "\u001b[1;31mNameError\u001b[0m                                 Traceback (most recent call last)",
      "Cell \u001b[1;32mIn[2], line 4\u001b[0m\n\u001b[0;32m      1\u001b[0m \u001b[38;5;66;03m# In above , we can see that n is varible having value 23 and then we changed its value to 34 in next cell \u001b[39;00m\n\u001b[0;32m      2\u001b[0m \u001b[38;5;66;03m# so if now we call n variable it wll give most recent assigned value i.e 34 , \u001b[39;00m\n\u001b[0;32m      3\u001b[0m \u001b[38;5;66;03m# it means it will replace the previous value \u001b[39;00m\n\u001b[1;32m----> 4\u001b[0m \u001b[43mn\u001b[49m\n",
      "\u001b[1;31mNameError\u001b[0m: name 'n' is not defined"
     ]
    }
   ],
   "source": [
    "# In above , we can see that n is varible having value 23 and then we changed its value to 34 in next cell \n",
    "# so if now we call n variable it wll give most recent assigned value i.e 34 , \n",
    "# it means it will replace the previous value \n",
    "n"
   ]
  },
  {
   "cell_type": "markdown",
   "id": "5dfe415b",
   "metadata": {},
   "source": [
    "# Rules for naming variables\n",
    "\n",
    "- variables are case sensitive\n",
    "\n",
    "- we can store number string or combination into variables \n",
    "\n",
    "- variables can represnt as capital letters\n",
    "\n",
    "- variables can represent as small letters\n",
    "\n",
    "- variables can have both combinations\n",
    "\n",
    "- python will consider latest value\n",
    "\n",
    "- variables **dose not** start with numbers\n",
    "\n",
    "- variables can have numbers at last\n",
    "\n",
    "- variables **does not** contain special character exc underscore\n",
    "\n",
    "- variables **does not** contain any space between the letters : number one\n",
    "\n",
    "- only underscore can use as variables\n",
    "\n",
    "- keywords or reserved words **Should not use variables**:example: \"if else\",\" print\"\n",
    "\n",
    "- variable can have underscore\n"
   ]
  },
  {
   "cell_type": "code",
   "execution_count": null,
   "id": "bc03ecb9",
   "metadata": {},
   "outputs": [],
   "source": [
    "number=200\n",
    "number"
   ]
  },
  {
   "cell_type": "code",
   "execution_count": null,
   "id": "a45d77c3",
   "metadata": {},
   "outputs": [],
   "source": [
    "Rosh = 8698\n",
    "Rosh"
   ]
  },
  {
   "cell_type": "code",
   "execution_count": null,
   "id": "a203d0ba",
   "metadata": {},
   "outputs": [],
   "source": [
    "# We cqan give any name to varible \n",
    "Ro_Sh = 200\n",
    "Ro_Sh"
   ]
  },
  {
   "cell_type": "code",
   "execution_count": null,
   "id": "41612492",
   "metadata": {},
   "outputs": [],
   "source": [
    "NUMBER=200\n",
    "NUMBER"
   ]
  },
  {
   "cell_type": "code",
   "execution_count": null,
   "id": "800da85e",
   "metadata": {},
   "outputs": [],
   "source": [
    "number=300\n",
    "number"
   ]
  },
  {
   "cell_type": "code",
   "execution_count": null,
   "id": "d49aabb2",
   "metadata": {},
   "outputs": [],
   "source": [
    "NUMber=400\n",
    "NUMber"
   ]
  },
  {
   "cell_type": "code",
   "execution_count": 1,
   "id": "f4cef826",
   "metadata": {},
   "outputs": [
    {
     "ename": "SyntaxError",
     "evalue": "invalid decimal literal (3325732250.py, line 1)",
     "output_type": "error",
     "traceback": [
      "\u001b[1;36m  Cell \u001b[1;32mIn[1], line 1\u001b[1;36m\u001b[0m\n\u001b[1;33m    123num = 200\u001b[0m\n\u001b[1;37m      ^\u001b[0m\n\u001b[1;31mSyntaxError\u001b[0m\u001b[1;31m:\u001b[0m invalid decimal literal\n"
     ]
    }
   ],
   "source": [
    "123num = 200\n",
    "123num\n"
   ]
  },
  {
   "cell_type": "code",
   "execution_count": 2,
   "id": "d4545ac4",
   "metadata": {},
   "outputs": [
    {
     "ename": "SyntaxError",
     "evalue": "cannot assign to expression here. Maybe you meant '==' instead of '='? (3524573973.py, line 1)",
     "output_type": "error",
     "traceback": [
      "\u001b[1;36m  Cell \u001b[1;32mIn[2], line 1\u001b[1;36m\u001b[0m\n\u001b[1;33m    Number*one=600\u001b[0m\n\u001b[1;37m    ^\u001b[0m\n\u001b[1;31mSyntaxError\u001b[0m\u001b[1;31m:\u001b[0m cannot assign to expression here. Maybe you meant '==' instead of '='?\n"
     ]
    }
   ],
   "source": [
    "Number*one=600\n",
    "number*one"
   ]
  },
  {
   "cell_type": "code",
   "execution_count": null,
   "id": "5d69e896",
   "metadata": {},
   "outputs": [],
   "source": [
    "num_one=700\n",
    "num_one"
   ]
  },
  {
   "cell_type": "code",
   "execution_count": 3,
   "id": "a0fec952",
   "metadata": {},
   "outputs": [
    {
     "data": {
      "text/plain": [
       "800"
      ]
     },
     "execution_count": 3,
     "metadata": {},
     "output_type": "execute_result"
    }
   ],
   "source": [
    "_=800\n",
    "_\n",
    "\n",
    "# only underscore can represent as variable"
   ]
  },
  {
   "cell_type": "code",
   "execution_count": 4,
   "id": "3bc71313",
   "metadata": {},
   "outputs": [
    {
     "ename": "SyntaxError",
     "evalue": "invalid decimal literal (1815813792.py, line 3)",
     "output_type": "error",
     "traceback": [
      "\u001b[1;36m  Cell \u001b[1;32mIn[4], line 3\u001b[1;36m\u001b[0m\n\u001b[1;33m    3e = 42 #but cant start from digit\u001b[0m\n\u001b[1;37m    ^\u001b[0m\n\u001b[1;31mSyntaxError\u001b[0m\u001b[1;31m:\u001b[0m invalid decimal literal\n"
     ]
    }
   ],
   "source": [
    "x = 30 \n",
    "x3 = 40 ## variable can contain digit \n",
    "3e = 42 #but cant start from digit\n",
    "S_23 = 'lmn'"
   ]
  },
  {
   "cell_type": "code",
   "execution_count": 5,
   "id": "4fc0f8b1",
   "metadata": {},
   "outputs": [
    {
     "ename": "NameError",
     "evalue": "name 'rathod' is not defined",
     "output_type": "error",
     "traceback": [
      "\u001b[1;31m---------------------------------------------------------------------------\u001b[0m",
      "\u001b[1;31mNameError\u001b[0m                                 Traceback (most recent call last)",
      "Cell \u001b[1;32mIn[5], line 1\u001b[0m\n\u001b[1;32m----> 1\u001b[0m Rosh \u001b[38;5;241m=\u001b[39m \u001b[43mrathod\u001b[49m\n\u001b[0;32m      2\u001b[0m Rosh\n",
      "\u001b[1;31mNameError\u001b[0m: name 'rathod' is not defined"
     ]
    }
   ],
   "source": [
    "Rosh = rathod\n",
    "Rosh"
   ]
  },
  {
   "cell_type": "code",
   "execution_count": 6,
   "id": "af6c10f3",
   "metadata": {},
   "outputs": [
    {
     "ename": "SyntaxError",
     "evalue": "invalid syntax (3924390159.py, line 1)",
     "output_type": "error",
     "traceback": [
      "\u001b[1;36m  Cell \u001b[1;32mIn[6], line 1\u001b[1;36m\u001b[0m\n\u001b[1;33m    Rosh* = 'Rosh'  # here we cnt use special char in variable\u001b[0m\n\u001b[1;37m          ^\u001b[0m\n\u001b[1;31mSyntaxError\u001b[0m\u001b[1;31m:\u001b[0m invalid syntax\n"
     ]
    }
   ],
   "source": [
    "Rosh* = 'Rosh'  # here we cnt use special char in variable \n",
    "Rosh*"
   ]
  },
  {
   "cell_type": "code",
   "execution_count": 7,
   "id": "bce5b60b",
   "metadata": {},
   "outputs": [
    {
     "data": {
      "text/plain": [
       "50"
      ]
     },
     "execution_count": 7,
     "metadata": {},
     "output_type": "execute_result"
    }
   ],
   "source": [
    "_12Rosh = 50\n",
    "_12Rosh"
   ]
  },
  {
   "cell_type": "code",
   "execution_count": null,
   "id": "30a8be98",
   "metadata": {},
   "outputs": [],
   "source": [
    "num = \"Rosh\"\n",
    "num\n",
    "\n",
    "# Roshni is a variable name given to me ; used to identify me as an individual"
   ]
  },
  {
   "cell_type": "code",
   "execution_count": null,
   "id": "b31ada14",
   "metadata": {},
   "outputs": [],
   "source": [
    "mannat = \"Shahrukh\"\n",
    "mannat\n",
    "\n",
    "# mannat is a identifire for the memory location where\"Sharukh\" is stored as data"
   ]
  },
  {
   "cell_type": "code",
   "execution_count": 8,
   "id": "465b24ac",
   "metadata": {},
   "outputs": [
    {
     "data": {
      "text/plain": [
       "'Roshni '"
      ]
     },
     "execution_count": 8,
     "metadata": {},
     "output_type": "execute_result"
    }
   ],
   "source": [
    "first_name = \"Roshni \"\n",
    "first_name"
   ]
  },
  {
   "cell_type": "code",
   "execution_count": null,
   "id": "a1523a62",
   "metadata": {},
   "outputs": [],
   "source": [
    "print(Name)\n",
    "print(name)\n",
    "### It shows that python variables are case sesitive"
   ]
  },
  {
   "cell_type": "code",
   "execution_count": 9,
   "id": "72799ca9",
   "metadata": {},
   "outputs": [
    {
     "name": "stdout",
     "output_type": "stream",
     "text": [
      "12\n"
     ]
    }
   ],
   "source": [
    "x = 12 \n",
    "print(x)   ### This its universal python code , i.e giveing print command will work everywhere as python code "
   ]
  },
  {
   "cell_type": "code",
   "execution_count": 10,
   "id": "89dbb8f3",
   "metadata": {},
   "outputs": [
    {
     "data": {
      "text/plain": [
       "23"
      ]
     },
     "execution_count": 10,
     "metadata": {},
     "output_type": "execute_result"
    }
   ],
   "source": [
    "x = 23\n",
    "x           # here we havent given the print command but also x is getting prnted "
   ]
  },
  {
   "cell_type": "markdown",
   "id": "3e8717d8",
   "metadata": {},
   "source": [
    "Reason:\n",
    "   \n",
    "   - ide = text editior + interpreter\n",
    "   - Jupyter notebook = notes + ide\n",
    "   - Jupyter notebook can interact with interpretor directly\n",
    "   - i.e it can directly interact with python memory "
   ]
  },
  {
   "cell_type": "code",
   "execution_count": 11,
   "id": "78dac741",
   "metadata": {},
   "outputs": [
    {
     "data": {
      "text/plain": [
       "23"
      ]
     },
     "execution_count": 11,
     "metadata": {},
     "output_type": "execute_result"
    }
   ],
   "source": [
    "x   # this is a jupyter notebook's way to fetch the data form momory directly without print command "
   ]
  },
  {
   "cell_type": "code",
   "execution_count": null,
   "id": "2bb44400",
   "metadata": {},
   "outputs": [],
   "source": [
    "# you can store same data into differernt variales also \n",
    "# x = 10\n",
    "# y = 10 \n",
    "x = y = 10\n",
    "print(x)\n",
    "print(y)\n"
   ]
  },
  {
   "cell_type": "markdown",
   "id": "b8a8b721-655a-4c3d-b4e7-4c0b2bf22cdc",
   "metadata": {},
   "source": [
    "# DATA TYPES\n",
    "\n",
    "there ar 9 core data types in python "
   ]
  },
  {
   "cell_type": "markdown",
   "id": "f54bcb06",
   "metadata": {},
   "source": [
    "- Non- collection data types ( because we can olny store single value in these dat types)\n",
    "\n",
    "1. Integer (int)\n",
    "2. Decimal point numbers (float)\n",
    "3. boolean (bool)\n",
    "4. Complex numbers (complex)\n",
    "\n",
    "- Collection data types (because we can store multple values under this data type)\n",
    "      \n",
    " >Indexible data types (When the data is stored in orderd sequential format based on the basis of some index values that data is called as indexible data type)\n",
    "\n",
    "5. String (str) : \"\"/''\n",
    "6. list (list) (mutable in nature) : []\n",
    "7. tuple (tuple) (immutable in nature): ()\n",
    "\n",
    "\n",
    ">Non- Indexible data types \n",
    "\n",
    "8. set (set): {}\n",
    "9. dictionary (dict): {:}\n"
   ]
  },
  {
   "cell_type": "markdown",
   "id": "58db3cf3",
   "metadata": {},
   "source": [
    "**Ordered Data types**\n",
    "  - list\n",
    "  - Tuple\n",
    "  - Dict\n",
    "  - string\n",
    "  \n",
    "**Un ordered Data Type**\n",
    "  - set \n",
    "  - dictionary in python version before 3.7\n",
    "  \n"
   ]
  },
  {
   "cell_type": "markdown",
   "id": "f9b4bb48",
   "metadata": {},
   "source": [
    "# Mutablility\n",
    "- If a particular element in collection data type could be change ( add , del or any modification ) \n",
    "- without affecting other element \n",
    "- then the data type is said to be mutable    example : List\n",
    "\n",
    "\n",
    "**Mutable Data Types**\n",
    "- List\n",
    "- Set \n",
    "- Dictionary\n",
    "\n",
    "**Rest all are Immutable Data Types**\n"
   ]
  },
  {
   "cell_type": "markdown",
   "id": "485a6d88-2593-4240-bd12-0ec8393d427f",
   "metadata": {},
   "source": [
    ">## integer\n",
    "- positive and negaative integer \n",
    "- integer can be as long as you needed to be \n",
    "- The only constrain is that the system should have the required memory to store the data\n",
    "- in python no need to consider the data types like c\n",
    "- it will consider the data types automatically\n"
   ]
  },
  {
   "cell_type": "code",
   "execution_count": 1,
   "id": "7e274fa3-94f0-4af6-bb92-71b7fef54f59",
   "metadata": {},
   "outputs": [],
   "source": [
    "number=100\n",
    "# in order to check the type of a variable we will use \n",
    "# in built function calles as type"
   ]
  },
  {
   "cell_type": "code",
   "execution_count": 2,
   "id": "fabdfa09-03ee-414d-9756-a42846cdefb5",
   "metadata": {},
   "outputs": [
    {
     "data": {
      "text/plain": [
       "int"
      ]
     },
     "execution_count": 2,
     "metadata": {},
     "output_type": "execute_result"
    }
   ],
   "source": [
    "type(number)"
   ]
  },
  {
   "cell_type": "code",
   "execution_count": 3,
   "id": "bbfd3cad",
   "metadata": {},
   "outputs": [
    {
     "name": "stdout",
     "output_type": "stream",
     "text": [
      "1248759485289741974173498347539880398088874664387893759384749182812821698479324\n"
     ]
    }
   ],
   "source": [
    "x = 1248759485289741974173498347539880398088874664387893759384749182812821698479324\n",
    "print(x)"
   ]
  },
  {
   "cell_type": "code",
   "execution_count": 4,
   "id": "c8054597",
   "metadata": {},
   "outputs": [
    {
     "data": {
      "text/plain": [
       "12"
      ]
     },
     "execution_count": 4,
     "metadata": {},
     "output_type": "execute_result"
    }
   ],
   "source": [
    "x = 12 \n",
    "y = +12\n",
    "y\n",
    "\n",
    "# same thing \n",
    "# if you wanted to give positive , hten no need to mention plus sign "
   ]
  },
  {
   "cell_type": "code",
   "execution_count": 5,
   "id": "6838b872",
   "metadata": {},
   "outputs": [
    {
     "name": "stdout",
     "output_type": "stream",
     "text": [
      "-20\n"
     ]
    }
   ],
   "source": [
    "a = -20\n",
    "print(a)\n",
    "# but if you want to give negative sign then , you have to mention it "
   ]
  },
  {
   "cell_type": "code",
   "execution_count": 3,
   "id": "1043a103-5917-47f0-9083-7e7df9360fe6",
   "metadata": {},
   "outputs": [
    {
     "data": {
      "text/plain": [
       "int"
      ]
     },
     "execution_count": 3,
     "metadata": {},
     "output_type": "execute_result"
    }
   ],
   "source": [
    "type(100)"
   ]
  },
  {
   "cell_type": "markdown",
   "id": "d46e77b4-cc42-4604-9c90-d8ba414058db",
   "metadata": {},
   "source": [
    "- in maths we have different types of representations avaialble\n",
    "    - binary\n",
    "    - octa\n",
    "    - decimal\n",
    "    - hexa"
   ]
  },
  {
   "cell_type": "markdown",
   "id": "bd953692-f7ea-4233-8ba0-1a78b9dbf53a",
   "metadata": {},
   "source": [
    ">## Binary\n",
    "- binary has bi which indicates two\n",
    "- we have total 0 to 9 digits to represent any numbers\n",
    "- from there we will take only first two digits i.e., 0 and 1\n",
    "- eg: 0b101, 0B0001\n",
    "- wrong representation is: 0b002"
   ]
  },
  {
   "cell_type": "code",
   "execution_count": 6,
   "id": "1affc2ab-3f5b-40c8-99d2-bbd78c585a1c",
   "metadata": {},
   "outputs": [
    {
     "data": {
      "text/plain": [
       "7"
      ]
     },
     "execution_count": 6,
     "metadata": {},
     "output_type": "execute_result"
    }
   ],
   "source": [
    "num=0b111\n",
    "num"
   ]
  },
  {
   "cell_type": "code",
   "execution_count": 6,
   "id": "b938599c-5423-4e65-b1af-424a6a9c7c1e",
   "metadata": {},
   "outputs": [
    {
     "data": {
      "text/plain": [
       "1"
      ]
     },
     "execution_count": 6,
     "metadata": {},
     "output_type": "execute_result"
    }
   ],
   "source": [
    "num=0b1\n",
    "num"
   ]
  },
  {
   "cell_type": "markdown",
   "id": "54093e04-8a74-455c-b68b-61a3e73166e5",
   "metadata": {},
   "source": [
    "- **octa**\n",
    "    - octa means 8\n",
    "    - we have total 0 to 9 digits to represent any number: 0,1,2,3,4,5,6,7,8,9\n",
    "    - from there we will take only starting 8 digits i>e,  to \n",
    "    - eg: 0o123, 0o567, 0o10006\n",
    "    - wrong representation is : 0o786, because 7, 6 but 8"
   ]
  },
  {
   "cell_type": "code",
   "execution_count": 3,
   "id": "a283aa85-d92d-4182-86b5-0f15b3a9e6d9",
   "metadata": {},
   "outputs": [
    {
     "data": {
      "text/plain": [
       "83"
      ]
     },
     "execution_count": 3,
     "metadata": {},
     "output_type": "execute_result"
    }
   ],
   "source": [
    "0o123"
   ]
  },
  {
   "cell_type": "code",
   "execution_count": 4,
   "id": "0d55cf83-a9d1-407d-a3fe-001e546844df",
   "metadata": {},
   "outputs": [
    {
     "data": {
      "text/plain": [
       "375"
      ]
     },
     "execution_count": 4,
     "metadata": {},
     "output_type": "execute_result"
    }
   ],
   "source": [
    "0o567\n"
   ]
  },
  {
   "cell_type": "code",
   "execution_count": 5,
   "id": "9ab1e280-d42d-4362-bbf4-5a934e0fda8e",
   "metadata": {},
   "outputs": [
    {
     "data": {
      "text/plain": [
       "4102"
      ]
     },
     "execution_count": 5,
     "metadata": {},
     "output_type": "execute_result"
    }
   ],
   "source": [
    "0o10006"
   ]
  },
  {
   "cell_type": "code",
   "execution_count": 7,
   "id": "d8e810d0-5c4c-4845-946c-0517777fc637",
   "metadata": {},
   "outputs": [
    {
     "data": {
      "text/plain": [
       "8384"
      ]
     },
     "execution_count": 7,
     "metadata": {},
     "output_type": "execute_result"
    }
   ],
   "source": [
    "0o020300\n"
   ]
  },
  {
   "cell_type": "code",
   "execution_count": 8,
   "id": "a116a81b-6c66-46a7-b3a5-ba28862c511f",
   "metadata": {},
   "outputs": [
    {
     "data": {
      "text/plain": [
       "24832"
      ]
     },
     "execution_count": 8,
     "metadata": {},
     "output_type": "execute_result"
    }
   ],
   "source": [
    "0o060400"
   ]
  },
  {
   "cell_type": "markdown",
   "id": "cb9b442d-288b-4ee5-a8c5-36b4a4dcb000",
   "metadata": {},
   "source": [
    "- **Hexa**\n",
    "  - hexa means 16\n",
    "  - we have total 0 to 9 digits any number: 0,1,2,3,4,5,6,7,8,9\n",
    "  - after 9 we will use A to F A:10, B:11, C:12, D:13, E:14,\n",
    "  - example: 0x123, 0XABC, 0X9ad\n",
    "  - wrong representation is : 0xFGH"
   ]
  },
  {
   "cell_type": "code",
   "execution_count": 10,
   "id": "70e3ccaf-e9bc-44fe-b85d-7887b668e6d2",
   "metadata": {},
   "outputs": [
    {
     "data": {
      "text/plain": [
       "171"
      ]
     },
     "execution_count": 10,
     "metadata": {},
     "output_type": "execute_result"
    }
   ],
   "source": [
    "0xab"
   ]
  },
  {
   "cell_type": "code",
   "execution_count": 15,
   "id": "41c6e69d-3668-4345-a2ec-df1f282130bf",
   "metadata": {},
   "outputs": [
    {
     "data": {
      "text/plain": [
       "2898"
      ]
     },
     "execution_count": 15,
     "metadata": {},
     "output_type": "execute_result"
    }
   ],
   "source": [
    "0xb52"
   ]
  },
  {
   "cell_type": "markdown",
   "id": "4dbb0e23-fffd-47f6-8909-67892c5affee",
   "metadata": {},
   "source": [
    ">## Float"
   ]
  },
  {
   "cell_type": "code",
   "execution_count": 17,
   "id": "45f5eebb-5bde-45e4-8c96-cf39fa42ecc5",
   "metadata": {},
   "outputs": [
    {
     "data": {
      "text/plain": [
       "float"
      ]
     },
     "execution_count": 17,
     "metadata": {},
     "output_type": "execute_result"
    }
   ],
   "source": [
    "num= 10.5\n",
    "type(num)"
   ]
  },
  {
   "cell_type": "code",
   "execution_count": 20,
   "id": "188dc8fe-cd3c-4d31-9210-3a4f7bb9d366",
   "metadata": {},
   "outputs": [
    {
     "data": {
      "text/plain": [
       "(int, float)"
      ]
     },
     "execution_count": 20,
     "metadata": {},
     "output_type": "execute_result"
    }
   ],
   "source": [
    "type(10),type(10.5)"
   ]
  },
  {
   "cell_type": "code",
   "execution_count": 7,
   "id": "8b9c089e",
   "metadata": {},
   "outputs": [
    {
     "name": "stdout",
     "output_type": "stream",
     "text": [
      "12\n"
     ]
    },
    {
     "data": {
      "text/plain": [
       "int"
      ]
     },
     "execution_count": 7,
     "metadata": {},
     "output_type": "execute_result"
    }
   ],
   "source": [
    "x = 12 \n",
    "print(x)\n",
    "type(x)"
   ]
  },
  {
   "cell_type": "code",
   "execution_count": 8,
   "id": "41b8724f",
   "metadata": {},
   "outputs": [
    {
     "name": "stdout",
     "output_type": "stream",
     "text": [
      "<class 'float'>\n"
     ]
    }
   ],
   "source": [
    "x = 12.0 \n",
    "print(type(x))"
   ]
  },
  {
   "cell_type": "markdown",
   "id": "274f79db",
   "metadata": {},
   "source": [
    ">## Complex\n",
    "\n",
    "real part + j(imaginary part)"
   ]
  },
  {
   "cell_type": "code",
   "execution_count": 9,
   "id": "9450c0c4",
   "metadata": {},
   "outputs": [
    {
     "name": "stdout",
     "output_type": "stream",
     "text": [
      "(2-3j)\n"
     ]
    }
   ],
   "source": [
    "x = 2 -3j\n",
    "print(x)"
   ]
  },
  {
   "cell_type": "code",
   "execution_count": 10,
   "id": "3e20a0c6",
   "metadata": {},
   "outputs": [
    {
     "data": {
      "text/plain": [
       "complex"
      ]
     },
     "execution_count": 10,
     "metadata": {},
     "output_type": "execute_result"
    }
   ],
   "source": [
    "type(x)"
   ]
  },
  {
   "cell_type": "code",
   "execution_count": 12,
   "id": "5c1348c6",
   "metadata": {},
   "outputs": [
    {
     "data": {
      "text/plain": [
       "complex"
      ]
     },
     "execution_count": 12,
     "metadata": {},
     "output_type": "execute_result"
    }
   ],
   "source": [
    "y = 10 +2j\n",
    "type(y)"
   ]
  },
  {
   "cell_type": "code",
   "execution_count": 21,
   "id": "d8e81f75-2ea6-4572-bf7c-8174faaeb6c8",
   "metadata": {},
   "outputs": [
    {
     "data": {
      "text/plain": [
       "100.0"
      ]
     },
     "execution_count": 21,
     "metadata": {},
     "output_type": "execute_result"
    }
   ],
   "source": [
    "10e1 # 10* <10> =100"
   ]
  },
  {
   "cell_type": "code",
   "execution_count": 22,
   "id": "f399d8d8-1d75-4bbe-a983-5958144d8aa0",
   "metadata": {},
   "outputs": [
    {
     "data": {
      "text/plain": [
       "1000.0"
      ]
     },
     "execution_count": 22,
     "metadata": {},
     "output_type": "execute_result"
    }
   ],
   "source": [
    "10e2 # 10* <100> = 1000"
   ]
  },
  {
   "cell_type": "code",
   "execution_count": 23,
   "id": "e60fb0a1-3e88-4d90-b842-e80f83a7d010",
   "metadata": {},
   "outputs": [
    {
     "data": {
      "text/plain": [
       "10000.0"
      ]
     },
     "execution_count": 23,
     "metadata": {},
     "output_type": "execute_result"
    }
   ],
   "source": [
    "10e3 # 10* <1000> =10000"
   ]
  },
  {
   "cell_type": "code",
   "execution_count": 24,
   "id": "2fd2126d-57ca-48fe-8a01-34643d577aa1",
   "metadata": {},
   "outputs": [
    {
     "data": {
      "text/plain": [
       "100000.0"
      ]
     },
     "execution_count": 24,
     "metadata": {},
     "output_type": "execute_result"
    }
   ],
   "source": [
    "10e4 # 10* <10000> = 100000"
   ]
  },
  {
   "cell_type": "code",
   "execution_count": 25,
   "id": "da5ca137-fd9c-47a8-95e7-d6f8dffec9ee",
   "metadata": {},
   "outputs": [
    {
     "data": {
      "text/plain": [
       "20"
      ]
     },
     "execution_count": 25,
     "metadata": {},
     "output_type": "execute_result"
    }
   ],
   "source": [
    "10\n",
    "20\n",
    "# in jupyter notebook by default last value will print"
   ]
  },
  {
   "cell_type": "code",
   "execution_count": 26,
   "id": "b827bef9-5f7a-4a08-9edb-27d2978fe657",
   "metadata": {},
   "outputs": [
    {
     "name": "stdout",
     "output_type": "stream",
     "text": [
      "10\n",
      "20\n"
     ]
    }
   ],
   "source": [
    "# if you want to see all the answers apply the print\n",
    "print(10)\n",
    "print(20)"
   ]
  },
  {
   "cell_type": "code",
   "execution_count": 29,
   "id": "39bce613-8b14-4200-bbde-e333c569198f",
   "metadata": {},
   "outputs": [
    {
     "name": "stdout",
     "output_type": "stream",
     "text": [
      "100.0\n",
      "1000.0\n",
      "10000.0\n",
      "100000.0\n",
      "1000000.0\n",
      "10000000.0\n"
     ]
    }
   ],
   "source": [
    "print(10e1)\n",
    "print(10e2)\n",
    "print(10e3)\n",
    "print(10e4)\n",
    "print(10e5)\n",
    "print(10e6)"
   ]
  },
  {
   "cell_type": "code",
   "execution_count": 33,
   "id": "bd2c37b3-a7ab-4e47-a9ec-b88fa6f9629a",
   "metadata": {},
   "outputs": [
    {
     "name": "stdout",
     "output_type": "stream",
     "text": [
      "100.0\n",
      "1000.0\n",
      "10000.0\n"
     ]
    }
   ],
   "source": [
    "print(10e+1)\n",
    "print(10e+2)\n",
    "print(10e+3)"
   ]
  },
  {
   "cell_type": "code",
   "execution_count": 37,
   "id": "3e6fb319-bcdc-4d59-b566-c49e720e4c5c",
   "metadata": {},
   "outputs": [
    {
     "name": "stdout",
     "output_type": "stream",
     "text": [
      "1.0\n",
      "0.1\n",
      "0.01\n",
      "0.001\n",
      "0.0001\n"
     ]
    }
   ],
   "source": [
    "print(10e-1)\n",
    "print(10e-2) \n",
    "print(10e-3) \n",
    "print(10e-4)\n",
    "print(10e-5)"
   ]
  },
  {
   "cell_type": "markdown",
   "id": "1fc75e1f-9cf4-473b-9167-c50c9963535d",
   "metadata": {},
   "source": [
    "- in the machine learning we often see the value in exponential format\n",
    "- in some cases we need to search for zero values\n",
    "- in ML with python we rarely see exact an answer 0.0\n",
    "- in stead of 0.0 it will display as 1.2345e-17"
   ]
  },
  {
   "cell_type": "markdown",
   "id": "19aaf0c9-d9c5-4aaf-85cb-089fdc1e6226",
   "metadata": {},
   "source": [
    "> ## String\n",
    "\n",
    "string represents collection of characters written inside Quotes "
   ]
  },
  {
   "cell_type": "markdown",
   "id": "75291ff6-724d-44f4-89b3-bc87e047cffa",
   "metadata": {},
   "source": [
    "- strings represnts english character only\n",
    "- strings will represent with quotes\n",
    "  - single quotes'\n",
    "  - double quotes\"\n",
    "  - triple quotes'''"
   ]
  },
  {
   "cell_type": "code",
   "execution_count": 108,
   "id": "95ee0d67",
   "metadata": {},
   "outputs": [
    {
     "name": "stdout",
     "output_type": "stream",
     "text": [
      "\n",
      "0\n"
     ]
    }
   ],
   "source": [
    "s = \"\"\n",
    "print(s)\n",
    "print(len(s))"
   ]
  },
  {
   "cell_type": "code",
   "execution_count": 109,
   "id": "b4840e0d",
   "metadata": {},
   "outputs": [
    {
     "data": {
      "text/plain": [
       "1"
      ]
     },
     "execution_count": 109,
     "metadata": {},
     "output_type": "execute_result"
    }
   ],
   "source": [
    "sn =\" \"\n",
    "len(sn)"
   ]
  },
  {
   "cell_type": "code",
   "execution_count": 14,
   "id": "977de4e6-d488-4ea1-af8d-617b29700ab0",
   "metadata": {},
   "outputs": [
    {
     "data": {
      "text/plain": [
       "str"
      ]
     },
     "execution_count": 14,
     "metadata": {},
     "output_type": "execute_result"
    }
   ],
   "source": [
    "str1= 'Rosh'\n",
    "type(str1)"
   ]
  },
  {
   "cell_type": "code",
   "execution_count": 15,
   "id": "43882f63-461e-4a7d-8772-a7050c1174d7",
   "metadata": {},
   "outputs": [
    {
     "data": {
      "text/plain": [
       "str"
      ]
     },
     "execution_count": 15,
     "metadata": {},
     "output_type": "execute_result"
    }
   ],
   "source": [
    "str2=\"Roshn@123\"\n",
    "type(str2)"
   ]
  },
  {
   "cell_type": "markdown",
   "id": "9dd437fd-d2c9-4c3b-9075-59c4a62fed20",
   "metadata": {},
   "source": [
    "- we can represent in any way but python will give in single quotes"
   ]
  },
  {
   "cell_type": "code",
   "execution_count": 16,
   "id": "348a2d6c-c49b-493d-8a67-6acf6ecfee51",
   "metadata": {},
   "outputs": [
    {
     "name": "stdout",
     "output_type": "stream",
     "text": [
      "Rosh\n"
     ]
    }
   ],
   "source": [
    "print(str1)"
   ]
  },
  {
   "cell_type": "code",
   "execution_count": 17,
   "id": "b5d4bc57-5781-47ad-a213-5a50a4565495",
   "metadata": {},
   "outputs": [
    {
     "name": "stdout",
     "output_type": "stream",
     "text": [
      "Roshn@123\n"
     ]
    }
   ],
   "source": [
    "print(str2)"
   ]
  },
  {
   "cell_type": "markdown",
   "id": "32909106-59c9-437e-af36-e01837cd9b13",
   "metadata": {},
   "source": [
    "- when we apply print on string it will display without quotes\n",
    "- any data type or any values provided by quotes it become a string only\n",
    "- string always in red color\n",
    "- variable always in black color\n",
    "- keywords always in green color"
   ]
  },
  {
   "cell_type": "code",
   "execution_count": 18,
   "id": "7d35f252-8de5-4be4-b221-b3d41e1ad449",
   "metadata": {},
   "outputs": [
    {
     "data": {
      "text/plain": [
       "'om'"
      ]
     },
     "execution_count": 18,
     "metadata": {},
     "output_type": "execute_result"
    }
   ],
   "source": [
    "x ='om'\n",
    "x\n",
    "# om is a english letter stored in a variable called om"
   ]
  },
  {
   "cell_type": "code",
   "execution_count": 56,
   "id": "333d2c85-5021-4779-a298-d7bb4e5ad520",
   "metadata": {},
   "outputs": [
    {
     "name": "stdout",
     "output_type": "stream",
     "text": [
      "i like 'python'\n"
     ]
    }
   ],
   "source": [
    "str1=\"i like 'python'\"\n",
    "print(str1)"
   ]
  },
  {
   "cell_type": "code",
   "execution_count": 57,
   "id": "a1e61d3a-9ad6-4645-aa7b-46921bb10912",
   "metadata": {},
   "outputs": [
    {
     "name": "stdout",
     "output_type": "stream",
     "text": [
      "i like \"python\"\n"
     ]
    }
   ],
   "source": [
    "str1='i like \"python\"'\n",
    "print(str1)"
   ]
  },
  {
   "cell_type": "markdown",
   "id": "2f8d8caf-1c2a-4ead-8d48-70ac7f44f763",
   "metadata": {},
   "source": [
    "- if you want to highlight any word represent entire string in single quotes, highlighted words in single quotes vice versa"
   ]
  },
  {
   "cell_type": "code",
   "execution_count": 35,
   "id": "e4110ef4-f277-42f0-9241-da547a7e1dbf",
   "metadata": {},
   "outputs": [
    {
     "name": "stdout",
     "output_type": "stream",
     "text": [
      "hi\n",
      "how are you\n",
      "im good\n"
     ]
    }
   ],
   "source": [
    "str1= \"\"\"hi\n",
    "how are you\n",
    "im good\"\"\"\n",
    "print(str1)"
   ]
  },
  {
   "cell_type": "code",
   "execution_count": 41,
   "id": "43cb6411",
   "metadata": {},
   "outputs": [
    {
     "data": {
      "text/plain": [
       "'hi\\nhow are you\\nim good'"
      ]
     },
     "execution_count": 41,
     "metadata": {},
     "output_type": "execute_result"
    }
   ],
   "source": [
    "str1= \"\"\"hi\n",
    "how are you\n",
    "im good\"\"\"\n",
    "\n",
    "str1"
   ]
  },
  {
   "cell_type": "markdown",
   "id": "02b5f2b8-52cb-485e-8686-094a46fabfa5",
   "metadata": {},
   "source": [
    "- tripple quotes is used to write a multiline comments\n",
    "- this is called **Docstring**\n",
    "- in order to write a story in jupyter notebook we have a markdown\n",
    "- but others platforms like Vscode, pycharm we dont a markdown\n",
    "- the how can we write a story: by using triple quotes\n",
    "- if any person writing soemthing using triple quotes, which indicates the user is trying to convay the information the process is called **Docstring**"
   ]
  },
  {
   "cell_type": "code",
   "execution_count": 33,
   "id": "58c4b6e7",
   "metadata": {},
   "outputs": [
    {
     "name": "stdout",
     "output_type": "stream",
     "text": [
      "Twinkle twinkle little star\n",
      "How I wonder , what they are!\n",
      "Up above the , world so high \n",
      "like a diamond in the sky\n"
     ]
    }
   ],
   "source": [
    "poem = '''Twinkle twinkle little star\n",
    "How I wonder , what they are!\n",
    "Up above the , world so high \n",
    "like a diamond in the sky'''\n",
    "\n",
    "print(poem)"
   ]
  },
  {
   "cell_type": "code",
   "execution_count": 42,
   "id": "29f2aa43",
   "metadata": {},
   "outputs": [
    {
     "data": {
      "text/plain": [
       "'Twinkle twinkle little star\\nHow I wonder , what they are!\\nUp above the , world so high \\nlike a diamond in the sky'"
      ]
     },
     "execution_count": 42,
     "metadata": {},
     "output_type": "execute_result"
    }
   ],
   "source": [
    "poem = '''Twinkle twinkle little star\n",
    "How I wonder , what they are!\n",
    "Up above the , world so high \n",
    "like a diamond in the sky'''\n",
    "\n",
    "poem"
   ]
  },
  {
   "cell_type": "code",
   "execution_count": null,
   "id": "735e834f",
   "metadata": {},
   "outputs": [],
   "source": [
    "## if you wanted to wrie it in different line you have to give print command compulsorily "
   ]
  },
  {
   "cell_type": "code",
   "execution_count": 52,
   "id": "c356abdc",
   "metadata": {},
   "outputs": [
    {
     "ename": "TypeError",
     "evalue": "'str' object is not callable",
     "output_type": "error",
     "traceback": [
      "\u001b[1;31m---------------------------------------------------------------------------\u001b[0m",
      "\u001b[1;31mTypeError\u001b[0m                                 Traceback (most recent call last)",
      "Cell \u001b[1;32mIn[52], line 1\u001b[0m\n\u001b[1;32m----> 1\u001b[0m \u001b[38;5;28mprint\u001b[39m(\u001b[43mpoem\u001b[49m\u001b[43m(\u001b[49m\u001b[38;5;124;43m'\u001b[39;49m\u001b[38;5;124;43mTwinkle twinkle little star\u001b[39;49m\u001b[38;5;130;43;01m\\n\u001b[39;49;00m\u001b[38;5;124;43mHow I wonder , what they are!\u001b[39;49m\u001b[38;5;130;43;01m\\n\u001b[39;49;00m\u001b[38;5;124;43mUp above the , world so high\u001b[39;49m\u001b[38;5;130;43;01m\\n\u001b[39;49;00m\u001b[38;5;124;43mlike a diamond in the sky\u001b[39;49m\u001b[38;5;124;43m'\u001b[39;49m\u001b[43m)\u001b[49m)\n",
      "\u001b[1;31mTypeError\u001b[0m: 'str' object is not callable"
     ]
    }
   ],
   "source": [
    "print(poem('Twinkle twinkle little star\\nHow I wonder , what they are!\\nUp above the , world so high\\nlike a diamond in the sky'))"
   ]
  },
  {
   "cell_type": "code",
   "execution_count": 30,
   "id": "fb78ec66",
   "metadata": {},
   "outputs": [
    {
     "data": {
      "text/plain": [
       "111"
      ]
     },
     "execution_count": 30,
     "metadata": {},
     "output_type": "execute_result"
    }
   ],
   "source": [
    "len(poem)"
   ]
  },
  {
   "cell_type": "code",
   "execution_count": 36,
   "id": "cc5fe49d",
   "metadata": {},
   "outputs": [
    {
     "name": "stdout",
     "output_type": "stream",
     "text": [
      "Hello World\n"
     ]
    }
   ],
   "source": [
    "print(\"Hello World\")"
   ]
  },
  {
   "cell_type": "markdown",
   "id": "0da23300",
   "metadata": {},
   "source": [
    "**\\n** also use to make it as poem ,"
   ]
  },
  {
   "cell_type": "code",
   "execution_count": 39,
   "id": "9132d5fe",
   "metadata": {},
   "outputs": [
    {
     "name": "stdout",
     "output_type": "stream",
     "text": [
      "Hello\n",
      "World\n"
     ]
    }
   ],
   "source": [
    "print(\"Hello\\nWorld\")"
   ]
  },
  {
   "cell_type": "code",
   "execution_count": 40,
   "id": "a6dfd25e",
   "metadata": {},
   "outputs": [
    {
     "name": "stdout",
     "output_type": "stream",
     "text": [
      "Hello \n",
      " World\n"
     ]
    }
   ],
   "source": [
    "print(\"Hello \\n World\")"
   ]
  },
  {
   "cell_type": "code",
   "execution_count": 57,
   "id": "cfecb40e",
   "metadata": {},
   "outputs": [
    {
     "data": {
      "text/plain": [
       "'e'"
      ]
     },
     "execution_count": 57,
     "metadata": {},
     "output_type": "execute_result"
    }
   ],
   "source": [
    "# Mutablility test of string \n",
    "s = \"Hello\"\n",
    "s[1]"
   ]
  },
  {
   "cell_type": "code",
   "execution_count": 58,
   "id": "7c47e26d",
   "metadata": {},
   "outputs": [
    {
     "ename": "TypeError",
     "evalue": "'str' object does not support item assignment",
     "output_type": "error",
     "traceback": [
      "\u001b[1;31m---------------------------------------------------------------------------\u001b[0m",
      "\u001b[1;31mTypeError\u001b[0m                                 Traceback (most recent call last)",
      "Cell \u001b[1;32mIn[58], line 1\u001b[0m\n\u001b[1;32m----> 1\u001b[0m s[\u001b[38;5;241m1\u001b[39m] \u001b[38;5;241m=\u001b[39m \u001b[38;5;124m'\u001b[39m\u001b[38;5;124mc\u001b[39m\u001b[38;5;124m'\u001b[39m\n\u001b[0;32m      2\u001b[0m s\n",
      "\u001b[1;31mTypeError\u001b[0m: 'str' object does not support item assignment"
     ]
    }
   ],
   "source": [
    "s[1] = 'c'\n",
    "s\n",
    "\n",
    "## it will throw error because it is immutable data type ,we cant change charaters"
   ]
  },
  {
   "cell_type": "markdown",
   "id": "e19abb13",
   "metadata": {},
   "source": [
    "# Escape Characters \n",
    "\\n:New line charater\n",
    "\n",
    "\\t: tab\n",
    "\n",
    "\\b: backspace"
   ]
  },
  {
   "cell_type": "code",
   "execution_count": 19,
   "id": "ba614eff",
   "metadata": {},
   "outputs": [
    {
     "ename": "SyntaxError",
     "evalue": "unterminated string literal (detected at line 1) (2385782170.py, line 1)",
     "output_type": "error",
     "traceback": [
      "\u001b[1;36m  Cell \u001b[1;32mIn[19], line 1\u001b[1;36m\u001b[0m\n\u001b[1;33m    l = 'Roshni's'\u001b[0m\n\u001b[1;37m                 ^\u001b[0m\n\u001b[1;31mSyntaxError\u001b[0m\u001b[1;31m:\u001b[0m unterminated string literal (detected at line 1)\n"
     ]
    }
   ],
   "source": [
    "l = 'Roshni's'\n",
    "l"
   ]
  },
  {
   "cell_type": "code",
   "execution_count": 20,
   "id": "6dc05866",
   "metadata": {},
   "outputs": [
    {
     "data": {
      "text/plain": [
       "\"Roshni's\""
      ]
     },
     "execution_count": 20,
     "metadata": {},
     "output_type": "execute_result"
    }
   ],
   "source": [
    "l = \"Roshni's\"\n",
    "l"
   ]
  },
  {
   "cell_type": "code",
   "execution_count": 21,
   "id": "ec1f623e",
   "metadata": {},
   "outputs": [
    {
     "data": {
      "text/plain": [
       "8"
      ]
     },
     "execution_count": 21,
     "metadata": {},
     "output_type": "execute_result"
    }
   ],
   "source": [
    "len(l) # this len function is use to check the no of elements into the given variable "
   ]
  },
  {
   "cell_type": "markdown",
   "id": "57056dfe",
   "metadata": {},
   "source": [
    "**Len Function**\n",
    "\n",
    "- calculating length will only work with **collection** data types \n",
    "- Len function wont work with non collection data type "
   ]
  },
  {
   "cell_type": "code",
   "execution_count": 23,
   "id": "8771d32c",
   "metadata": {},
   "outputs": [
    {
     "name": "stdout",
     "output_type": "stream",
     "text": [
      "4\n"
     ]
    }
   ],
   "source": [
    "print(len(str1))"
   ]
  },
  {
   "cell_type": "code",
   "execution_count": 25,
   "id": "ce28b67c",
   "metadata": {},
   "outputs": [
    {
     "name": "stdout",
     "output_type": "stream",
     "text": [
      "25\n"
     ]
    }
   ],
   "source": [
    "print(len(\"Hello! How are you 'fine'\"))"
   ]
  },
  {
   "cell_type": "code",
   "execution_count": 28,
   "id": "200ff847",
   "metadata": {},
   "outputs": [
    {
     "ename": "SyntaxError",
     "evalue": "invalid syntax. Perhaps you forgot a comma? (2913376017.py, line 1)",
     "output_type": "error",
     "traceback": [
      "\u001b[1;36m  Cell \u001b[1;32mIn[28], line 1\u001b[1;36m\u001b[0m\n\u001b[1;33m    print(len(\" Hello! How are you \"fine\"\"))\u001b[0m\n\u001b[1;37m              ^\u001b[0m\n\u001b[1;31mSyntaxError\u001b[0m\u001b[1;31m:\u001b[0m invalid syntax. Perhaps you forgot a comma?\n"
     ]
    }
   ],
   "source": [
    "print(len(\" Hello! How are you \"fine\"\"))"
   ]
  },
  {
   "cell_type": "markdown",
   "id": "e2daca4d-bc1f-4af2-99df-9a2f5df3abe8",
   "metadata": {},
   "source": [
    ">## Boolean\n",
    "\n",
    "It is data type which has one of two possible values \n"
   ]
  },
  {
   "cell_type": "markdown",
   "id": "9e858ba9-f11b-40b3-b4d8-bee93a71df91",
   "metadata": {},
   "source": [
    "- computer takes the value in binary format (1,0)\n",
    "- computer gives the answer in Boolean format\n",
    "   - True\n",
    "   - False\n",
    "- true indicates 1\n",
    "- false indicates 0"
   ]
  },
  {
   "cell_type": "markdown",
   "id": "eda210ec",
   "metadata": {},
   "source": [
    "whether it its True or False , \"T\" of true or \"F\" of False should be capital <br> only then it will consider it as a boolean data type "
   ]
  },
  {
   "cell_type": "code",
   "execution_count": 59,
   "id": "c139b67e-a0b7-4626-82a8-14548963f48c",
   "metadata": {},
   "outputs": [
    {
     "data": {
      "text/plain": [
       "bool"
      ]
     },
     "execution_count": 59,
     "metadata": {},
     "output_type": "execute_result"
    }
   ],
   "source": [
    "val= True  \n",
    "type(val)"
   ]
  },
  {
   "cell_type": "code",
   "execution_count": 60,
   "id": "d34801b2-4148-4a66-b43f-e109e6a4bcdf",
   "metadata": {},
   "outputs": [
    {
     "data": {
      "text/plain": [
       "bool"
      ]
     },
     "execution_count": 60,
     "metadata": {},
     "output_type": "execute_result"
    }
   ],
   "source": [
    "val1= False\n",
    "type(val1)"
   ]
  },
  {
   "cell_type": "code",
   "execution_count": 66,
   "id": "8a88aa14-dcba-40e5-8a67-db0b2c37ca62",
   "metadata": {},
   "outputs": [
    {
     "data": {
      "text/plain": [
       "(int, float, str, bool)"
      ]
     },
     "execution_count": 66,
     "metadata": {},
     "output_type": "execute_result"
    }
   ],
   "source": [
    "a=10\n",
    "b=10.6\n",
    "c='10'\n",
    "d=True\n",
    "type(a), type(b), type(c), type(d)"
   ]
  },
  {
   "cell_type": "markdown",
   "id": "e194def5",
   "metadata": {},
   "source": [
    ">## List\n",
    "- it is the collectin of heterogenous data elements written inside square brackets\n",
    "- Tuple is mutable in nature "
   ]
  },
  {
   "cell_type": "code",
   "execution_count": 105,
   "id": "7c42ef3d",
   "metadata": {},
   "outputs": [
    {
     "name": "stdout",
     "output_type": "stream",
     "text": [
      "[]\n",
      "0\n"
     ]
    }
   ],
   "source": [
    "l = []\n",
    "print(l)\n",
    "print(len(l))"
   ]
  },
  {
   "cell_type": "code",
   "execution_count": 106,
   "id": "a2ec5858",
   "metadata": {},
   "outputs": [
    {
     "data": {
      "text/plain": [
       "0"
      ]
     },
     "execution_count": 106,
     "metadata": {},
     "output_type": "execute_result"
    }
   ],
   "source": [
    "l = [ ]\n",
    "len(l)"
   ]
  },
  {
   "cell_type": "code",
   "execution_count": 49,
   "id": "281de095",
   "metadata": {},
   "outputs": [
    {
     "data": {
      "text/plain": [
       "['Tomato', 'Potato', 'Cucumber', 'Ladyfingure', 'Okara']"
      ]
     },
     "execution_count": 49,
     "metadata": {},
     "output_type": "execute_result"
    }
   ],
   "source": [
    "vegelist = ['Tomato','Potato','Cucumber','Ladyfingure','Okara']\n",
    "vegelist"
   ]
  },
  {
   "cell_type": "code",
   "execution_count": 50,
   "id": "d6101b61",
   "metadata": {},
   "outputs": [
    {
     "data": {
      "text/plain": [
       "list"
      ]
     },
     "execution_count": 50,
     "metadata": {},
     "output_type": "execute_result"
    }
   ],
   "source": [
    "type(vegelist)"
   ]
  },
  {
   "cell_type": "code",
   "execution_count": 53,
   "id": "343e44c7",
   "metadata": {},
   "outputs": [
    {
     "data": {
      "text/plain": [
       "['Roshni', 34.98, ['Hydrabad', 'India'], 87564536722]"
      ]
     },
     "execution_count": 53,
     "metadata": {},
     "output_type": "execute_result"
    }
   ],
   "source": [
    "Studata = ['Roshni', 34.98, ['Hydrabad', 'India'], 87564536722]\n",
    "Studata"
   ]
  },
  {
   "cell_type": "code",
   "execution_count": 54,
   "id": "50f5b839",
   "metadata": {},
   "outputs": [
    {
     "data": {
      "text/plain": [
       "4"
      ]
     },
     "execution_count": 54,
     "metadata": {},
     "output_type": "execute_result"
    }
   ],
   "source": [
    "len(Studata)"
   ]
  },
  {
   "cell_type": "code",
   "execution_count": 53,
   "id": "9265de50",
   "metadata": {},
   "outputs": [
    {
     "name": "stdout",
     "output_type": "stream",
     "text": [
      "['Tomato', 'Potato', 'Cucumber', 'Ladyfingure', 'Okara']\n",
      "Potato\n"
     ]
    }
   ],
   "source": [
    "# Mutablility Test \n",
    "\n",
    "print(vegelist)\n",
    "print(vegelist[1])\n"
   ]
  },
  {
   "cell_type": "code",
   "execution_count": 56,
   "id": "8e58ba90",
   "metadata": {},
   "outputs": [
    {
     "name": "stdout",
     "output_type": "stream",
     "text": [
      "['Tomato', 'carrot', 'Cucumber', 'Ladyfingure', 'Okara']\n"
     ]
    }
   ],
   "source": [
    "#list indexing\n",
    "\n",
    "\n",
    "vegelist[1]= 'carrot'         \n",
    "print(vegelist)\n",
    "\n",
    "# Here the 1st elemet was potato and then changed into carrot without affecting other elements , \n",
    "# that modificstion is possible here in list\n",
    "# hence list is immutable data type "
   ]
  },
  {
   "cell_type": "code",
   "execution_count": 13,
   "id": "88f06d21",
   "metadata": {},
   "outputs": [],
   "source": [
    "# to check how many methods we can give to variale <br>\n",
    "#is simply put  \"dot + tab \"\n",
    "x = 'Hello'\n",
    "\n",
    "#x.'tab'\n"
   ]
  },
  {
   "cell_type": "markdown",
   "id": "b75b5819",
   "metadata": {},
   "source": [
    "# Indexing \n",
    "- here we will learn indexing\n",
    "> hello python"
   ]
  },
  {
   "cell_type": "markdown",
   "id": "25a3f1b3",
   "metadata": {},
   "source": [
    "- Indexing can strart form left to right as positive indexes \n",
    "- Indexing which is started from right to left are negative indexes \n",
    "- positive indexing always strats form 0,1,2,3.... and so on \n",
    "- negatie indexing will start from -1,-2,-3,-4 ......and so on "
   ]
  },
  {
   "cell_type": "code",
   "execution_count": 1,
   "id": "2bbbe919",
   "metadata": {},
   "outputs": [
    {
     "name": "stdout",
     "output_type": "stream",
     "text": [
      "6\n"
     ]
    }
   ],
   "source": [
    "l = \"Roshni\"\n",
    "\n",
    "\n",
    "# in this above variable \n",
    "#    l =  \"R o s h n i\"\n",
    "#Indxing = 0 1 2 3 4 5\n",
    "# here length will be 6 \n",
    "\n",
    "print(len(l))\n"
   ]
  },
  {
   "cell_type": "code",
   "execution_count": null,
   "id": "d6f1f7a7",
   "metadata": {},
   "outputs": [],
   "source": [
    "nit = 'Data Analytics by Prakash sir'\n",
    " # in above variable we have taken nit as string \n",
    "           # D a t a   A n a l i t  i  c  s   b y     p r a k a s h  s i r\n",
    "# Indixing = 0 1 2 3 4 5 6 7 8 9 10 11 12 13 1415 16 171819202122 \n"
   ]
  },
  {
   "cell_type": "code",
   "execution_count": 2,
   "id": "8887d7e7",
   "metadata": {},
   "outputs": [
    {
     "name": "stdout",
     "output_type": "stream",
     "text": [
      "s\n"
     ]
    }
   ],
   "source": [
    "# if you wanted to fetch any of the chrcter from \"Roshni\" you have to use indexing \n",
    "\n",
    "print(l[2])\n",
    "\n",
    "# here you give a command to print the charcherter which in present at 2nd position of the word \n",
    "#  R o s h n i \n",
    "#  0 1 2 3 4 5 \n",
    "\n",
    "# you can see at 2nd position there is s character , so it will print s "
   ]
  },
  {
   "cell_type": "code",
   "execution_count": 3,
   "id": "be2b5d6b",
   "metadata": {},
   "outputs": [
    {
     "data": {
      "text/plain": [
       "['Tomato', 'Potato', 'Cucumber', 'Ladyfingure', 'Okara']"
      ]
     },
     "execution_count": 3,
     "metadata": {},
     "output_type": "execute_result"
    }
   ],
   "source": [
    "vegelist = ['Tomato','Potato','Cucumber','Ladyfingure','Okara']\n",
    "vegelist"
   ]
  },
  {
   "cell_type": "code",
   "execution_count": 8,
   "id": "9054dcc8",
   "metadata": {},
   "outputs": [
    {
     "name": "stdout",
     "output_type": "stream",
     "text": [
      "len = 5\n",
      "at 3rd position Ladyfingure is there\n"
     ]
    }
   ],
   "source": [
    "#    vegelist = ['Tomato','Potato','Cucumber','Ladyfingure','Okara']\n",
    "#    Indexing =     0        1        2           3            4\n",
    "#    length   =   5\n",
    "\n",
    "\n",
    "print('len','=', len(vegelist))\n",
    "print('at 3rd position', vegelist[3] ,'is there')"
   ]
  },
  {
   "cell_type": "code",
   "execution_count": 9,
   "id": "21b8386b",
   "metadata": {},
   "outputs": [
    {
     "data": {
      "text/plain": [
       "list"
      ]
     },
     "execution_count": 9,
     "metadata": {},
     "output_type": "execute_result"
    }
   ],
   "source": [
    "type(vegelist)"
   ]
  },
  {
   "cell_type": "code",
   "execution_count": 10,
   "id": "272f1676",
   "metadata": {},
   "outputs": [
    {
     "data": {
      "text/plain": [
       "str"
      ]
     },
     "execution_count": 10,
     "metadata": {},
     "output_type": "execute_result"
    }
   ],
   "source": [
    "type(vegelist[2])"
   ]
  },
  {
   "cell_type": "code",
   "execution_count": 11,
   "id": "66531b6e",
   "metadata": {},
   "outputs": [
    {
     "data": {
      "text/plain": [
       "('Tomato', 'Ladyfingure', 'Cucumber', 'Potato')"
      ]
     },
     "execution_count": 11,
     "metadata": {},
     "output_type": "execute_result"
    }
   ],
   "source": [
    "vegelist[0], vegelist[3], vegelist[2], vegelist[1]"
   ]
  },
  {
   "cell_type": "code",
   "execution_count": 14,
   "id": "612193a1",
   "metadata": {},
   "outputs": [
    {
     "name": "stdout",
     "output_type": "stream",
     "text": [
      "Tomato\n",
      "m\n"
     ]
    }
   ],
   "source": [
    "# we can do indeing of list and indexing within it is also possible \n",
    "print(vegelist[0])\n",
    "print(vegelist[0][2])   # here we are giving command to fetch the 0th element form vegelist , and within that 0th position element; fetch the 2nd character \n",
    "\n",
    "#    vegelist = ['Tomato','Potato','Cucumber','Ladyfingure','Okara']\n",
    "#    Indexing =     0        1        2           3            4\n",
    "\n",
    "# 0th element = 'Tomato'\n",
    "# Indexing    =  012345\n",
    "\n",
    "# 2nd element of 0th element from vegelist i.e \"Tomato\" = m "
   ]
  },
  {
   "cell_type": "code",
   "execution_count": 15,
   "id": "bdaaa8d3",
   "metadata": {},
   "outputs": [
    {
     "data": {
      "text/plain": [
       "('Cucumber', 'Cucumber')"
      ]
     },
     "execution_count": 15,
     "metadata": {},
     "output_type": "execute_result"
    }
   ],
   "source": [
    "# you can give positive indexing as well as negative indexing \n",
    "#    vegelist = ['Tomato','Potato','Cucumber','Ladyfingure','Okara']\n",
    "# +ve Indexing =     0       1        2           3            4\n",
    "# -ve Indexing =    -5      -4       -3          -2           -1\n",
    "\n",
    "vegelist[2], vegelist[-3]   # same thing "
   ]
  },
  {
   "cell_type": "code",
   "execution_count": 16,
   "id": "d01d3263",
   "metadata": {},
   "outputs": [
    {
     "data": {
      "text/plain": [
       "('m', 'm')"
      ]
     },
     "execution_count": 16,
     "metadata": {},
     "output_type": "execute_result"
    }
   ],
   "source": [
    "vegelist[2][4]  , vegelist[2][-4]"
   ]
  },
  {
   "cell_type": "code",
   "execution_count": 17,
   "id": "2eeac505",
   "metadata": {},
   "outputs": [
    {
     "data": {
      "text/plain": [
       "('m', 'm')"
      ]
     },
     "execution_count": 17,
     "metadata": {},
     "output_type": "execute_result"
    }
   ],
   "source": [
    "vegelist[-3][4]  , vegelist[-3][-4]"
   ]
  },
  {
   "cell_type": "code",
   "execution_count": null,
   "id": "eddaab29",
   "metadata": {},
   "outputs": [],
   "source": [
    "## Above are given different ways to fetch index values using positive and negative indexing "
   ]
  },
  {
   "cell_type": "code",
   "execution_count": 41,
   "id": "f6c0180d",
   "metadata": {},
   "outputs": [
    {
     "data": {
      "text/plain": [
       "6"
      ]
     },
     "execution_count": 41,
     "metadata": {},
     "output_type": "execute_result"
    }
   ],
   "source": [
    "student = ['Anish', 342, 32.7, {'maths': 42, 'Phy': 34, 'his': 30}, 'Pass', 'H07886']\n",
    "len(student)"
   ]
  },
  {
   "cell_type": "code",
   "execution_count": 42,
   "id": "7700c281",
   "metadata": {},
   "outputs": [
    {
     "data": {
      "text/plain": [
       "32.7"
      ]
     },
     "execution_count": 42,
     "metadata": {},
     "output_type": "execute_result"
    }
   ],
   "source": [
    "student[2]"
   ]
  },
  {
   "cell_type": "code",
   "execution_count": 48,
   "id": "8b7d69b9",
   "metadata": {},
   "outputs": [
    {
     "data": {
      "text/plain": [
       "342"
      ]
     },
     "execution_count": 48,
     "metadata": {},
     "output_type": "execute_result"
    }
   ],
   "source": [
    "student[1]"
   ]
  },
  {
   "cell_type": "code",
   "execution_count": 49,
   "id": "24600e0d",
   "metadata": {},
   "outputs": [
    {
     "ename": "TypeError",
     "evalue": "'int' object is not subscriptable",
     "output_type": "error",
     "traceback": [
      "\u001b[1;31m---------------------------------------------------------------------------\u001b[0m",
      "\u001b[1;31mTypeError\u001b[0m                                 Traceback (most recent call last)",
      "Cell \u001b[1;32mIn[49], line 1\u001b[0m\n\u001b[1;32m----> 1\u001b[0m \u001b[43mstudent\u001b[49m\u001b[43m[\u001b[49m\u001b[38;5;241;43m1\u001b[39;49m\u001b[43m]\u001b[49m\u001b[43m[\u001b[49m\u001b[38;5;241;43m1\u001b[39;49m\u001b[43m]\u001b[49m\n",
      "\u001b[1;31mTypeError\u001b[0m: 'int' object is not subscriptable"
     ]
    }
   ],
   "source": [
    "student[1][1] #integer are not indexible "
   ]
  },
  {
   "cell_type": "code",
   "execution_count": 46,
   "id": "0e5fdf27",
   "metadata": {},
   "outputs": [
    {
     "ename": "TypeError",
     "evalue": "'float' object is not subscriptable",
     "output_type": "error",
     "traceback": [
      "\u001b[1;31m---------------------------------------------------------------------------\u001b[0m",
      "\u001b[1;31mTypeError\u001b[0m                                 Traceback (most recent call last)",
      "Cell \u001b[1;32mIn[46], line 1\u001b[0m\n\u001b[1;32m----> 1\u001b[0m \u001b[43mstudent\u001b[49m\u001b[43m[\u001b[49m\u001b[38;5;241;43m2\u001b[39;49m\u001b[43m]\u001b[49m\u001b[43m[\u001b[49m\u001b[38;5;241;43m2\u001b[39;49m\u001b[43m]\u001b[49m\n",
      "\u001b[1;31mTypeError\u001b[0m: 'float' object is not subscriptable"
     ]
    }
   ],
   "source": [
    "student[2][2] ### we cant index float object "
   ]
  },
  {
   "cell_type": "code",
   "execution_count": 44,
   "id": "8ba4dd04",
   "metadata": {},
   "outputs": [
    {
     "data": {
      "text/plain": [
       "30"
      ]
     },
     "execution_count": 44,
     "metadata": {},
     "output_type": "execute_result"
    }
   ],
   "source": [
    "student[3]['his'] # for indexing dictionary , we have to give key  element to fetch value "
   ]
  },
  {
   "cell_type": "code",
   "execution_count": 47,
   "id": "56de578d",
   "metadata": {},
   "outputs": [
    {
     "name": "stdout",
     "output_type": "stream",
     "text": [
      "Pass\n",
      "s\n"
     ]
    }
   ],
   "source": [
    "print(student[4])\n",
    "print(student[4][3])"
   ]
  },
  {
   "cell_type": "code",
   "execution_count": 30,
   "id": "914e7130",
   "metadata": {},
   "outputs": [
    {
     "data": {
      "text/plain": [
       "7"
      ]
     },
     "execution_count": 30,
     "metadata": {},
     "output_type": "execute_result"
    }
   ],
   "source": [
    "Rosh = [23, 'Girl', '9673507742',['washim', 'maharashtra'], {'UG':'Btech', \"PG\": \"Mtech\"}, 9.00 , 8.37]\n",
    "len(Rosh)"
   ]
  },
  {
   "cell_type": "code",
   "execution_count": 37,
   "id": "ea484dc5",
   "metadata": {},
   "outputs": [
    {
     "data": {
      "text/plain": [
       "(['washim', 'maharashtra'], ['washim', 'maharashtra'])"
      ]
     },
     "execution_count": 37,
     "metadata": {},
     "output_type": "execute_result"
    }
   ],
   "source": [
    "Rosh[3], Rosh[-4]"
   ]
  },
  {
   "cell_type": "code",
   "execution_count": 32,
   "id": "1b37ed0a",
   "metadata": {},
   "outputs": [
    {
     "data": {
      "text/plain": [
       "{'UG': 'Btech', 'PG': 'Mtech'}"
      ]
     },
     "execution_count": 32,
     "metadata": {},
     "output_type": "execute_result"
    }
   ],
   "source": [
    "Rosh[4]"
   ]
  },
  {
   "cell_type": "code",
   "execution_count": 33,
   "id": "d03db52d",
   "metadata": {},
   "outputs": [
    {
     "data": {
      "text/plain": [
       "'Girl'"
      ]
     },
     "execution_count": 33,
     "metadata": {},
     "output_type": "execute_result"
    }
   ],
   "source": [
    "Rosh[1]"
   ]
  },
  {
   "cell_type": "code",
   "execution_count": 34,
   "id": "de353e96",
   "metadata": {},
   "outputs": [
    {
     "data": {
      "text/plain": [
       "'maharashtra'"
      ]
     },
     "execution_count": 34,
     "metadata": {},
     "output_type": "execute_result"
    }
   ],
   "source": [
    "Rosh[3][1]"
   ]
  },
  {
   "cell_type": "code",
   "execution_count": 35,
   "id": "75fd476a",
   "metadata": {},
   "outputs": [
    {
     "data": {
      "text/plain": [
       "'r'"
      ]
     },
     "execution_count": 35,
     "metadata": {},
     "output_type": "execute_result"
    }
   ],
   "source": [
    "Rosh[3][1][4]"
   ]
  },
  {
   "cell_type": "code",
   "execution_count": 36,
   "id": "3c1141b2",
   "metadata": {},
   "outputs": [
    {
     "data": {
      "text/plain": [
       "'w'"
      ]
     },
     "execution_count": 36,
     "metadata": {},
     "output_type": "execute_result"
    }
   ],
   "source": [
    "Rosh[3][0][0]"
   ]
  },
  {
   "cell_type": "markdown",
   "id": "938f8682",
   "metadata": {},
   "source": [
    ">## Tuple\n",
    "- it is the collectin of heterogenous data elements written inside parenthesis\n",
    "- Tuple is immutable "
   ]
  },
  {
   "cell_type": "code",
   "execution_count": 103,
   "id": "dbaba09b",
   "metadata": {},
   "outputs": [
    {
     "name": "stdout",
     "output_type": "stream",
     "text": [
      "()\n",
      "0\n"
     ]
    }
   ],
   "source": [
    "t = ()\n",
    "print(t)\n",
    "print(len(t))"
   ]
  },
  {
   "cell_type": "code",
   "execution_count": 104,
   "id": "17d4a346",
   "metadata": {},
   "outputs": [
    {
     "data": {
      "text/plain": [
       "0"
      ]
     },
     "execution_count": 104,
     "metadata": {},
     "output_type": "execute_result"
    }
   ],
   "source": [
    "tv= ( )\n",
    "len(tv)"
   ]
  },
  {
   "cell_type": "code",
   "execution_count": 59,
   "id": "18bb4623",
   "metadata": {},
   "outputs": [
    {
     "data": {
      "text/plain": [
       "tuple"
      ]
     },
     "execution_count": 59,
     "metadata": {},
     "output_type": "execute_result"
    }
   ],
   "source": [
    "vegetup = ('Tomato','Potato','Cucumber','Ladyfingure','Okara')\n",
    "type(vegetup)"
   ]
  },
  {
   "cell_type": "code",
   "execution_count": 60,
   "id": "64117ffb",
   "metadata": {},
   "outputs": [
    {
     "data": {
      "text/plain": [
       "5"
      ]
     },
     "execution_count": 60,
     "metadata": {},
     "output_type": "execute_result"
    }
   ],
   "source": [
    "len(vegetup)"
   ]
  },
  {
   "cell_type": "code",
   "execution_count": 61,
   "id": "3e9153a8",
   "metadata": {},
   "outputs": [
    {
     "data": {
      "text/plain": [
       "'Ladyfingure'"
      ]
     },
     "execution_count": 61,
     "metadata": {},
     "output_type": "execute_result"
    }
   ],
   "source": [
    "vegetup[3]  # tuple indexing "
   ]
  },
  {
   "cell_type": "code",
   "execution_count": 62,
   "id": "0fbf559e",
   "metadata": {},
   "outputs": [
    {
     "data": {
      "text/plain": [
       "'e'"
      ]
     },
     "execution_count": 62,
     "metadata": {},
     "output_type": "execute_result"
    }
   ],
   "source": [
    "vegetup[2][-2]"
   ]
  },
  {
   "cell_type": "code",
   "execution_count": 63,
   "id": "1dbfbedc",
   "metadata": {},
   "outputs": [
    {
     "data": {
      "text/plain": [
       "'Potato'"
      ]
     },
     "execution_count": 63,
     "metadata": {},
     "output_type": "execute_result"
    }
   ],
   "source": [
    "# mutablility test \n",
    "\n",
    "vegetup = ('Tomato','Potato','Cucumber','Ladyfingure','Okara')\n",
    "vegetup[1]"
   ]
  },
  {
   "cell_type": "code",
   "execution_count": 64,
   "id": "cc813ea7",
   "metadata": {},
   "outputs": [
    {
     "ename": "TypeError",
     "evalue": "'tuple' object does not support item assignment",
     "output_type": "error",
     "traceback": [
      "\u001b[1;31m---------------------------------------------------------------------------\u001b[0m",
      "\u001b[1;31mTypeError\u001b[0m                                 Traceback (most recent call last)",
      "Cell \u001b[1;32mIn[64], line 1\u001b[0m\n\u001b[1;32m----> 1\u001b[0m vegetup[\u001b[38;5;241m1\u001b[39m] \u001b[38;5;241m=\u001b[39m \u001b[38;5;124m'\u001b[39m\u001b[38;5;124mCarrot\u001b[39m\u001b[38;5;124m'\u001b[39m\n\u001b[0;32m      2\u001b[0m vegetup\n",
      "\u001b[1;31mTypeError\u001b[0m: 'tuple' object does not support item assignment"
     ]
    }
   ],
   "source": [
    "vegetup[1] = 'Carrot'\n",
    "vegetup\n",
    "\n",
    "# It throws error because it is immutable , we cant modify elements in tuple "
   ]
  },
  {
   "cell_type": "code",
   "execution_count": 65,
   "id": "680abc31",
   "metadata": {},
   "outputs": [
    {
     "data": {
      "text/plain": [
       "(['J&K', 'shrinagar'],\n",
       " ['maharashtra', 'mumbai'],\n",
       " ['MP', 'bhopal'],\n",
       " ['gujrat', 'Ahemdabad'])"
      ]
     },
     "execution_count": 65,
     "metadata": {},
     "output_type": "execute_result"
    }
   ],
   "source": [
    "st = (['J&K','shrinagar'], ['maharashtra','mumbai'],['MP', 'bhopal'],['gujrat','Ahemdabad'])\n",
    "st\n",
    "\n",
    "# here is the lists inside the tuple "
   ]
  },
  {
   "cell_type": "code",
   "execution_count": 66,
   "id": "3310f0ab",
   "metadata": {},
   "outputs": [
    {
     "data": {
      "text/plain": [
       "['maharashtra', 'mumbai']"
      ]
     },
     "execution_count": 66,
     "metadata": {},
     "output_type": "execute_result"
    }
   ],
   "source": [
    "st[1]"
   ]
  },
  {
   "cell_type": "code",
   "execution_count": 67,
   "id": "f44a3f45",
   "metadata": {},
   "outputs": [
    {
     "ename": "TypeError",
     "evalue": "'tuple' object does not support item assignment",
     "output_type": "error",
     "traceback": [
      "\u001b[1;31m---------------------------------------------------------------------------\u001b[0m",
      "\u001b[1;31mTypeError\u001b[0m                                 Traceback (most recent call last)",
      "Cell \u001b[1;32mIn[67], line 1\u001b[0m\n\u001b[1;32m----> 1\u001b[0m st[\u001b[38;5;241m1\u001b[39m] \u001b[38;5;241m=\u001b[39m\u001b[38;5;124m'\u001b[39m\u001b[38;5;124mhurrey\u001b[39m\u001b[38;5;124m'\u001b[39m\n\u001b[0;32m      2\u001b[0m st\n",
      "\u001b[1;31mTypeError\u001b[0m: 'tuple' object does not support item assignment"
     ]
    }
   ],
   "source": [
    "st[1] ='hurrey'\n",
    "st\n",
    "\n",
    "# here we are trying to modify the whole element(list) from tuple\n",
    "# and the tuple is immutable \n",
    "# Hence it will not change and throws error"
   ]
  },
  {
   "cell_type": "code",
   "execution_count": 71,
   "id": "739e928d",
   "metadata": {},
   "outputs": [
    {
     "data": {
      "text/plain": [
       "['Amcha Maharashtra', 'mumbai']"
      ]
     },
     "execution_count": 71,
     "metadata": {},
     "output_type": "execute_result"
    }
   ],
   "source": [
    "st[1][0] = \"Amcha Maharashtra\"\n",
    "st[1]\n",
    "\n",
    "# here it is getting change because we modify th list data type in tuple ,\n",
    "# List is mutable thats why it will change "
   ]
  },
  {
   "cell_type": "code",
   "execution_count": 72,
   "id": "d7f6ba8a",
   "metadata": {},
   "outputs": [
    {
     "data": {
      "text/plain": [
       "(['J&K', 'shrinagar'],\n",
       " ['Amcha Maharashtra', 'mumbai'],\n",
       " ['MP', 'bhopal'],\n",
       " ['gujrat', 'Ahemdabad'])"
      ]
     },
     "execution_count": 72,
     "metadata": {},
     "output_type": "execute_result"
    }
   ],
   "source": [
    "st"
   ]
  },
  {
   "cell_type": "markdown",
   "id": "e18090c1",
   "metadata": {},
   "source": [
    " >## Dictionary\n",
    "- It is an **orderd collection** of key and value pairs stored in a paired format \n",
    "- It is written inside braces\n",
    "- keys of dictionary can only be created using **immutable** data type ; i.e keys cannot be mutable  \n",
    "- Values can be of any data type "
   ]
  },
  {
   "cell_type": "code",
   "execution_count": 100,
   "id": "6afa41b3",
   "metadata": {},
   "outputs": [
    {
     "data": {
      "text/plain": [
       "{}"
      ]
     },
     "execution_count": 100,
     "metadata": {},
     "output_type": "execute_result"
    }
   ],
   "source": [
    "d ={}\n",
    "d"
   ]
  },
  {
   "cell_type": "code",
   "execution_count": 101,
   "id": "c5dbf48b",
   "metadata": {},
   "outputs": [
    {
     "data": {
      "text/plain": [
       "0"
      ]
     },
     "execution_count": 101,
     "metadata": {},
     "output_type": "execute_result"
    }
   ],
   "source": [
    "len(d)"
   ]
  },
  {
   "cell_type": "code",
   "execution_count": 102,
   "id": "50bd2be6",
   "metadata": {},
   "outputs": [
    {
     "data": {
      "text/plain": [
       "0"
      ]
     },
     "execution_count": 102,
     "metadata": {},
     "output_type": "execute_result"
    }
   ],
   "source": [
    "dx = { }\n",
    "len(dx)"
   ]
  },
  {
   "cell_type": "code",
   "execution_count": 82,
   "id": "6aad1770",
   "metadata": {},
   "outputs": [
    {
     "data": {
      "text/plain": [
       "{'Name': 'Shahrukh', 'Age': 48, 'City': ['MH', 'Bombay']}"
      ]
     },
     "execution_count": 82,
     "metadata": {},
     "output_type": "execute_result"
    }
   ],
   "source": [
    "d1 = {'Name' : 'Shahrukh', 'Age': 48, 'City' :['MH','Bombay']}\n",
    "d1"
   ]
  },
  {
   "cell_type": "code",
   "execution_count": 83,
   "id": "c03b4d02",
   "metadata": {},
   "outputs": [
    {
     "data": {
      "text/plain": [
       "('Shahrukh', 48, ['MH', 'Bombay'])"
      ]
     },
     "execution_count": 83,
     "metadata": {},
     "output_type": "execute_result"
    }
   ],
   "source": [
    "d1['Name'], d1['Age'], d1[\"City\"]\n",
    "\n",
    "# here we have given the keys and fetch vlues \n"
   ]
  },
  {
   "cell_type": "code",
   "execution_count": 77,
   "id": "8693daf5",
   "metadata": {},
   "outputs": [
    {
     "ename": "KeyError",
     "evalue": "0",
     "output_type": "error",
     "traceback": [
      "\u001b[1;31m---------------------------------------------------------------------------\u001b[0m",
      "\u001b[1;31mKeyError\u001b[0m                                  Traceback (most recent call last)",
      "Cell \u001b[1;32mIn[77], line 1\u001b[0m\n\u001b[1;32m----> 1\u001b[0m \u001b[43md1\u001b[49m\u001b[43m[\u001b[49m\u001b[38;5;241;43m0\u001b[39;49m\u001b[43m]\u001b[49m\n",
      "\u001b[1;31mKeyError\u001b[0m: 0"
     ]
    }
   ],
   "source": [
    "d1[0]   ### dictionary is non indexable "
   ]
  },
  {
   "cell_type": "code",
   "execution_count": 78,
   "id": "14167366",
   "metadata": {},
   "outputs": [
    {
     "data": {
      "text/plain": [
       "{'Name': 'Rekha', 'Age': 48, 'City': 'Bombay'}"
      ]
     },
     "execution_count": 78,
     "metadata": {},
     "output_type": "execute_result"
    }
   ],
   "source": [
    "# Mutablility test \n",
    "\n",
    "d1[\"Name\"] = 'Rekha'\n",
    "d1"
   ]
  },
  {
   "cell_type": "markdown",
   "id": "5605d8f6",
   "metadata": {},
   "source": [
    "**You can only assec value by key , but key cannot get accessed by giving values in dictionry**"
   ]
  },
  {
   "cell_type": "code",
   "execution_count": 80,
   "id": "45c36167",
   "metadata": {},
   "outputs": [
    {
     "data": {
      "text/plain": [
       "48"
      ]
     },
     "execution_count": 80,
     "metadata": {},
     "output_type": "execute_result"
    }
   ],
   "source": [
    "d1[\"Age\"]"
   ]
  },
  {
   "cell_type": "code",
   "execution_count": 81,
   "id": "3173a931",
   "metadata": {},
   "outputs": [
    {
     "ename": "KeyError",
     "evalue": "48",
     "output_type": "error",
     "traceback": [
      "\u001b[1;31m---------------------------------------------------------------------------\u001b[0m",
      "\u001b[1;31mKeyError\u001b[0m                                  Traceback (most recent call last)",
      "Cell \u001b[1;32mIn[81], line 1\u001b[0m\n\u001b[1;32m----> 1\u001b[0m \u001b[43md1\u001b[49m\u001b[43m[\u001b[49m\u001b[38;5;241;43m48\u001b[39;49m\u001b[43m]\u001b[49m\n",
      "\u001b[1;31mKeyError\u001b[0m: 48"
     ]
    }
   ],
   "source": [
    "d1[48]"
   ]
  },
  {
   "cell_type": "code",
   "execution_count": 84,
   "id": "a2be7178",
   "metadata": {},
   "outputs": [
    {
     "data": {
      "text/plain": [
       "['MH', 'Bombay']"
      ]
     },
     "execution_count": 84,
     "metadata": {},
     "output_type": "execute_result"
    }
   ],
   "source": [
    "d1[\"City\"]"
   ]
  },
  {
   "cell_type": "code",
   "execution_count": 85,
   "id": "aeb76786",
   "metadata": {},
   "outputs": [
    {
     "data": {
      "text/plain": [
       "'MH'"
      ]
     },
     "execution_count": 85,
     "metadata": {},
     "output_type": "execute_result"
    }
   ],
   "source": [
    "d1['City'][0]"
   ]
  },
  {
   "cell_type": "markdown",
   "id": "8b2d52b3",
   "metadata": {},
   "source": [
    "**___________________________________________________________________________________________________________**"
   ]
  },
  {
   "cell_type": "markdown",
   "id": "428d9fa8",
   "metadata": {},
   "source": [
    "**____________________________________________________________________________________________________________**"
   ]
  },
  {
   "cell_type": "code",
   "execution_count": 86,
   "id": "f546fbaf",
   "metadata": {},
   "outputs": [],
   "source": [
    "l = [14]\n",
    "t = (14)"
   ]
  },
  {
   "cell_type": "code",
   "execution_count": 88,
   "id": "51b71783",
   "metadata": {},
   "outputs": [
    {
     "name": "stdout",
     "output_type": "stream",
     "text": [
      "<class 'list'>\n",
      "<class 'int'>\n"
     ]
    }
   ],
   "source": [
    "print(type(l))\n",
    "print(type(t))"
   ]
  },
  {
   "cell_type": "code",
   "execution_count": 89,
   "id": "3291bff5",
   "metadata": {},
   "outputs": [],
   "source": [
    "l1 = ['Hi']\n",
    "t1 = ('Hi')  # it should give type tuple , but tuple automaticily tore the elements data type ; if there is single element in it "
   ]
  },
  {
   "cell_type": "code",
   "execution_count": 91,
   "id": "85e6c644",
   "metadata": {},
   "outputs": [
    {
     "name": "stdout",
     "output_type": "stream",
     "text": [
      "<class 'list'>\n",
      "<class 'str'>\n"
     ]
    }
   ],
   "source": [
    "print(type(l1))\n",
    "print(type(t1))  # as tuple is immutable , there is no point to store the single element into the tuple "
   ]
  },
  {
   "cell_type": "code",
   "execution_count": 92,
   "id": "cf51070a",
   "metadata": {},
   "outputs": [
    {
     "data": {
      "text/plain": [
       "int"
      ]
     },
     "execution_count": 92,
     "metadata": {},
     "output_type": "execute_result"
    }
   ],
   "source": [
    "t2 = (23)\n",
    "type(t2)"
   ]
  },
  {
   "cell_type": "markdown",
   "id": "6fec9ed8",
   "metadata": {},
   "source": [
    "**Trick**"
   ]
  },
  {
   "cell_type": "code",
   "execution_count": 99,
   "id": "66e07510",
   "metadata": {},
   "outputs": [
    {
     "name": "stdout",
     "output_type": "stream",
     "text": [
      "Hi\n",
      "<class 'str'>\n",
      "('Hi',)\n",
      "<class 'tuple'>\n",
      "2\n",
      "1\n"
     ]
    }
   ],
   "source": [
    "# if you wanted to store single element into the tuple and want its data type should only a tuple \n",
    "# then there is a trick \n",
    "t1 = ('Hi')\n",
    "print(t1)\n",
    "print(type(t1))\n",
    "\n",
    "## Put comma after the element \n",
    "t2 = ('Hi',)\n",
    "print(t2)\n",
    "print(type(t2))\n",
    "\n",
    "## It will make it tuple \n",
    "# Length will be 1 here \n",
    "\n",
    "print(len(t1))\n",
    "print(len(t2))"
   ]
  },
  {
   "cell_type": "markdown",
   "id": "2213dfb5",
   "metadata": {},
   "source": [
    "**_______________________________________________________________________**"
   ]
  },
  {
   "cell_type": "markdown",
   "id": "1af7d4f6",
   "metadata": {},
   "source": [
    "**__________________________________________________________________________________**"
   ]
  },
  {
   "cell_type": "markdown",
   "id": "4b6bcaac",
   "metadata": {},
   "source": [
    "> ## Set\n",
    "\n",
    "- Unordered Collection of immutable heterogenous data items\n",
    "- Mutable \n",
    "- **Non Indexible**\n",
    "- It stores uniqe values\n",
    "- it dosesnt store repeted element \n",
    "- it omits duplicate element "
   ]
  },
  {
   "cell_type": "code",
   "execution_count": 110,
   "id": "6f05c670",
   "metadata": {},
   "outputs": [
    {
     "data": {
      "text/plain": [
       "{0, 1, 42.8, 8, 'Hi'}"
      ]
     },
     "execution_count": 110,
     "metadata": {},
     "output_type": "execute_result"
    }
   ],
   "source": [
    "se = {1,8,'Hi',42.8,0}\n",
    "se"
   ]
  },
  {
   "cell_type": "code",
   "execution_count": 111,
   "id": "cddb6450",
   "metadata": {},
   "outputs": [
    {
     "data": {
      "text/plain": [
       "dict"
      ]
     },
     "execution_count": 111,
     "metadata": {},
     "output_type": "execute_result"
    }
   ],
   "source": [
    "s = {}\n",
    "type(s)\n",
    "\n",
    "# you cannot write empty set like this \n",
    "# it will give data type as dictionary "
   ]
  },
  {
   "cell_type": "code",
   "execution_count": 113,
   "id": "cd3e71ed",
   "metadata": {},
   "outputs": [
    {
     "data": {
      "text/plain": [
       "set"
      ]
     },
     "execution_count": 113,
     "metadata": {},
     "output_type": "execute_result"
    }
   ],
   "source": [
    "# You have to write empty set as \n",
    "s = set()\n",
    "type(s)"
   ]
  },
  {
   "cell_type": "code",
   "execution_count": 114,
   "id": "87ee6ad2",
   "metadata": {},
   "outputs": [
    {
     "data": {
      "text/plain": [
       "0"
      ]
     },
     "execution_count": 114,
     "metadata": {},
     "output_type": "execute_result"
    }
   ],
   "source": [
    "len(s)"
   ]
  },
  {
   "cell_type": "code",
   "execution_count": 118,
   "id": "09a7502b",
   "metadata": {},
   "outputs": [
    {
     "data": {
      "text/plain": [
       "{1, 3, 4, 6, 9}"
      ]
     },
     "execution_count": 118,
     "metadata": {},
     "output_type": "execute_result"
    }
   ],
   "source": [
    "sq = {1,4,4,6,3,3,3,3,1,1,9}\n",
    "sq"
   ]
  },
  {
   "cell_type": "code",
   "execution_count": 119,
   "id": "eb2de4dc",
   "metadata": {},
   "outputs": [
    {
     "ename": "TypeError",
     "evalue": "'set' object is not subscriptable",
     "output_type": "error",
     "traceback": [
      "\u001b[1;31m---------------------------------------------------------------------------\u001b[0m",
      "\u001b[1;31mTypeError\u001b[0m                                 Traceback (most recent call last)",
      "Cell \u001b[1;32mIn[119], line 1\u001b[0m\n\u001b[1;32m----> 1\u001b[0m \u001b[43msq\u001b[49m\u001b[43m \u001b[49m\u001b[43m[\u001b[49m\u001b[38;5;241;43m1\u001b[39;49m\u001b[43m]\u001b[49m\n",
      "\u001b[1;31mTypeError\u001b[0m: 'set' object is not subscriptable"
     ]
    }
   ],
   "source": [
    "sq [1]  # non indexible"
   ]
  },
  {
   "cell_type": "code",
   "execution_count": 124,
   "id": "65e54f1f",
   "metadata": {},
   "outputs": [
    {
     "data": {
      "text/plain": [
       "{1, 3, 4, 6, 9, 34}"
      ]
     },
     "execution_count": 124,
     "metadata": {},
     "output_type": "execute_result"
    }
   ],
   "source": [
    "sq.add(34)  # It is mutable \n",
    "sq"
   ]
  },
  {
   "cell_type": "code",
   "execution_count": 123,
   "id": "917f3b5a",
   "metadata": {},
   "outputs": [
    {
     "ename": "AttributeError",
     "evalue": "'set' object has no attribute 'append'",
     "output_type": "error",
     "traceback": [
      "\u001b[1;31m---------------------------------------------------------------------------\u001b[0m",
      "\u001b[1;31mAttributeError\u001b[0m                            Traceback (most recent call last)",
      "Cell \u001b[1;32mIn[123], line 1\u001b[0m\n\u001b[1;32m----> 1\u001b[0m \u001b[43msq\u001b[49m\u001b[38;5;241;43m.\u001b[39;49m\u001b[43mappend\u001b[49m(\u001b[38;5;241m2\u001b[39m)\n",
      "\u001b[1;31mAttributeError\u001b[0m: 'set' object has no attribute 'append'"
     ]
    }
   ],
   "source": [
    "sq.append(2) # we cant append here in set  "
   ]
  },
  {
   "cell_type": "code",
   "execution_count": 15,
   "id": "b8f2ccf7",
   "metadata": {},
   "outputs": [
    {
     "data": {
      "text/plain": [
       "{('hi', 2), 1, 6, 7, 8, 9, 'hello'}"
      ]
     },
     "execution_count": 15,
     "metadata": {},
     "output_type": "execute_result"
    }
   ],
   "source": [
    "## We can only store immutable data type inside the set \n",
    "sg = {('hi', 2), 7,'hello',6,8,1,9,8,1}\n",
    "sg"
   ]
  },
  {
   "cell_type": "code",
   "execution_count": 16,
   "id": "d32191db",
   "metadata": {},
   "outputs": [
    {
     "data": {
      "text/plain": [
       "{('hi', 2), 1, 6, 7, 8, 9, 'hello', 'welcome'}"
      ]
     },
     "execution_count": 16,
     "metadata": {},
     "output_type": "execute_result"
    }
   ],
   "source": [
    "sg.add('welcome')   # add an element to set \n",
    "sg"
   ]
  },
  {
   "cell_type": "code",
   "execution_count": 18,
   "id": "e9982e6a",
   "metadata": {},
   "outputs": [
    {
     "ename": "KeyError",
     "evalue": "'hello'",
     "output_type": "error",
     "traceback": [
      "\u001b[1;31m---------------------------------------------------------------------------\u001b[0m",
      "\u001b[1;31mKeyError\u001b[0m                                  Traceback (most recent call last)",
      "Cell \u001b[1;32mIn[18], line 1\u001b[0m\n\u001b[1;32m----> 1\u001b[0m \u001b[43msg\u001b[49m\u001b[38;5;241;43m.\u001b[39;49m\u001b[43mremove\u001b[49m\u001b[43m(\u001b[49m\u001b[38;5;124;43m'\u001b[39;49m\u001b[38;5;124;43mhello\u001b[39;49m\u001b[38;5;124;43m'\u001b[39;49m\u001b[43m)\u001b[49m  \u001b[38;5;66;03m# removing element from set \u001b[39;00m\n\u001b[0;32m      2\u001b[0m sg\n",
      "\u001b[1;31mKeyError\u001b[0m: 'hello'"
     ]
    }
   ],
   "source": [
    "sg.remove('hello')  # removing element from set \n",
    "sg\n",
    "\n",
    "\n",
    "# sencond time runing a cell will throw error because at 1st time it is already removed \n",
    "# for second time it ill not found "
   ]
  },
  {
   "cell_type": "code",
   "execution_count": 21,
   "id": "eaaffa45",
   "metadata": {},
   "outputs": [
    {
     "data": {
      "text/plain": [
       "{('hi', 2), 1, 6, 7, 8, 9, 'welcome'}"
      ]
     },
     "execution_count": 21,
     "metadata": {},
     "output_type": "execute_result"
    }
   ],
   "source": [
    "# another way to remove \n",
    "sg.discard('hi')\n",
    "sg"
   ]
  },
  {
   "cell_type": "code",
   "execution_count": 22,
   "id": "802384d5",
   "metadata": {},
   "outputs": [
    {
     "data": {
      "text/plain": [
       "set()"
      ]
     },
     "execution_count": 22,
     "metadata": {},
     "output_type": "execute_result"
    }
   ],
   "source": [
    "# delet all the items in set \n",
    "\n",
    "sg.clear()\n",
    "sg"
   ]
  },
  {
   "cell_type": "code",
   "execution_count": 24,
   "id": "672dcd8e",
   "metadata": {},
   "outputs": [],
   "source": [
    "# delet entire set with structure\n",
    "\n",
    "del sg"
   ]
  },
  {
   "cell_type": "code",
   "execution_count": 25,
   "id": "49d1192d",
   "metadata": {},
   "outputs": [
    {
     "ename": "NameError",
     "evalue": "name 'sg' is not defined",
     "output_type": "error",
     "traceback": [
      "\u001b[1;31m---------------------------------------------------------------------------\u001b[0m",
      "\u001b[1;31mNameError\u001b[0m                                 Traceback (most recent call last)",
      "Cell \u001b[1;32mIn[25], line 1\u001b[0m\n\u001b[1;32m----> 1\u001b[0m \u001b[43msg\u001b[49m\n",
      "\u001b[1;31mNameError\u001b[0m: name 'sg' is not defined"
     ]
    }
   ],
   "source": [
    "sg  # it is deleted "
   ]
  },
  {
   "cell_type": "code",
   "execution_count": 26,
   "id": "8424e193",
   "metadata": {},
   "outputs": [
    {
     "data": {
      "text/plain": [
       "{'Altroz', 'Harrier', 'Nexon', 'Safari'}"
      ]
     },
     "execution_count": 26,
     "metadata": {},
     "output_type": "execute_result"
    }
   ],
   "source": [
    "cars = {'Altroz','Harrier','Safari','Nexon'}\n",
    "cars"
   ]
  },
  {
   "cell_type": "code",
   "execution_count": 28,
   "id": "7cc896fc",
   "metadata": {},
   "outputs": [
    {
     "data": {
      "text/plain": [
       "{'Altroz', 'Harrier', 'Nexon', 'Safari'}"
      ]
     },
     "execution_count": 28,
     "metadata": {},
     "output_type": "execute_result"
    }
   ],
   "source": [
    "cars2 = cars.copy()  # copy set \n",
    "cars2\n",
    "\n",
    "#creating copy and assigning variable name as cars2"
   ]
  },
  {
   "cell_type": "code",
   "execution_count": 29,
   "id": "b3cf7029",
   "metadata": {},
   "outputs": [
    {
     "data": {
      "text/plain": [
       "True"
      ]
     },
     "execution_count": 29,
     "metadata": {},
     "output_type": "execute_result"
    }
   ],
   "source": [
    "cars == cars2   # conformation"
   ]
  },
  {
   "cell_type": "code",
   "execution_count": 30,
   "id": "3252bcc1",
   "metadata": {},
   "outputs": [
    {
     "data": {
      "text/plain": [
       "(2009405198336, 2009405199680)"
      ]
     },
     "execution_count": 30,
     "metadata": {},
     "output_type": "execute_result"
    }
   ],
   "source": [
    "# id observatoion\n",
    "\n",
    "id(cars), id(cars2)"
   ]
  },
  {
   "cell_type": "code",
   "execution_count": 31,
   "id": "b5a62fc6",
   "metadata": {},
   "outputs": [
    {
     "data": {
      "text/plain": [
       "{'Altroz', 'Harrier', 'Nexon', 'Safari'}"
      ]
     },
     "execution_count": 31,
     "metadata": {},
     "output_type": "execute_result"
    }
   ],
   "source": [
    "cars  # orignal file "
   ]
  },
  {
   "cell_type": "code",
   "execution_count": 32,
   "id": "3e7ffb57",
   "metadata": {},
   "outputs": [
    {
     "data": {
      "text/plain": [
       "{'Altroz', 'Harrier', 'Nexon', 'Safari'}"
      ]
     },
     "execution_count": 32,
     "metadata": {},
     "output_type": "execute_result"
    }
   ],
   "source": [
    "cars2   # copied file"
   ]
  },
  {
   "cell_type": "code",
   "execution_count": 33,
   "id": "6062b4e1",
   "metadata": {},
   "outputs": [
    {
     "data": {
      "text/plain": [
       "{'Altroz', 'Harrier', 'Nexon', 'Safari', 'me'}"
      ]
     },
     "execution_count": 33,
     "metadata": {},
     "output_type": "execute_result"
    }
   ],
   "source": [
    "cars.add('me')  # adding elemet to original set \n",
    "cars"
   ]
  },
  {
   "cell_type": "code",
   "execution_count": 34,
   "id": "939b892c",
   "metadata": {},
   "outputs": [
    {
     "data": {
      "text/plain": [
       "{'Altroz', 'Harrier', 'Nexon', 'Safari'}"
      ]
     },
     "execution_count": 34,
     "metadata": {},
     "output_type": "execute_result"
    }
   ],
   "source": [
    "cars2       # no changes will appeer in copied set , only change will seen in the original set "
   ]
  },
  {
   "cell_type": "markdown",
   "id": "eb934645",
   "metadata": {},
   "source": [
    "### Set operations "
   ]
  },
  {
   "cell_type": "code",
   "execution_count": 37,
   "id": "f13ee7cd",
   "metadata": {},
   "outputs": [],
   "source": [
    "A = {1,2,3,4,5}\n",
    "B = {3,4,5,6,7}\n",
    "C = {5,6,7,8,9}\n"
   ]
  },
  {
   "cell_type": "code",
   "execution_count": 38,
   "id": "c4387ea3",
   "metadata": {},
   "outputs": [
    {
     "data": {
      "text/plain": [
       "{1, 2, 3, 4, 5, 6, 7}"
      ]
     },
     "execution_count": 38,
     "metadata": {},
     "output_type": "execute_result"
    }
   ],
   "source": [
    "A | B # union\n"
   ]
  },
  {
   "cell_type": "code",
   "execution_count": 39,
   "id": "f0a266ef",
   "metadata": {},
   "outputs": [
    {
     "data": {
      "text/plain": [
       "{1, 2, 3, 4, 5, 6, 7}"
      ]
     },
     "execution_count": 39,
     "metadata": {},
     "output_type": "execute_result"
    }
   ],
   "source": [
    "A.union(B)  # another way for union"
   ]
  },
  {
   "cell_type": "code",
   "execution_count": 40,
   "id": "6fd5684d",
   "metadata": {},
   "outputs": [
    {
     "data": {
      "text/plain": [
       "{1, 2, 3, 4, 5, 6, 7, 8, 9}"
      ]
     },
     "execution_count": 40,
     "metadata": {},
     "output_type": "execute_result"
    }
   ],
   "source": [
    "A.union(B,C)  # union of ABC"
   ]
  },
  {
   "cell_type": "code",
   "execution_count": 44,
   "id": "90330e87",
   "metadata": {},
   "outputs": [
    {
     "data": {
      "text/plain": [
       "{5, 6, 7, 8, 9}"
      ]
     },
     "execution_count": 44,
     "metadata": {},
     "output_type": "execute_result"
    }
   ],
   "source": [
    "c.update(B)   # set C is updated with Set B \n",
    "C"
   ]
  },
  {
   "cell_type": "code",
   "execution_count": 45,
   "id": "07f15243",
   "metadata": {},
   "outputs": [
    {
     "data": {
      "text/plain": [
       "{1, 2, 5, 6}"
      ]
     },
     "execution_count": 45,
     "metadata": {},
     "output_type": "execute_result"
    }
   ],
   "source": [
    "a = {1,2}\n",
    "b = {5,6}\n",
    "a.update(b)\n",
    "a"
   ]
  },
  {
   "cell_type": "code",
   "execution_count": 46,
   "id": "a32cb9e8",
   "metadata": {},
   "outputs": [
    {
     "data": {
      "text/plain": [
       "{2, 3, 4}"
      ]
     },
     "execution_count": 46,
     "metadata": {},
     "output_type": "execute_result"
    }
   ],
   "source": [
    "# Intersection \n",
    "\n",
    "a = {1,2,3,4}\n",
    "b = {2,3,4,5}\n",
    "a & b      # gives common items"
   ]
  },
  {
   "cell_type": "code",
   "execution_count": 48,
   "id": "12d65425",
   "metadata": {},
   "outputs": [
    {
     "data": {
      "text/plain": [
       "{2, 3, 4}"
      ]
     },
     "execution_count": 48,
     "metadata": {},
     "output_type": "execute_result"
    }
   ],
   "source": [
    "a.intersection(b)   "
   ]
  },
  {
   "cell_type": "code",
   "execution_count": 49,
   "id": "66acaf0f",
   "metadata": {},
   "outputs": [],
   "source": [
    "a.intersection_update(b)  # this will updaate that set a with set of  intersection "
   ]
  },
  {
   "cell_type": "code",
   "execution_count": 50,
   "id": "012f94db",
   "metadata": {},
   "outputs": [
    {
     "data": {
      "text/plain": [
       "{2, 3, 4}"
      ]
     },
     "execution_count": 50,
     "metadata": {},
     "output_type": "execute_result"
    }
   ],
   "source": [
    "a"
   ]
  },
  {
   "cell_type": "code",
   "execution_count": 51,
   "id": "a3ba5c32",
   "metadata": {},
   "outputs": [
    {
     "name": "stdout",
     "output_type": "stream",
     "text": [
      "{2, 3, 4}\n",
      "{2, 3, 4, 5}\n"
     ]
    }
   ],
   "source": [
    "# difference \n",
    "\n",
    "print(a)\n",
    "print(b)"
   ]
  },
  {
   "cell_type": "code",
   "execution_count": 54,
   "id": "8fe3f985",
   "metadata": {},
   "outputs": [
    {
     "data": {
      "text/plain": [
       "{1, 2, 3}"
      ]
     },
     "execution_count": 54,
     "metadata": {},
     "output_type": "execute_result"
    }
   ],
   "source": [
    "a = {1,2,3,4}\n",
    "b = {4,5,6,7}\n",
    "a-b     # elements that are not in another set "
   ]
  },
  {
   "cell_type": "code",
   "execution_count": 55,
   "id": "78baf9fa",
   "metadata": {},
   "outputs": [
    {
     "data": {
      "text/plain": [
       "{1, 2, 3}"
      ]
     },
     "execution_count": 55,
     "metadata": {},
     "output_type": "execute_result"
    }
   ],
   "source": [
    "a.difference(b)"
   ]
  },
  {
   "cell_type": "code",
   "execution_count": 57,
   "id": "b1bbf5fd",
   "metadata": {},
   "outputs": [
    {
     "data": {
      "text/plain": [
       "{1, 2, 3}"
      ]
     },
     "execution_count": 57,
     "metadata": {},
     "output_type": "execute_result"
    }
   ],
   "source": [
    "a.difference_update(b)\n",
    "a"
   ]
  },
  {
   "cell_type": "code",
   "execution_count": 59,
   "id": "f66fc5d0",
   "metadata": {},
   "outputs": [
    {
     "data": {
      "text/plain": [
       "{1, 2, 3}"
      ]
     },
     "execution_count": 59,
     "metadata": {},
     "output_type": "execute_result"
    }
   ],
   "source": [
    "a"
   ]
  },
  {
   "cell_type": "code",
   "execution_count": 60,
   "id": "c3db96a2",
   "metadata": {},
   "outputs": [
    {
     "data": {
      "text/plain": [
       "{4, 5, 6, 7}"
      ]
     },
     "execution_count": 60,
     "metadata": {},
     "output_type": "execute_result"
    }
   ],
   "source": [
    "b"
   ]
  },
  {
   "cell_type": "code",
   "execution_count": 58,
   "id": "e561995e",
   "metadata": {},
   "outputs": [
    {
     "data": {
      "text/plain": [
       "{1, 2, 3, 4, 5, 6, 7}"
      ]
     },
     "execution_count": 58,
     "metadata": {},
     "output_type": "execute_result"
    }
   ],
   "source": [
    "# symetric difference \n",
    "# set of element in A and B but not in both \n",
    "# exclusive\n",
    "\n",
    "a ^ b"
   ]
  },
  {
   "cell_type": "code",
   "execution_count": 61,
   "id": "0f11d871",
   "metadata": {},
   "outputs": [
    {
     "data": {
      "text/plain": [
       "{1, 2, 3, 4, 5, 6, 7}"
      ]
     },
     "execution_count": 61,
     "metadata": {},
     "output_type": "execute_result"
    }
   ],
   "source": [
    "a.symmetric_difference(b)"
   ]
  },
  {
   "cell_type": "code",
   "execution_count": 66,
   "id": "08afaef5",
   "metadata": {},
   "outputs": [
    {
     "data": {
      "text/plain": [
       "{1, 2, 3, 4, 5, 6, 7}"
      ]
     },
     "execution_count": 66,
     "metadata": {},
     "output_type": "execute_result"
    }
   ],
   "source": [
    "a.symmetric_difference_update(b)\n",
    "a     # a is update "
   ]
  },
  {
   "cell_type": "markdown",
   "id": "054b85e2",
   "metadata": {},
   "source": [
    "**Subset Superset Disjoint**"
   ]
  },
  {
   "cell_type": "code",
   "execution_count": 80,
   "id": "92d11496",
   "metadata": {},
   "outputs": [],
   "source": [
    "a = {1,2,3,4,5,6,7,8}\n",
    "b = {3,4,5,6,7}\n",
    "c = {10,40,50}"
   ]
  },
  {
   "cell_type": "code",
   "execution_count": 81,
   "id": "fc94caf2",
   "metadata": {},
   "outputs": [
    {
     "data": {
      "text/plain": [
       "False"
      ]
     },
     "execution_count": 81,
     "metadata": {},
     "output_type": "execute_result"
    }
   ],
   "source": [
    "a.issubset(b)  # check whether a is subset of b or not "
   ]
  },
  {
   "cell_type": "code",
   "execution_count": 82,
   "id": "3f436cf7",
   "metadata": {},
   "outputs": [
    {
     "data": {
      "text/plain": [
       "True"
      ]
     },
     "execution_count": 82,
     "metadata": {},
     "output_type": "execute_result"
    }
   ],
   "source": [
    "b.issubset(a)"
   ]
  },
  {
   "cell_type": "code",
   "execution_count": 83,
   "id": "ef8173bd",
   "metadata": {},
   "outputs": [
    {
     "data": {
      "text/plain": [
       "True"
      ]
     },
     "execution_count": 83,
     "metadata": {},
     "output_type": "execute_result"
    }
   ],
   "source": [
    "a.issuperset(b)"
   ]
  },
  {
   "cell_type": "code",
   "execution_count": 84,
   "id": "cf3c2b03",
   "metadata": {},
   "outputs": [
    {
     "data": {
      "text/plain": [
       "False"
      ]
     },
     "execution_count": 84,
     "metadata": {},
     "output_type": "execute_result"
    }
   ],
   "source": [
    "b.issuperset(a)"
   ]
  },
  {
   "cell_type": "code",
   "execution_count": 85,
   "id": "30558350",
   "metadata": {},
   "outputs": [
    {
     "data": {
      "text/plain": [
       "True"
      ]
     },
     "execution_count": 85,
     "metadata": {},
     "output_type": "execute_result"
    }
   ],
   "source": [
    "c.isdisjoint(b)"
   ]
  },
  {
   "cell_type": "code",
   "execution_count": 78,
   "id": "6408ad94",
   "metadata": {},
   "outputs": [
    {
     "data": {
      "text/plain": [
       "False"
      ]
     },
     "execution_count": 78,
     "metadata": {},
     "output_type": "execute_result"
    }
   ],
   "source": [
    "b.isdisjoint(a)"
   ]
  },
  {
   "cell_type": "markdown",
   "id": "50c302b4",
   "metadata": {},
   "source": [
    "**Sum, max ,min ,len, enumerate, sorted**"
   ]
  },
  {
   "cell_type": "code",
   "execution_count": 86,
   "id": "3cb51b16",
   "metadata": {},
   "outputs": [
    {
     "data": {
      "text/plain": [
       "36"
      ]
     },
     "execution_count": 86,
     "metadata": {},
     "output_type": "execute_result"
    }
   ],
   "source": [
    "sum(a) # sum of all element in set "
   ]
  },
  {
   "cell_type": "code",
   "execution_count": 87,
   "id": "76f96353",
   "metadata": {},
   "outputs": [
    {
     "data": {
      "text/plain": [
       "1"
      ]
     },
     "execution_count": 87,
     "metadata": {},
     "output_type": "execute_result"
    }
   ],
   "source": [
    "min(a) # min of set "
   ]
  },
  {
   "cell_type": "code",
   "execution_count": 88,
   "id": "990f2295",
   "metadata": {},
   "outputs": [
    {
     "data": {
      "text/plain": [
       "8"
      ]
     },
     "execution_count": 88,
     "metadata": {},
     "output_type": "execute_result"
    }
   ],
   "source": [
    "max(a) # max of set "
   ]
  },
  {
   "cell_type": "code",
   "execution_count": 89,
   "id": "2ec6f75b",
   "metadata": {},
   "outputs": [
    {
     "data": {
      "text/plain": [
       "7"
      ]
     },
     "execution_count": 89,
     "metadata": {},
     "output_type": "execute_result"
    }
   ],
   "source": [
    "len(A)"
   ]
  },
  {
   "cell_type": "code",
   "execution_count": 92,
   "id": "787b4eef",
   "metadata": {},
   "outputs": [
    {
     "data": {
      "text/plain": [
       "[(0, 1), (1, 2), (2, 3), (3, 4), (4, 5), (5, 6), (6, 7), (7, 8)]"
      ]
     },
     "execution_count": 92,
     "metadata": {},
     "output_type": "execute_result"
    }
   ],
   "source": [
    "list(enumerate(a))"
   ]
  },
  {
   "cell_type": "code",
   "execution_count": 94,
   "id": "9b0c0cc1",
   "metadata": {},
   "outputs": [
    {
     "data": {
      "text/plain": [
       "[1, 2, 3, 4, 5, 6, 7]"
      ]
     },
     "execution_count": 94,
     "metadata": {},
     "output_type": "execute_result"
    }
   ],
   "source": [
    "q = sorted(A)\n",
    "q"
   ]
  },
  {
   "cell_type": "code",
   "execution_count": 95,
   "id": "dd3e98b1",
   "metadata": {},
   "outputs": [
    {
     "data": {
      "text/plain": [
       "{1, 2, 3, 4, 5, 6, 7, 8}"
      ]
     },
     "execution_count": 95,
     "metadata": {},
     "output_type": "execute_result"
    }
   ],
   "source": [
    "a"
   ]
  },
  {
   "cell_type": "code",
   "execution_count": 97,
   "id": "4b7edf57",
   "metadata": {},
   "outputs": [
    {
     "data": {
      "text/plain": [
       "[8, 7, 6, 5, 4, 3, 2, 1]"
      ]
     },
     "execution_count": 97,
     "metadata": {},
     "output_type": "execute_result"
    }
   ],
   "source": [
    "v = sorted(a, reverse = True)\n",
    "v"
   ]
  },
  {
   "cell_type": "markdown",
   "id": "ba29efe8",
   "metadata": {},
   "source": [
    ">## Dictionary\n",
    "\n",
    "- Dictionary is a mutable data type in Python.\n",
    "- A python dictionary is a collection of key and value pairs separated by a colon (:) & enclosed in curly braces {}.\n",
    "- Keys must be unique in a dictionary, duplicate values are allowe"
   ]
  },
  {
   "cell_type": "code",
   "execution_count": 98,
   "id": "d7e0c282",
   "metadata": {},
   "outputs": [
    {
     "data": {
      "text/plain": [
       "{}"
      ]
     },
     "execution_count": 98,
     "metadata": {},
     "output_type": "execute_result"
    }
   ],
   "source": [
    "dict1 = dict()   #empty dictionary\n",
    "dict1"
   ]
  },
  {
   "cell_type": "code",
   "execution_count": 99,
   "id": "ae589d49",
   "metadata": {},
   "outputs": [
    {
     "data": {
      "text/plain": [
       "{1: 'one', 2: 'two', 3: 'three'}"
      ]
     },
     "execution_count": 99,
     "metadata": {},
     "output_type": "execute_result"
    }
   ],
   "source": [
    "mydict = {1:'one' , 2:'two' , 3:'three'} # dictionary with integer keys\n",
    "mydict\n",
    "# mydict = {key: value}"
   ]
  },
  {
   "cell_type": "code",
   "execution_count": 100,
   "id": "dcb9ce5b",
   "metadata": {},
   "outputs": [
    {
     "data": {
      "text/plain": [
       "{'a': 'one', 'b': 'two', 'c': 'three'}"
      ]
     },
     "execution_count": 100,
     "metadata": {},
     "output_type": "execute_result"
    }
   ],
   "source": [
    "mydict = {'a':'one' , 'b':'two' , 'c':'three'} \n",
    "mydict\n"
   ]
  },
  {
   "cell_type": "code",
   "execution_count": 101,
   "id": "53a41dfc",
   "metadata": {},
   "outputs": [
    {
     "data": {
      "text/plain": [
       "dict_keys(['a', 'b', 'c'])"
      ]
     },
     "execution_count": 101,
     "metadata": {},
     "output_type": "execute_result"
    }
   ],
   "source": [
    "mydict.keys()   # returs all keys "
   ]
  },
  {
   "cell_type": "code",
   "execution_count": 102,
   "id": "a07abe49",
   "metadata": {},
   "outputs": [
    {
     "data": {
      "text/plain": [
       "dict_values(['one', 'two', 'three'])"
      ]
     },
     "execution_count": 102,
     "metadata": {},
     "output_type": "execute_result"
    }
   ],
   "source": [
    "mydict.values()    # returns all values"
   ]
  },
  {
   "cell_type": "code",
   "execution_count": 103,
   "id": "e1f61fc5",
   "metadata": {},
   "outputs": [
    {
     "data": {
      "text/plain": [
       "dict_items([('a', 'one'), ('b', 'two'), ('c', 'three')])"
      ]
     },
     "execution_count": 103,
     "metadata": {},
     "output_type": "execute_result"
    }
   ],
   "source": [
    "mydict.items()"
   ]
  },
  {
   "cell_type": "code",
   "execution_count": 106,
   "id": "d361ac67",
   "metadata": {},
   "outputs": [
    {
     "data": {
      "text/plain": [
       "{1: 'one', 2: 'two', 'A': {'Name': 'asif', 'Age': 20}, 'B': ('Bat', 'cat')}"
      ]
     },
     "execution_count": 106,
     "metadata": {},
     "output_type": "execute_result"
    }
   ],
   "source": [
    "data = {1:'one' , 2:'two' , 'A':{'Name':'asif' , 'Age' :20}, 'B':('Bat' , 'cat')}\n",
    "data\n",
    "# nested dictionary                                                                "
   ]
  },
  {
   "cell_type": "code",
   "execution_count": 107,
   "id": "185965ff",
   "metadata": {},
   "outputs": [
    {
     "data": {
      "text/plain": [
       "{'c': None, 'a': None, 'd': None, 'b': None}"
      ]
     },
     "execution_count": 107,
     "metadata": {},
     "output_type": "execute_result"
    }
   ],
   "source": [
    "keys = {'a' , 'b' , 'c' , 'd'}\n",
    "mydict3 = dict.fromkeys(keys) # Create a dictionary from a sequence of keys\n",
    "mydict3\n"
   ]
  },
  {
   "cell_type": "code",
   "execution_count": 108,
   "id": "bc04a0b5",
   "metadata": {},
   "outputs": [
    {
     "data": {
      "text/plain": [
       "{'c': 10, 'a': 10, 'd': 10, 'b': 10}"
      ]
     },
     "execution_count": 108,
     "metadata": {},
     "output_type": "execute_result"
    }
   ],
   "source": [
    "keys = {'a' , 'b' , 'c' , 'd'}\n",
    "value = 10\n",
    "mydict3 = dict.fromkeys(keys , value) # Create a dictionary from a sequence of\n",
    "mydict3"
   ]
  },
  {
   "cell_type": "code",
   "execution_count": 109,
   "id": "e28779d1",
   "metadata": {},
   "outputs": [
    {
     "data": {
      "text/plain": [
       "{'c': [10, 20, 30], 'a': [10, 20, 30], 'd': [10, 20, 30], 'b': [10, 20, 30]}"
      ]
     },
     "execution_count": 109,
     "metadata": {},
     "output_type": "execute_result"
    }
   ],
   "source": [
    "keys = {'a' , 'b' , 'c' , 'd'}\n",
    "value = [10,20,30]\n",
    "mydict3 = dict.fromkeys(keys , value) # Create a dictionary from a sequence of\n",
    "mydict3"
   ]
  },
  {
   "cell_type": "code",
   "execution_count": 111,
   "id": "0d77f542",
   "metadata": {},
   "outputs": [
    {
     "data": {
      "text/plain": [
       "{'c': [10, 20, 30, 33],\n",
       " 'a': [10, 20, 30, 33],\n",
       " 'd': [10, 20, 30, 33],\n",
       " 'b': [10, 20, 30, 33]}"
      ]
     },
     "execution_count": 111,
     "metadata": {},
     "output_type": "execute_result"
    }
   ],
   "source": [
    "value.append(33)\n",
    "mydict3"
   ]
  },
  {
   "cell_type": "code",
   "execution_count": 112,
   "id": "da29a618",
   "metadata": {},
   "outputs": [
    {
     "data": {
      "text/plain": [
       "{'a': 'one', 'b': 'two', 'c': 'three'}"
      ]
     },
     "execution_count": 112,
     "metadata": {},
     "output_type": "execute_result"
    }
   ],
   "source": [
    "# accessing items \n",
    "\n",
    "mydict"
   ]
  },
  {
   "cell_type": "code",
   "execution_count": 115,
   "id": "d67614fa",
   "metadata": {},
   "outputs": [
    {
     "data": {
      "text/plain": [
       "'one'"
      ]
     },
     "execution_count": 115,
     "metadata": {},
     "output_type": "execute_result"
    }
   ],
   "source": [
    "mydict['a']   # access item using key "
   ]
  },
  {
   "cell_type": "code",
   "execution_count": 117,
   "id": "785b18b9",
   "metadata": {},
   "outputs": [
    {
     "data": {
      "text/plain": [
       "'one'"
      ]
     },
     "execution_count": 117,
     "metadata": {},
     "output_type": "execute_result"
    }
   ],
   "source": [
    "mydict.get('a')  # acces item using method"
   ]
  },
  {
   "cell_type": "code",
   "execution_count": 118,
   "id": "8582ca7e",
   "metadata": {},
   "outputs": [
    {
     "data": {
      "text/plain": [
       "{'Name': 'Roshni', 'id': 2001, 'add': 'Maharashtra'}"
      ]
     },
     "execution_count": 118,
     "metadata": {},
     "output_type": "execute_result"
    }
   ],
   "source": [
    "# add item \n",
    "bio = {'Name':'Roshni','id':2001, 'add': 'Maharashtra'}\n",
    "bio"
   ]
  },
  {
   "cell_type": "code",
   "execution_count": 119,
   "id": "71b5e8e7",
   "metadata": {},
   "outputs": [
    {
     "data": {
      "text/plain": [
       "{'Name': 'Roshni', 'id': 1995, 'add': 'Maharashtra'}"
      ]
     },
     "execution_count": 119,
     "metadata": {},
     "output_type": "execute_result"
    }
   ],
   "source": [
    "bio['id'] = 1995   # changing item \n",
    "bio"
   ]
  },
  {
   "cell_type": "code",
   "execution_count": 122,
   "id": "10a0df04",
   "metadata": {},
   "outputs": [
    {
     "data": {
      "text/plain": [
       "{'Name': 'Roshni', 'id': 1995, 'add': 'Maharashtra'}"
      ]
     },
     "execution_count": 122,
     "metadata": {},
     "output_type": "execute_result"
    }
   ],
   "source": [
    "bio.update(dict1)\n",
    "bio"
   ]
  },
  {
   "cell_type": "code",
   "execution_count": 128,
   "id": "46701d9c",
   "metadata": {},
   "outputs": [],
   "source": [
    "bio['name'] = 'Shubh'  # shubh is dded "
   ]
  },
  {
   "cell_type": "code",
   "execution_count": 124,
   "id": "51f23087",
   "metadata": {},
   "outputs": [
    {
     "data": {
      "text/plain": [
       "{'Name': 'Roshni', 'id': 1995, 'add': 'Maharashtra', 'name': 'Shubh'}"
      ]
     },
     "execution_count": 124,
     "metadata": {},
     "output_type": "execute_result"
    }
   ],
   "source": [
    "bio"
   ]
  },
  {
   "cell_type": "code",
   "execution_count": 126,
   "id": "ffb6deba",
   "metadata": {},
   "outputs": [
    {
     "data": {
      "text/plain": [
       "1995"
      ]
     },
     "execution_count": 126,
     "metadata": {},
     "output_type": "execute_result"
    }
   ],
   "source": [
    "bio.pop('id') # removing item in ditionary"
   ]
  },
  {
   "cell_type": "code",
   "execution_count": 127,
   "id": "02488b88",
   "metadata": {},
   "outputs": [
    {
     "data": {
      "text/plain": [
       "{'Name': 'Roshni', 'add': 'Maharashtra', 'name': 'Shubh'}"
      ]
     },
     "execution_count": 127,
     "metadata": {},
     "output_type": "execute_result"
    }
   ],
   "source": [
    "bio  # id is popped "
   ]
  },
  {
   "cell_type": "code",
   "execution_count": 129,
   "id": "b6f6ea46",
   "metadata": {},
   "outputs": [
    {
     "data": {
      "text/plain": [
       "('name', 'Shubh')"
      ]
     },
     "execution_count": 129,
     "metadata": {},
     "output_type": "execute_result"
    }
   ],
   "source": [
    "bio.popitem()  # a random item is removes"
   ]
  },
  {
   "cell_type": "code",
   "execution_count": 130,
   "id": "9902db81",
   "metadata": {},
   "outputs": [
    {
     "data": {
      "text/plain": [
       "{'Name': 'Roshni', 'add': 'Maharashtra'}"
      ]
     },
     "execution_count": 130,
     "metadata": {},
     "output_type": "execute_result"
    }
   ],
   "source": [
    "bio"
   ]
  },
  {
   "cell_type": "code",
   "execution_count": 131,
   "id": "46d1b073",
   "metadata": {},
   "outputs": [],
   "source": [
    "del bio # deleting whole dictionary"
   ]
  },
  {
   "cell_type": "code",
   "execution_count": 132,
   "id": "d0bc49b1",
   "metadata": {},
   "outputs": [
    {
     "ename": "NameError",
     "evalue": "name 'bio' is not defined",
     "output_type": "error",
     "traceback": [
      "\u001b[1;31m---------------------------------------------------------------------------\u001b[0m",
      "\u001b[1;31mNameError\u001b[0m                                 Traceback (most recent call last)",
      "Cell \u001b[1;32mIn[132], line 1\u001b[0m\n\u001b[1;32m----> 1\u001b[0m \u001b[43mbio\u001b[49m\n",
      "\u001b[1;31mNameError\u001b[0m: name 'bio' is not defined"
     ]
    }
   ],
   "source": [
    "bio"
   ]
  },
  {
   "cell_type": "code",
   "execution_count": 133,
   "id": "ecf74a16",
   "metadata": {},
   "outputs": [
    {
     "data": {
      "text/plain": [
       "{'a': 'one', 'b': 'two', 'c': 'three'}"
      ]
     },
     "execution_count": 133,
     "metadata": {},
     "output_type": "execute_result"
    }
   ],
   "source": [
    "mydict = {'a':'one' , 'b':'two' , 'c':'three'} \n",
    "mydict"
   ]
  },
  {
   "cell_type": "code",
   "execution_count": 134,
   "id": "56bb2964",
   "metadata": {},
   "outputs": [],
   "source": [
    "disco = mydict.copy()  # copy dictionary"
   ]
  },
  {
   "cell_type": "code",
   "execution_count": 135,
   "id": "55a9d0bd",
   "metadata": {},
   "outputs": [
    {
     "data": {
      "text/plain": [
       "{'a': 'one', 'b': 'two', 'c': 'three'}"
      ]
     },
     "execution_count": 135,
     "metadata": {},
     "output_type": "execute_result"
    }
   ],
   "source": [
    "disco"
   ]
  },
  {
   "cell_type": "code",
   "execution_count": 136,
   "id": "6dbaad87",
   "metadata": {},
   "outputs": [
    {
     "data": {
      "text/plain": [
       "{'a': 'one', 'b': 'two', 'c': 'three'}"
      ]
     },
     "execution_count": 136,
     "metadata": {},
     "output_type": "execute_result"
    }
   ],
   "source": [
    "mydict"
   ]
  },
  {
   "cell_type": "code",
   "execution_count": 137,
   "id": "5d9bf239",
   "metadata": {},
   "outputs": [
    {
     "data": {
      "text/plain": [
       "(2009402563008, 2009402152128)"
      ]
     },
     "execution_count": 137,
     "metadata": {},
     "output_type": "execute_result"
    }
   ],
   "source": [
    "id(mydict), id(disco)"
   ]
  },
  {
   "cell_type": "code",
   "execution_count": 138,
   "id": "aafd1922",
   "metadata": {},
   "outputs": [
    {
     "data": {
      "text/plain": [
       "{'a': 'one', 'b': 'two', 'c': 'three'}"
      ]
     },
     "execution_count": 138,
     "metadata": {},
     "output_type": "execute_result"
    }
   ],
   "source": [
    "# dictionary membership \n",
    "\n",
    "disco "
   ]
  },
  {
   "cell_type": "code",
   "execution_count": 139,
   "id": "385c6372",
   "metadata": {},
   "outputs": [
    {
     "data": {
      "text/plain": [
       "True"
      ]
     },
     "execution_count": 139,
     "metadata": {},
     "output_type": "execute_result"
    }
   ],
   "source": [
    "'a' in disco  # check if a key os in dictionary or not"
   ]
  },
  {
   "cell_type": "code",
   "execution_count": 140,
   "id": "aae14012",
   "metadata": {},
   "outputs": [
    {
     "data": {
      "text/plain": [
       "False"
      ]
     },
     "execution_count": 140,
     "metadata": {},
     "output_type": "execute_result"
    }
   ],
   "source": [
    "'id' in disco"
   ]
  },
  {
   "cell_type": "code",
   "execution_count": 141,
   "id": "3e5315ba",
   "metadata": {},
   "outputs": [
    {
     "data": {
      "text/plain": [
       "False"
      ]
     },
     "execution_count": 141,
     "metadata": {},
     "output_type": "execute_result"
    }
   ],
   "source": [
    "'two' in disco    # membership test can only done for keys "
   ]
  },
  {
   "cell_type": "markdown",
   "id": "2843d3de",
   "metadata": {},
   "source": [
    "### All / Any\n",
    "- The all() method returns:\n",
    "\n",
    ">True - If all all keys of the dictionary are true\n",
    "\n",
    ">False - If any key of the dictionary is false\n",
    "\n",
    "The **any()** function returns True if any key of the dictionary is True. If not, any() returns False"
   ]
  },
  {
   "cell_type": "code",
   "execution_count": 142,
   "id": "65899427",
   "metadata": {},
   "outputs": [
    {
     "data": {
      "text/plain": [
       "{'a': 'one', 'b': 'two', 'c': 'three'}"
      ]
     },
     "execution_count": 142,
     "metadata": {},
     "output_type": "execute_result"
    }
   ],
   "source": [
    "disco"
   ]
  },
  {
   "cell_type": "code",
   "execution_count": 143,
   "id": "064bb453",
   "metadata": {},
   "outputs": [
    {
     "data": {
      "text/plain": [
       "True"
      ]
     },
     "execution_count": 143,
     "metadata": {},
     "output_type": "execute_result"
    }
   ],
   "source": [
    "all(disco)"
   ]
  },
  {
   "cell_type": "code",
   "execution_count": 144,
   "id": "03da5d44",
   "metadata": {},
   "outputs": [
    {
     "data": {
      "text/plain": [
       "True"
      ]
     },
     "execution_count": 144,
     "metadata": {},
     "output_type": "execute_result"
    }
   ],
   "source": [
    "any(disco)"
   ]
  },
  {
   "cell_type": "code",
   "execution_count": null,
   "id": "22593288",
   "metadata": {},
   "outputs": [],
   "source": []
  }
 ],
 "metadata": {
  "kernelspec": {
   "display_name": "Python 3 (ipykernel)",
   "language": "python",
   "name": "python3"
  },
  "language_info": {
   "codemirror_mode": {
    "name": "ipython",
    "version": 3
   },
   "file_extension": ".py",
   "mimetype": "text/x-python",
   "name": "python",
   "nbconvert_exporter": "python",
   "pygments_lexer": "ipython3",
   "version": "3.10.9"
  }
 },
 "nbformat": 4,
 "nbformat_minor": 5
}
