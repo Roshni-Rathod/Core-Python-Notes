{
 "cells": [
  {
   "cell_type": "markdown",
   "id": "99572f02",
   "metadata": {},
   "source": [
    "## List  interview Questions"
   ]
  },
  {
   "cell_type": "markdown",
   "id": "d9901c11",
   "metadata": {},
   "source": [
    "### Create a list containing the first five positive integers"
   ]
  },
  {
   "cell_type": "code",
   "execution_count": 1,
   "id": "e321201e",
   "metadata": {},
   "outputs": [
    {
     "name": "stdout",
     "output_type": "stream",
     "text": [
      "[1, 2, 3, 4, 5]\n"
     ]
    }
   ],
   "source": [
    "l1 = [1, 2, 3, 4, 5]\n",
    "print(l1)"
   ]
  },
  {
   "cell_type": "markdown",
   "id": "5e1add11",
   "metadata": {},
   "source": [
    "### Access the third element in list "
   ]
  },
  {
   "cell_type": "code",
   "execution_count": 2,
   "id": "d8c4e22f",
   "metadata": {},
   "outputs": [
    {
     "data": {
      "text/plain": [
       "30"
      ]
     },
     "execution_count": 2,
     "metadata": {},
     "output_type": "execute_result"
    }
   ],
   "source": [
    "lst = [10,20,30,40,50]\n",
    "lst[2]"
   ]
  },
  {
   "cell_type": "markdown",
   "id": "c84a2bd4",
   "metadata": {},
   "source": [
    "### Retrive the last element fromm the list "
   ]
  },
  {
   "cell_type": "code",
   "execution_count": 4,
   "id": "7b9f01c7",
   "metadata": {},
   "outputs": [
    {
     "data": {
      "text/plain": [
       "'d'"
      ]
     },
     "execution_count": 4,
     "metadata": {},
     "output_type": "execute_result"
    }
   ],
   "source": [
    "lst = ['a', 'b', 'c', 'd']\n",
    "lst[-1]"
   ]
  },
  {
   "cell_type": "markdown",
   "id": "89f16787",
   "metadata": {},
   "source": [
    "### Create a list with the elements 1,2,3 then add the number 4 to the end of the list "
   ]
  },
  {
   "cell_type": "code",
   "execution_count": 7,
   "id": "bf4ae143",
   "metadata": {},
   "outputs": [
    {
     "name": "stdout",
     "output_type": "stream",
     "text": [
      "[1, 2, 3, 4]\n"
     ]
    }
   ],
   "source": [
    "l2 = [1,2,3]\n",
    "l2.append(4)\n",
    "print(l2)"
   ]
  },
  {
   "cell_type": "markdown",
   "id": "4957883b",
   "metadata": {},
   "source": [
    "### Insert he element 100 at the second positin in the list \n"
   ]
  },
  {
   "cell_type": "code",
   "execution_count": 9,
   "id": "9df1e05d",
   "metadata": {},
   "outputs": [
    {
     "name": "stdout",
     "output_type": "stream",
     "text": [
      "[10, 100, 20, 30, 40]\n"
     ]
    }
   ],
   "source": [
    "l3 =[10,20,30,40]\n",
    "l3.insert(1,100)\n",
    "print(l3)\n"
   ]
  },
  {
   "cell_type": "markdown",
   "id": "9d861eef",
   "metadata": {},
   "source": [
    "### Remove the first occurance of the ekement 3 from a list "
   ]
  },
  {
   "cell_type": "code",
   "execution_count": 13,
   "id": "521c547f",
   "metadata": {},
   "outputs": [
    {
     "name": "stdout",
     "output_type": "stream",
     "text": [
      "[1, 2, 4, 3, 5]\n"
     ]
    }
   ],
   "source": [
    "l4 = [1,2,3,4,3,5]\n",
    "l4.remove(3)\n",
    "print(l4)"
   ]
  },
  {
   "cell_type": "markdown",
   "id": "7c5048e7",
   "metadata": {},
   "source": [
    "### Remove the element at index 2 from a list "
   ]
  },
  {
   "cell_type": "code",
   "execution_count": 16,
   "id": "8434fd77",
   "metadata": {},
   "outputs": [
    {
     "name": "stdout",
     "output_type": "stream",
     "text": [
      "['a', 'b', 'd']\n"
     ]
    }
   ],
   "source": [
    "lst = ['a','b','c','d']\n",
    "lst.pop(2)\n",
    "print(lst)"
   ]
  },
  {
   "cell_type": "markdown",
   "id": "d5495a0e",
   "metadata": {},
   "source": [
    "### Delet the firat theree elements from the list "
   ]
  },
  {
   "cell_type": "code",
   "execution_count": 20,
   "id": "a2baf676",
   "metadata": {},
   "outputs": [
    {
     "name": "stdout",
     "output_type": "stream",
     "text": [
      "[40, 50]\n"
     ]
    }
   ],
   "source": [
    "lst =[10,20,30,40,50]\n",
    "del lst[:3]\n",
    "print(lst)"
   ]
  },
  {
   "cell_type": "markdown",
   "id": "8cd21da3",
   "metadata": {},
   "source": [
    "### fint the index of the element 40 in a list lst "
   ]
  },
  {
   "cell_type": "code",
   "execution_count": 23,
   "id": "efb3bfac",
   "metadata": {},
   "outputs": [
    {
     "data": {
      "text/plain": [
       "3"
      ]
     },
     "execution_count": 23,
     "metadata": {},
     "output_type": "execute_result"
    }
   ],
   "source": [
    "lst = [10,20,30,40,50]\n",
    "lst.index(40)"
   ]
  },
  {
   "cell_type": "markdown",
   "id": "c8d07fb5",
   "metadata": {},
   "source": [
    "### Count how many times the element appears in the list "
   ]
  },
  {
   "cell_type": "code",
   "execution_count": 25,
   "id": "040aab8c",
   "metadata": {},
   "outputs": [
    {
     "data": {
      "text/plain": [
       "3"
      ]
     },
     "execution_count": 25,
     "metadata": {},
     "output_type": "execute_result"
    }
   ],
   "source": [
    "l5= [5,10,15,5,20,5]\n",
    "l5.count(5)"
   ]
  },
  {
   "cell_type": "markdown",
   "id": "4c23d96d",
   "metadata": {},
   "source": [
    "### Reverse the order of element in list "
   ]
  },
  {
   "cell_type": "code",
   "execution_count": 30,
   "id": "39768350",
   "metadata": {},
   "outputs": [
    {
     "data": {
      "text/plain": [
       "[5, 4, 3, 2, 1]"
      ]
     },
     "execution_count": 30,
     "metadata": {},
     "output_type": "execute_result"
    }
   ],
   "source": [
    "l6 = [1,2,3,4,5]\n",
    "l6.reverse()\n",
    "l6"
   ]
  },
  {
   "cell_type": "markdown",
   "id": "4438e290",
   "metadata": {},
   "source": [
    "### Sort a list in asc order"
   ]
  },
  {
   "cell_type": "code",
   "execution_count": 33,
   "id": "b92e3f88",
   "metadata": {},
   "outputs": [
    {
     "data": {
      "text/plain": [
       "[10, 20, 30, 40, 50]"
      ]
     },
     "execution_count": 33,
     "metadata": {},
     "output_type": "execute_result"
    }
   ],
   "source": [
    "lst = [40,10,30,20,50]\n",
    "lst.sort()\n",
    "lst"
   ]
  },
  {
   "cell_type": "markdown",
   "id": "78e7d103",
   "metadata": {},
   "source": [
    "### Sort a list in desc order"
   ]
  },
  {
   "cell_type": "code",
   "execution_count": null,
   "id": "38cb877d",
   "metadata": {},
   "outputs": [],
   "source": [
    "lst = [40,10,30,20,50]\n",
    "\n"
   ]
  },
  {
   "cell_type": "markdown",
   "id": "a5052d65",
   "metadata": {},
   "source": [
    "### Create a new list by slicind the forst three elements from lst "
   ]
  },
  {
   "cell_type": "code",
   "execution_count": 41,
   "id": "5d44a127",
   "metadata": {},
   "outputs": [
    {
     "name": "stdout",
     "output_type": "stream",
     "text": [
      "[100, 200, 300]\n"
     ]
    }
   ],
   "source": [
    "lst = [100, 200, 300, 400, 500]\n",
    "l7 = lst[:3]\n",
    "print(l7)"
   ]
  },
  {
   "cell_type": "markdown",
   "id": "f0f946a3",
   "metadata": {},
   "source": [
    "### Create a list containing ..... athen extend this list with ..."
   ]
  },
  {
   "cell_type": "code",
   "execution_count": 47,
   "id": "2f3f6154",
   "metadata": {},
   "outputs": [
    {
     "name": "stdout",
     "output_type": "stream",
     "text": [
      "['apple', 'banana', 'cheery', 'date', 'fig']\n"
     ]
    }
   ],
   "source": [
    "l = ['apple', 'banana', 'cheery']\n",
    "l.extend(['date', 'fig'])\n",
    "print(l)"
   ]
  },
  {
   "cell_type": "markdown",
   "id": "0486824a",
   "metadata": {},
   "source": [
    "### Create a copy of list and store it in new list "
   ]
  },
  {
   "cell_type": "code",
   "execution_count": 50,
   "id": "1f494091",
   "metadata": {},
   "outputs": [
    {
     "name": "stdout",
     "output_type": "stream",
     "text": [
      "[1, 2, 3, 4, 5]\n"
     ]
    }
   ],
   "source": [
    "l = [1,2,3,4,5]\n",
    "new_lst = l.copy()\n",
    "print(new_lst)"
   ]
  },
  {
   "cell_type": "markdown",
   "id": "740827c3",
   "metadata": {},
   "source": [
    "### Check if the element is present in list "
   ]
  },
  {
   "cell_type": "code",
   "execution_count": 52,
   "id": "d541b42a",
   "metadata": {},
   "outputs": [
    {
     "data": {
      "text/plain": [
       "False"
      ]
     },
     "execution_count": 52,
     "metadata": {},
     "output_type": "execute_result"
    }
   ],
   "source": [
    "l = [10,20, 30 ,40]\n",
    "25 in l "
   ]
  },
  {
   "cell_type": "markdown",
   "id": "dc3581e2",
   "metadata": {},
   "source": [
    "### Clear al the elements from list "
   ]
  },
  {
   "cell_type": "code",
   "execution_count": 55,
   "id": "e0985613",
   "metadata": {},
   "outputs": [
    {
     "data": {
      "text/plain": [
       "[]"
      ]
     },
     "execution_count": 55,
     "metadata": {},
     "output_type": "execute_result"
    }
   ],
   "source": [
    "l = [10, 20, 30, 40]\n",
    "l.clear()\n",
    "l"
   ]
  },
  {
   "cell_type": "markdown",
   "id": "88e4a020",
   "metadata": {},
   "source": [
    "### concatenate two list  to create new list "
   ]
  },
  {
   "cell_type": "code",
   "execution_count": 58,
   "id": "4c3633eb",
   "metadata": {},
   "outputs": [
    {
     "name": "stdout",
     "output_type": "stream",
     "text": [
      "[1, 2, 3, 4, 5, 6]\n"
     ]
    }
   ],
   "source": [
    "l1 = [1,2,3]\n",
    "l2 = [4,5,6]\n",
    "l3 = l1 + l2\n",
    "print(l3)"
   ]
  },
  {
   "cell_type": "markdown",
   "id": "e08e3844",
   "metadata": {},
   "source": [
    "### Repeat the element in a list lst three times "
   ]
  },
  {
   "cell_type": "code",
   "execution_count": 61,
   "id": "7b6ca3b5",
   "metadata": {},
   "outputs": [
    {
     "name": "stdout",
     "output_type": "stream",
     "text": [
      "[7, 8, 7, 8, 7, 8]\n"
     ]
    }
   ],
   "source": [
    "lst = [7,8]\n",
    "lst = lst * 3\n",
    "print(lst)"
   ]
  },
  {
   "cell_type": "markdown",
   "id": "84c3d534",
   "metadata": {},
   "source": [
    "### Remove all elements from a list using slicing "
   ]
  },
  {
   "cell_type": "code",
   "execution_count": 65,
   "id": "01784abc",
   "metadata": {},
   "outputs": [
    {
     "name": "stdout",
     "output_type": "stream",
     "text": [
      "[]\n"
     ]
    }
   ],
   "source": [
    "lst = [1,2,3,4]\n",
    "lst[:] = []\n",
    "print(lst)"
   ]
  },
  {
   "cell_type": "markdown",
   "id": "ee8c12c3",
   "metadata": {},
   "source": [
    "### Swap the first ans last element in a list "
   ]
  },
  {
   "cell_type": "code",
   "execution_count": 66,
   "id": "ae66fdcc",
   "metadata": {},
   "outputs": [
    {
     "name": "stdout",
     "output_type": "stream",
     "text": [
      "[40, 20, 30, 10]\n"
     ]
    }
   ],
   "source": [
    "lst = [10 ,20, 30 ,40 ]\n",
    "lst[0], lst[-1] = lst[-1], lst[0]\n",
    "print(lst)"
   ]
  },
  {
   "cell_type": "markdown",
   "id": "891085be",
   "metadata": {},
   "source": [
    "### Convert a string into a list pf char"
   ]
  },
  {
   "cell_type": "code",
   "execution_count": 68,
   "id": "61edc456",
   "metadata": {},
   "outputs": [
    {
     "data": {
      "text/plain": [
       "['H', 'e', 'l', 'l', 'o']"
      ]
     },
     "execution_count": 68,
     "metadata": {},
     "output_type": "execute_result"
    }
   ],
   "source": [
    "string = 'Hello'\n",
    "list(string)"
   ]
  },
  {
   "cell_type": "markdown",
   "id": "1abc98f1",
   "metadata": {},
   "source": [
    "### find the length of list "
   ]
  },
  {
   "cell_type": "code",
   "execution_count": 70,
   "id": "8be977ab",
   "metadata": {},
   "outputs": [
    {
     "data": {
      "text/plain": [
       "4"
      ]
     },
     "execution_count": 70,
     "metadata": {},
     "output_type": "execute_result"
    }
   ],
   "source": [
    "lst = ['a', 'b', 'c', 'd']\n",
    "len(lst)"
   ]
  },
  {
   "cell_type": "markdown",
   "id": "07954800",
   "metadata": {},
   "source": [
    "### Extract middle 3 element form list "
   ]
  },
  {
   "cell_type": "code",
   "execution_count": 72,
   "id": "c060c662",
   "metadata": {},
   "outputs": [
    {
     "data": {
      "text/plain": [
       "[30, 40, 50]"
      ]
     },
     "execution_count": 72,
     "metadata": {},
     "output_type": "execute_result"
    }
   ],
   "source": [
    "lst = [10,20,30,40,50,60,70]\n",
    "lst[2:5]"
   ]
  },
  {
   "cell_type": "markdown",
   "id": "94ee9bdd",
   "metadata": {},
   "source": [
    "### Extract every 2ns element from list "
   ]
  },
  {
   "cell_type": "code",
   "execution_count": 76,
   "id": "4f12dc57",
   "metadata": {},
   "outputs": [
    {
     "data": {
      "text/plain": [
       "[10, 30, 50]"
      ]
     },
     "execution_count": 76,
     "metadata": {},
     "output_type": "execute_result"
    }
   ],
   "source": [
    "lst = [10,20,30,40,50,60]\n",
    "lst[::2]"
   ]
  },
  {
   "cell_type": "markdown",
   "id": "57af9bf7",
   "metadata": {},
   "source": [
    "### Create a list by repeating list twice and adding the another list at the end "
   ]
  },
  {
   "cell_type": "code",
   "execution_count": 78,
   "id": "a7643706",
   "metadata": {},
   "outputs": [
    {
     "name": "stdout",
     "output_type": "stream",
     "text": [
      "[1, 2, 3, 1, 2, 3, 1, 2, 3, 4, 5, 6]\n"
     ]
    }
   ],
   "source": [
    "l1 = [1,2,3]\n",
    "l2 =[4,5,6]\n",
    "l3 = (l1 *3) + l2\n",
    "print(l3)"
   ]
  },
  {
   "cell_type": "markdown",
   "id": "50ff81cd",
   "metadata": {},
   "source": [
    "### Create a list with numbers. Add the no 6 to the end of the list and then insert 0 at the beginning of the list then print the modified list  "
   ]
  },
  {
   "cell_type": "code",
   "execution_count": 82,
   "id": "f603ae4e",
   "metadata": {},
   "outputs": [
    {
     "name": "stdout",
     "output_type": "stream",
     "text": [
      "[1, 2, 3, 4, 5, 6]\n",
      "[0, 1, 2, 3, 4, 5, 6]\n"
     ]
    }
   ],
   "source": [
    "l = [1,2,3,4,5]\n",
    "l.append(6)\n",
    "print(l)\n",
    "l.insert(0,0)\n",
    "print(l)"
   ]
  },
  {
   "cell_type": "markdown",
   "id": "19338c14",
   "metadata": {},
   "source": [
    "### create list vit values . Remove the lasr element from the list and remove thefirst elemnet b specifyun=ign its index and print modified list  "
   ]
  },
  {
   "cell_type": "code",
   "execution_count": 99,
   "id": "05ebfec0",
   "metadata": {},
   "outputs": [
    {
     "name": "stdout",
     "output_type": "stream",
     "text": [
      "['a', 'b', 'c']\n",
      "['b', 'c']\n"
     ]
    }
   ],
   "source": [
    "l = ['a','b','c','d']\n",
    "l.pop(3)\n",
    "print(l)\n",
    "l.pop(0)\n",
    "print(l)\n"
   ]
  },
  {
   "cell_type": "markdown",
   "id": "dc305171",
   "metadata": {},
   "source": [
    "### Given a list lst = [5,3,1,4,2], sort the list in ascending order ans reverse the sorted list. print both sorted and reversed list "
   ]
  },
  {
   "cell_type": "code",
   "execution_count": 97,
   "id": "fdef7be8",
   "metadata": {},
   "outputs": [
    {
     "name": "stdout",
     "output_type": "stream",
     "text": [
      "[1, 2, 3, 4, 5]\n",
      "[5, 4, 3, 2, 1]\n"
     ]
    }
   ],
   "source": [
    "lst = [5,3,1,4,2]\n",
    "lst.sort()\n",
    "print(lst)\n",
    "lst.reverse()\n",
    "print(lst)"
   ]
  },
  {
   "cell_type": "code",
   "execution_count": null,
   "id": "86fffb6b",
   "metadata": {},
   "outputs": [],
   "source": []
  }
 ],
 "metadata": {
  "kernelspec": {
   "display_name": "Python 3 (ipykernel)",
   "language": "python",
   "name": "python3"
  },
  "language_info": {
   "codemirror_mode": {
    "name": "ipython",
    "version": 3
   },
   "file_extension": ".py",
   "mimetype": "text/x-python",
   "name": "python",
   "nbconvert_exporter": "python",
   "pygments_lexer": "ipython3",
   "version": "3.10.9"
  }
 },
 "nbformat": 4,
 "nbformat_minor": 5
}
