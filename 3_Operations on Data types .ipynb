{
 "cells": [
  {
   "cell_type": "markdown",
   "id": "8966bf64",
   "metadata": {},
   "source": [
    "# Operations on Sequence datatypes\n",
    "for string ,list and tuple"
   ]
  },
  {
   "cell_type": "markdown",
   "id": "e0e42d79",
   "metadata": {},
   "source": [
    "- Concatenation\n",
    "- Indexing\n",
    "- Repetation\n",
    "- Slicing"
   ]
  },
  {
   "cell_type": "markdown",
   "id": "f0359934",
   "metadata": {},
   "source": [
    "### Concatenation : joining two data "
   ]
  },
  {
   "cell_type": "code",
   "execution_count": 3,
   "id": "048f0b2d",
   "metadata": {},
   "outputs": [
    {
     "data": {
      "text/plain": [
       "'HelloIndia'"
      ]
     },
     "execution_count": 3,
     "metadata": {},
     "output_type": "execute_result"
    }
   ],
   "source": [
    "s1 = 'Hello'\n",
    "s2 = 'India'\n",
    "s3 = s1 + s2\n",
    "s3"
   ]
  },
  {
   "cell_type": "code",
   "execution_count": 4,
   "id": "859c73ab",
   "metadata": {},
   "outputs": [
    {
     "data": {
      "text/plain": [
       "'Hello India'"
      ]
     },
     "execution_count": 4,
     "metadata": {},
     "output_type": "execute_result"
    }
   ],
   "source": [
    "s1 = 'Hello'\n",
    "s2 = 'India'\n",
    "s3 = s1 + \" \" + s2\n",
    "s3"
   ]
  },
  {
   "cell_type": "markdown",
   "id": "efcbce60",
   "metadata": {},
   "source": [
    "### Repetation "
   ]
  },
  {
   "cell_type": "code",
   "execution_count": 6,
   "id": "7792ab54",
   "metadata": {},
   "outputs": [
    {
     "data": {
      "text/plain": [
       "'HelloHello'"
      ]
     },
     "execution_count": 6,
     "metadata": {},
     "output_type": "execute_result"
    }
   ],
   "source": [
    "s4 = s1 * 2\n",
    "s4"
   ]
  },
  {
   "cell_type": "code",
   "execution_count": 7,
   "id": "e940fbc2",
   "metadata": {},
   "outputs": [
    {
     "data": {
      "text/plain": [
       "'HelloHelloHelloHelloHello'"
      ]
     },
     "execution_count": 7,
     "metadata": {},
     "output_type": "execute_result"
    }
   ],
   "source": [
    "s4 = s1 * 5\n",
    "s4"
   ]
  },
  {
   "cell_type": "code",
   "execution_count": 8,
   "id": "ef15c70b",
   "metadata": {},
   "outputs": [
    {
     "data": {
      "text/plain": [
       "[3, 7, 9, 3, 7, 9]"
      ]
     },
     "execution_count": 8,
     "metadata": {},
     "output_type": "execute_result"
    }
   ],
   "source": [
    "m =[3, 7, 9 ]\n",
    "n = m * 2\n",
    "n"
   ]
  },
  {
   "cell_type": "markdown",
   "id": "f913d034",
   "metadata": {},
   "source": [
    "# ` Operator Overloding : `"
   ]
  },
  {
   "cell_type": "markdown",
   "id": "d5bc6723",
   "metadata": {},
   "source": [
    "The same operator behaving in different manner for different types of input called as OO"
   ]
  },
  {
   "cell_type": "code",
   "execution_count": 10,
   "id": "a1ea8231",
   "metadata": {},
   "outputs": [
    {
     "data": {
      "text/plain": [
       "5"
      ]
     },
     "execution_count": 10,
     "metadata": {},
     "output_type": "execute_result"
    }
   ],
   "source": [
    "2 + 3 # Addition "
   ]
  },
  {
   "cell_type": "code",
   "execution_count": 11,
   "id": "e08c9d59",
   "metadata": {},
   "outputs": [
    {
     "data": {
      "text/plain": [
       "'23'"
      ]
     },
     "execution_count": 11,
     "metadata": {},
     "output_type": "execute_result"
    }
   ],
   "source": [
    "'2' + '3' # Concatination "
   ]
  },
  {
   "cell_type": "code",
   "execution_count": 12,
   "id": "837acf7a",
   "metadata": {},
   "outputs": [],
   "source": [
    "# here the operator '+' behaves differently as shown above \n"
   ]
  },
  {
   "cell_type": "code",
   "execution_count": 13,
   "id": "dc5ef740",
   "metadata": {},
   "outputs": [
    {
     "data": {
      "text/plain": [
       "6"
      ]
     },
     "execution_count": 13,
     "metadata": {},
     "output_type": "execute_result"
    }
   ],
   "source": [
    "2 * 3"
   ]
  },
  {
   "cell_type": "code",
   "execution_count": 14,
   "id": "9885f98c",
   "metadata": {},
   "outputs": [
    {
     "data": {
      "text/plain": [
       "'222'"
      ]
     },
     "execution_count": 14,
     "metadata": {},
     "output_type": "execute_result"
    }
   ],
   "source": [
    "'2' * 3  # repetation"
   ]
  },
  {
   "cell_type": "markdown",
   "id": "802f3341",
   "metadata": {},
   "source": [
    "### Indexing"
   ]
  },
  {
   "cell_type": "code",
   "execution_count": 15,
   "id": "f226fdf6",
   "metadata": {},
   "outputs": [
    {
     "data": {
      "text/plain": [
       "'o'"
      ]
     },
     "execution_count": 15,
     "metadata": {},
     "output_type": "execute_result"
    }
   ],
   "source": [
    "s = 'hello'\n",
    "s[-1]\n"
   ]
  },
  {
   "cell_type": "markdown",
   "id": "815d74e9",
   "metadata": {},
   "source": [
    "### Slicing \n",
    "\n",
    "- Syntax ; collection[ start: stop : stepsize = 1]\n"
   ]
  },
  {
   "cell_type": "code",
   "execution_count": 17,
   "id": "6f4c1e1f",
   "metadata": {},
   "outputs": [
    {
     "data": {
      "text/plain": [
       "['e', 8, 1]"
      ]
     },
     "execution_count": 17,
     "metadata": {},
     "output_type": "execute_result"
    }
   ],
   "source": [
    "m = [2, 'e', 8,  1 ]\n",
    "m[1:4]"
   ]
  },
  {
   "cell_type": "code",
   "execution_count": 18,
   "id": "e07203e0",
   "metadata": {},
   "outputs": [
    {
     "data": {
      "text/plain": [
       "[2, 'e', 8]"
      ]
     },
     "execution_count": 18,
     "metadata": {},
     "output_type": "execute_result"
    }
   ],
   "source": [
    "m[0: 3]"
   ]
  },
  {
   "cell_type": "code",
   "execution_count": 19,
   "id": "cb82b24b",
   "metadata": {},
   "outputs": [
    {
     "data": {
      "text/plain": [
       "[2, 'e', 8]"
      ]
     },
     "execution_count": 19,
     "metadata": {},
     "output_type": "execute_result"
    }
   ],
   "source": [
    "m[:3] # starts form index 0 y default "
   ]
  },
  {
   "cell_type": "code",
   "execution_count": 21,
   "id": "9cca4b70",
   "metadata": {},
   "outputs": [
    {
     "data": {
      "text/plain": [
       "['e', 8, 1]"
      ]
     },
     "execution_count": 21,
     "metadata": {},
     "output_type": "execute_result"
    }
   ],
   "source": [
    "m[1: 4]"
   ]
  },
  {
   "cell_type": "code",
   "execution_count": 23,
   "id": "cbe2e100",
   "metadata": {},
   "outputs": [
    {
     "data": {
      "text/plain": [
       "['e', 8, 1]"
      ]
     },
     "execution_count": 23,
     "metadata": {},
     "output_type": "execute_result"
    }
   ],
   "source": [
    "m[1:] # goes till last index by default"
   ]
  },
  {
   "cell_type": "code",
   "execution_count": 25,
   "id": "51cd1d66",
   "metadata": {},
   "outputs": [
    {
     "data": {
      "text/plain": [
       "[2, 8]"
      ]
     },
     "execution_count": 25,
     "metadata": {},
     "output_type": "execute_result"
    }
   ],
   "source": [
    "m[0:8:2]"
   ]
  },
  {
   "cell_type": "code",
   "execution_count": 26,
   "id": "288cd1d9",
   "metadata": {},
   "outputs": [
    {
     "data": {
      "text/plain": [
       "[2, 8]"
      ]
     },
     "execution_count": 26,
     "metadata": {},
     "output_type": "execute_result"
    }
   ],
   "source": [
    "m[:8:2]"
   ]
  },
  {
   "cell_type": "code",
   "execution_count": 27,
   "id": "85fa8df7",
   "metadata": {},
   "outputs": [
    {
     "data": {
      "text/plain": [
       "[2, 8]"
      ]
     },
     "execution_count": 27,
     "metadata": {},
     "output_type": "execute_result"
    }
   ],
   "source": [
    "m[::2] # from start till end stepsize of 2"
   ]
  },
  {
   "cell_type": "code",
   "execution_count": 28,
   "id": "f7519bc9",
   "metadata": {},
   "outputs": [
    {
     "data": {
      "text/plain": [
       "[1, 8, 'e', 2]"
      ]
     },
     "execution_count": 28,
     "metadata": {},
     "output_type": "execute_result"
    }
   ],
   "source": [
    "m[::-1] #reverse the entire list"
   ]
  },
  {
   "cell_type": "code",
   "execution_count": 29,
   "id": "89d3a9a8",
   "metadata": {},
   "outputs": [
    {
     "data": {
      "text/plain": [
       "'hello'"
      ]
     },
     "execution_count": 29,
     "metadata": {},
     "output_type": "execute_result"
    }
   ],
   "source": [
    "s"
   ]
  },
  {
   "cell_type": "code",
   "execution_count": 30,
   "id": "366952b0",
   "metadata": {},
   "outputs": [
    {
     "data": {
      "text/plain": [
       "'olleh'"
      ]
     },
     "execution_count": 30,
     "metadata": {},
     "output_type": "execute_result"
    }
   ],
   "source": [
    "s[::-1]"
   ]
  },
  {
   "cell_type": "markdown",
   "id": "f75b889c",
   "metadata": {},
   "source": [
    "The key difference between slicing and reverse is that \n",
    "- slicing creates new list \n",
    "- Reverse makes changes into exesting list"
   ]
  },
  {
   "cell_type": "code",
   "execution_count": 31,
   "id": "8a16003e",
   "metadata": {},
   "outputs": [
    {
     "data": {
      "text/plain": [
       "[2, 'e', 8, 1]"
      ]
     },
     "execution_count": 31,
     "metadata": {},
     "output_type": "execute_result"
    }
   ],
   "source": [
    "m"
   ]
  },
  {
   "cell_type": "code",
   "execution_count": 32,
   "id": "d39e5fb0",
   "metadata": {},
   "outputs": [
    {
     "data": {
      "text/plain": [
       "[1, 8, 'e', 2]"
      ]
     },
     "execution_count": 32,
     "metadata": {},
     "output_type": "execute_result"
    }
   ],
   "source": [
    "m[::-1]"
   ]
  },
  {
   "cell_type": "code",
   "execution_count": 37,
   "id": "ed5f9587",
   "metadata": {},
   "outputs": [
    {
     "data": {
      "text/plain": [
       "[2, 'e', 8, 1]"
      ]
     },
     "execution_count": 37,
     "metadata": {},
     "output_type": "execute_result"
    }
   ],
   "source": [
    "m\n"
   ]
  },
  {
   "cell_type": "code",
   "execution_count": 44,
   "id": "4e0cf858",
   "metadata": {},
   "outputs": [],
   "source": [
    "q = [4,3,7]\n",
    "q.reverse()"
   ]
  },
  {
   "cell_type": "code",
   "execution_count": 46,
   "id": "856bf8e3",
   "metadata": {},
   "outputs": [
    {
     "data": {
      "text/plain": [
       "[1, 8, 'e', 2]"
      ]
     },
     "execution_count": 46,
     "metadata": {},
     "output_type": "execute_result"
    }
   ],
   "source": [
    "m"
   ]
  },
  {
   "cell_type": "code",
   "execution_count": 47,
   "id": "644604ae",
   "metadata": {},
   "outputs": [
    {
     "data": {
      "text/plain": [
       "[2, 'e']"
      ]
     },
     "execution_count": 47,
     "metadata": {},
     "output_type": "execute_result"
    }
   ],
   "source": [
    "m[4:1:-1]"
   ]
  },
  {
   "cell_type": "code",
   "execution_count": 2,
   "id": "afa742bb",
   "metadata": {},
   "outputs": [
    {
     "data": {
      "text/plain": [
       "['7', '8', '90']"
      ]
     },
     "execution_count": 2,
     "metadata": {},
     "output_type": "execute_result"
    }
   ],
   "source": [
    "n =['7', '8', '90', '5','88']\n",
    "n[0:3]"
   ]
  },
  {
   "cell_type": "code",
   "execution_count": 4,
   "id": "c65fc100",
   "metadata": {},
   "outputs": [
    {
     "data": {
      "text/plain": [
       "['7', '8']"
      ]
     },
     "execution_count": 4,
     "metadata": {},
     "output_type": "execute_result"
    }
   ],
   "source": [
    "n [0:2]"
   ]
  },
  {
   "cell_type": "code",
   "execution_count": 6,
   "id": "d211938f",
   "metadata": {},
   "outputs": [
    {
     "data": {
      "text/plain": [
       "['90', '5', '88']"
      ]
     },
     "execution_count": 6,
     "metadata": {},
     "output_type": "execute_result"
    }
   ],
   "source": [
    "n[2:]"
   ]
  }
 ],
 "metadata": {
  "kernelspec": {
   "display_name": "Python 3 (ipykernel)",
   "language": "python",
   "name": "python3"
  },
  "language_info": {
   "codemirror_mode": {
    "name": "ipython",
    "version": 3
   },
   "file_extension": ".py",
   "mimetype": "text/x-python",
   "name": "python",
   "nbconvert_exporter": "python",
   "pygments_lexer": "ipython3",
   "version": "3.10.9"
  }
 },
 "nbformat": 4,
 "nbformat_minor": 5
}
